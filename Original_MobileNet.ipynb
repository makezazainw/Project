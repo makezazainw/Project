{
  "nbformat": 4,
  "nbformat_minor": 0,
  "metadata": {
    "colab": {
      "name": "Original MobileNet.ipynb",
      "provenance": [],
      "collapsed_sections": [],
      "toc_visible": true,
      "mount_file_id": "1osUluB3gppyVbuLL_wvtwTXittOO6UHP",
      "authorship_tag": "ABX9TyPOqLJ/3MjhfFljspbowSOv",
      "include_colab_link": true
    },
    "kernelspec": {
      "name": "python3",
      "display_name": "Python 3"
    },
    "accelerator": "GPU"
  },
  "cells": [
    {
      "cell_type": "markdown",
      "metadata": {
        "id": "view-in-github",
        "colab_type": "text"
      },
      "source": [
        "<a href=\"https://colab.research.google.com/github/makezazainw/Project/blob/main/Original_MobileNet.ipynb\" target=\"_parent\"><img src=\"https://colab.research.google.com/assets/colab-badge.svg\" alt=\"Open In Colab\"/></a>"
      ]
    },
    {
      "cell_type": "markdown",
      "metadata": {
        "id": "mew3lwAMaXDH"
      },
      "source": [
        "### **ติดตั้ง Kaggle เเละ เรียกใช้ไฟล์ json เพื่อติดต่อใช้ dataset ใน kaggle**"
      ]
    },
    {
      "cell_type": "code",
      "metadata": {
        "id": "Y5m_qIXOabnO",
        "colab": {
          "base_uri": "https://localhost:8080/"
        },
        "outputId": "cb08c466-89cc-43ee-c686-0a1ef9086661"
      },
      "source": [
        "# Install Kaggle API\n",
        "!pip install -q kaggle\n",
        "!pip install -q kaggle-cli"
      ],
      "execution_count": null,
      "outputs": [
        {
          "output_type": "stream",
          "text": [
            "\u001b[K     |████████████████████████████████| 81kB 4.5MB/s \n",
            "\u001b[K     |████████████████████████████████| 5.3MB 8.7MB/s \n",
            "\u001b[K     |████████████████████████████████| 51kB 9.0MB/s \n",
            "\u001b[K     |████████████████████████████████| 112kB 50.8MB/s \n",
            "\u001b[K     |████████████████████████████████| 133kB 55.8MB/s \n",
            "\u001b[?25h  Building wheel for kaggle-cli (setup.py) ... \u001b[?25l\u001b[?25hdone\n",
            "  Building wheel for PrettyTable (setup.py) ... \u001b[?25l\u001b[?25hdone\n",
            "  Building wheel for pyperclip (setup.py) ... \u001b[?25l\u001b[?25hdone\n"
          ],
          "name": "stdout"
        }
      ]
    },
    {
      "cell_type": "code",
      "metadata": {
        "id": "a_kkUe3valvy"
      },
      "source": [
        "# only for google colab\n",
        "import os\n",
        "os.environ['KAGGLE_USERNAME'] = \"thammatattantipitham\" \n",
        "os.environ['KAGGLE_KEY'] = \"3cf826ab97707228fb1602519992740b\""
      ],
      "execution_count": null,
      "outputs": []
    },
    {
      "cell_type": "code",
      "metadata": {
        "id": "jtsvYa8manW1",
        "colab": {
          "base_uri": "https://localhost:8080/"
        },
        "outputId": "48ec356f-6625-4b73-eb38-cb63535c2454"
      },
      "source": [
        "!kaggle datasets download -d thammatattantipitham/thaiherb --unzip"
      ],
      "execution_count": null,
      "outputs": [
        {
          "output_type": "stream",
          "text": [
            "Downloading thaiherb.zip to /content\n",
            " 82% 30.0M/36.8M [00:00<00:00, 40.5MB/s]\n",
            "100% 36.8M/36.8M [00:00<00:00, 53.9MB/s]\n"
          ],
          "name": "stdout"
        }
      ]
    },
    {
      "cell_type": "code",
      "metadata": {
        "id": "Ihulub6paq8a"
      },
      "source": [
        "#สร้างไฟล์ folder ขึ้นมาเเละเพิ่มข้อมูลเข้าไปใน folder\n",
        "!mkdir thaiherb\n",
        "!mv  \"train\" \"val\" thaiherb"
      ],
      "execution_count": null,
      "outputs": []
    },
    {
      "cell_type": "markdown",
      "metadata": {
        "id": "yUU4GFLxa2pv"
      },
      "source": [
        "### **เริ่มต้นการ import library ต่างๆเเละการเรียกใช้ไฟล์**\n"
      ]
    },
    {
      "cell_type": "code",
      "metadata": {
        "id": "08sp2eppa_-2",
        "colab": {
          "base_uri": "https://localhost:8080/",
          "height": 35
        },
        "outputId": "ba17ba51-fd1e-4c47-961d-6d4a1daba92d"
      },
      "source": [
        "import sys\n",
        "import time\n",
        "import cv2\n",
        "import numpy as np\n",
        "from matplotlib import pyplot as plt\n",
        "import tensorflow as tf\n",
        "import os\n",
        "import keras\n",
        "\n",
        "from skimage.transform import resize\n",
        "from sklearn.model_selection import train_test_split\n",
        "\n",
        "from tensorflow.python.keras.utils import np_utils\n",
        "from tensorflow.python.keras.models import Sequential, Model\n",
        "from tensorflow.python.keras.layers import Dense, Dropout, Flatten, Activation, BatchNormalization\n",
        "from tensorflow.python.keras.layers.convolutional import Conv2D, MaxPooling2D, AveragePooling2D\n",
        "from tensorflow.python.keras.preprocessing.image import ImageDataGenerator\n",
        "from tensorflow.python.keras.optimizers import RMSprop\n",
        "from tensorflow.python.keras.applications.vgg19 import VGG19\n",
        "from tensorflow.python.keras.applications.mobilenet import MobileNet\n",
        "from tensorflow.keras.applications.resnet50 import ResNet50, preprocess_input\n",
        "from tensorflow.keras.optimizers import Adam\n",
        "from keras.applications import InceptionV3\n",
        "sys.version"
      ],
      "execution_count": null,
      "outputs": [
        {
          "output_type": "execute_result",
          "data": {
            "application/vnd.google.colaboratory.intrinsic+json": {
              "type": "string"
            },
            "text/plain": [
              "'3.6.9 (default, Oct  8 2020, 12:12:24) \\n[GCC 8.4.0]'"
            ]
          },
          "metadata": {
            "tags": []
          },
          "execution_count": 5
        }
      ]
    },
    {
      "cell_type": "code",
      "metadata": {
        "id": "SM_5RRq_bAAp",
        "colab": {
          "base_uri": "https://localhost:8080/"
        },
        "outputId": "d53e8dc2-8583-4328-9ba1-63064546dfbb"
      },
      "source": [
        "from tensorflow.compat.v1.keras.backend import set_session\n",
        "\n",
        "config = tf.compat.v1.ConfigProto()\n",
        "\n",
        "config.gpu_options.allow_growth = True  # dynamically grow the memory used on the GPU\n",
        "\n",
        "config.log_device_placement = True  # to log device placement (on which device the operation ran)\n",
        "\n",
        "sess = tf.compat.v1.Session(config=config)\n",
        "\n",
        "set_session(sess)"
      ],
      "execution_count": null,
      "outputs": [
        {
          "output_type": "stream",
          "text": [
            "Device mapping:\n",
            "/job:localhost/replica:0/task:0/device:XLA_CPU:0 -> device: XLA_CPU device\n",
            "/job:localhost/replica:0/task:0/device:XLA_GPU:0 -> device: XLA_GPU device\n",
            "/job:localhost/replica:0/task:0/device:GPU:0 -> device: 0, name: Tesla P4, pci bus id: 0000:00:04.0, compute capability: 6.1\n",
            "\n"
          ],
          "name": "stdout"
        }
      ]
    },
    {
      "cell_type": "code",
      "metadata": {
        "id": "9vm7Vog_bEAP"
      },
      "source": [
        "DATASET_PATH  = 'thaiherb/'\n",
        "IMAGE_SIZE    = (224, 224)\n",
        "NUM_CLASSES   = 10\n",
        "BATCH_SIZE    = 32  # try reducing batch size or freeze more layers if your GPU runs out of memory\n",
        "epochs    = 200"
      ],
      "execution_count": null,
      "outputs": []
    },
    {
      "cell_type": "code",
      "metadata": {
        "id": "PNu6CAPDbECl"
      },
      "source": [
        "#ทำ aug มาเเล้ว\n",
        "train_datagen = ImageDataGenerator(preprocessing_function=preprocess_input)"
      ],
      "execution_count": null,
      "outputs": []
    },
    {
      "cell_type": "code",
      "metadata": {
        "id": "jDKsFAH_bEE1",
        "colab": {
          "base_uri": "https://localhost:8080/"
        },
        "outputId": "a29ae535-2c8c-4c85-cd4f-169585783e49"
      },
      "source": [
        "#set training data\n",
        "train_generator = train_datagen.flow_from_directory(DATASET_PATH+ r\"train/\",\n",
        "                                                    target_size = IMAGE_SIZE,\n",
        "                                                    # batch_size = BATCH_SIZE,\n",
        "                                                    class_mode='categorical',\n",
        "                                                    shuffle = True,\n",
        "                                                    subset='training')"
      ],
      "execution_count": null,
      "outputs": [
        {
          "output_type": "stream",
          "text": [
            "Found 825 images belonging to 10 classes.\n"
          ],
          "name": "stdout"
        }
      ]
    },
    {
      "cell_type": "code",
      "metadata": {
        "id": "w1nB7VakbG_d",
        "colab": {
          "base_uri": "https://localhost:8080/"
        },
        "outputId": "cd5df575-1439-46b4-bb4a-e39bc0f0691c"
      },
      "source": [
        "valid_datagen = ImageDataGenerator(preprocessing_function=preprocess_input)\n",
        "valid_generator = valid_datagen.flow_from_directory(DATASET_PATH+ r\"val/\",                                      \n",
        "                                                    target_size = IMAGE_SIZE,\n",
        "                                                    # batch_size = 1,\n",
        "                                                    class_mode='categorical',\n",
        "                                                    shuffle = True\n",
        "                                                    )"
      ],
      "execution_count": null,
      "outputs": [
        {
          "output_type": "stream",
          "text": [
            "Found 359 images belonging to 10 classes.\n"
          ],
          "name": "stdout"
        }
      ]
    },
    {
      "cell_type": "markdown",
      "metadata": {
        "id": "5H1qvuqFbNM6"
      },
      "source": [
        "### **Model MobileNet**"
      ]
    },
    {
      "cell_type": "code",
      "metadata": {
        "id": "T9TaFF44bHBy",
        "colab": {
          "base_uri": "https://localhost:8080/"
        },
        "outputId": "27f7ee3e-8743-452e-a2c7-e4d019500e32"
      },
      "source": [
        "# Include the epoch in the file name (uses `str.format`)\n",
        "checkpoint_path = \"training_MobNet/cp-{epoch:04d}.ckpt\"\n",
        "checkpoint_dir = os.path.dirname(checkpoint_path)\n",
        "\n",
        "# Create a callback that saves the model's weights every 5 epochs\n",
        "cp_callback = tf.keras.callbacks.ModelCheckpoint(\n",
        "    filepath=checkpoint_path, \n",
        "    verbose=1, \n",
        "    save_weights_only=True,\n",
        "    period=50)\n",
        "\n",
        "#Create the model\n",
        "base_MobNet = MobileNet(include_top=False,weights='imagenet',input_shape=(IMAGE_SIZE[0],IMAGE_SIZE[1],3))\n",
        "\n",
        "model_mobnet = Sequential()\n",
        "model_mobnet.add(base_MobNet) \n",
        "model_mobnet.add(Flatten()) \n",
        "model_mobnet.add(Dense(512,activation=('relu'),input_dim=64))\n",
        "model_mobnet.add(Dense(256,activation=('relu'))) \n",
        "model_mobnet.add(Dense(128,activation=('relu'))) \n",
        "model_mobnet.add(Dropout(.3))\n",
        "model_mobnet.add(Dense(64,activation=('relu')))\n",
        "model_mobnet.add(Dropout(.2))\n",
        "model_mobnet.add(Dense(10,activation=('softmax')))\n",
        "\n",
        "# Save the weights using the `checkpoint_path` format\n",
        "model_mobnet.save_weights(checkpoint_path.format(epoch=0))"
      ],
      "execution_count": null,
      "outputs": [
        {
          "output_type": "stream",
          "text": [
            "WARNING:tensorflow:`period` argument is deprecated. Please use `save_freq` to specify the frequency in number of batches seen.\n",
            "Downloading data from https://storage.googleapis.com/tensorflow/keras-applications/mobilenet/mobilenet_1_0_224_tf_no_top.h5\n",
            "17227776/17225924 [==============================] - 0s 0us/step\n"
          ],
          "name": "stdout"
        }
      ]
    },
    {
      "cell_type": "code",
      "metadata": {
        "id": "kQ0_WfpMgCUv",
        "colab": {
          "base_uri": "https://localhost:8080/"
        },
        "outputId": "89d7156a-6012-42dd-b0f9-0af98cc3da19"
      },
      "source": [
        "model_mobnet.summary()"
      ],
      "execution_count": null,
      "outputs": [
        {
          "output_type": "stream",
          "text": [
            "Model: \"sequential\"\n",
            "_________________________________________________________________\n",
            "Layer (type)                 Output Shape              Param #   \n",
            "=================================================================\n",
            "mobilenet_1.00_224 (Function (None, 7, 7, 1024)        3228864   \n",
            "_________________________________________________________________\n",
            "flatten (Flatten)            (None, 50176)             0         \n",
            "_________________________________________________________________\n",
            "dense (Dense)                (None, 512)               25690624  \n",
            "_________________________________________________________________\n",
            "dense_1 (Dense)              (None, 256)               131328    \n",
            "_________________________________________________________________\n",
            "dense_2 (Dense)              (None, 128)               32896     \n",
            "_________________________________________________________________\n",
            "dropout (Dropout)            (None, 128)               0         \n",
            "_________________________________________________________________\n",
            "dense_3 (Dense)              (None, 64)                8256      \n",
            "_________________________________________________________________\n",
            "dropout_1 (Dropout)          (None, 64)                0         \n",
            "_________________________________________________________________\n",
            "dense_4 (Dense)              (None, 10)                650       \n",
            "=================================================================\n",
            "Total params: 29,092,618\n",
            "Trainable params: 29,070,730\n",
            "Non-trainable params: 21,888\n",
            "_________________________________________________________________\n"
          ],
          "name": "stdout"
        }
      ]
    },
    {
      "cell_type": "code",
      "metadata": {
        "id": "oE2Ja7aGjq7t"
      },
      "source": [
        "model_mobnet.compile(optimizer=Adam(lr=0.0001),  #Adam(lr=1e-5)\n",
        "                  loss='categorical_crossentropy', metrics=['accuracy'])"
      ],
      "execution_count": null,
      "outputs": []
    },
    {
      "cell_type": "code",
      "metadata": {
        "id": "HqpePAyfbHGf",
        "colab": {
          "base_uri": "https://localhost:8080/"
        },
        "outputId": "85b93f60-4fc3-464a-f99f-d731dd6639a0"
      },
      "source": [
        "start = time.time()\n",
        "\n",
        "history = model_mobnet.fit_generator(\n",
        "    generator=train_generator, \n",
        "    steps_per_epoch=train_generator.samples//BATCH_SIZE,   # -> 106 # images 3392 = steps * batch_size = 106 * 32 \n",
        "    epochs=epochs, \n",
        "    validation_steps=valid_generator.samples//BATCH_SIZE, # -> 26 # images 832 = steps * batch_size = 26 * 32\n",
        "    validation_data=valid_generator,\n",
        "    callbacks = [cp_callback],\n",
        "    verbose = 1\n",
        ")\n",
        "\n",
        "end = time.time()\n",
        "duration = end - start\n",
        "print ('\\n model_mobnet took %0.2f seconds (%0.1f minutes) to train for %d epochs'%(duration, duration/60, epochs) )"
      ],
      "execution_count": null,
      "outputs": [
        {
          "output_type": "stream",
          "text": [
            "Epoch 1/200\n",
            " 2/25 [=>............................] - ETA: 6s - loss: 0.2766 - accuracy: 0.9062WARNING:tensorflow:Callbacks method `on_train_batch_end` is slow compared to the batch time (batch time: 0.0678s vs `on_train_batch_end` time: 0.2147s). Check your callbacks.\n",
            "25/25 [==============================] - 8s 304ms/step - loss: 0.3362 - accuracy: 0.8852 - val_loss: 0.3425 - val_accuracy: 0.8977\n",
            "Epoch 2/200\n",
            "25/25 [==============================] - 7s 298ms/step - loss: 0.2174 - accuracy: 0.9256 - val_loss: 0.1050 - val_accuracy: 0.9631\n",
            "Epoch 3/200\n",
            "25/25 [==============================] - 8s 300ms/step - loss: 0.1233 - accuracy: 0.9609 - val_loss: 0.1945 - val_accuracy: 0.9517\n",
            "Epoch 4/200\n",
            "25/25 [==============================] - 7s 299ms/step - loss: 0.0961 - accuracy: 0.9584 - val_loss: 0.0542 - val_accuracy: 0.9830\n",
            "Epoch 5/200\n",
            "25/25 [==============================] - 7s 299ms/step - loss: 0.0924 - accuracy: 0.9710 - val_loss: 0.0164 - val_accuracy: 0.9943\n",
            "Epoch 6/200\n",
            "25/25 [==============================] - 7s 296ms/step - loss: 0.0527 - accuracy: 0.9811 - val_loss: 0.0142 - val_accuracy: 0.9915\n",
            "Epoch 7/200\n",
            "25/25 [==============================] - 7s 299ms/step - loss: 0.0441 - accuracy: 0.9811 - val_loss: 0.0104 - val_accuracy: 0.9972\n",
            "Epoch 8/200\n",
            "25/25 [==============================] - 7s 296ms/step - loss: 0.0553 - accuracy: 0.9811 - val_loss: 0.0132 - val_accuracy: 0.9943\n",
            "Epoch 9/200\n",
            "25/25 [==============================] - 7s 297ms/step - loss: 0.0657 - accuracy: 0.9811 - val_loss: 0.0241 - val_accuracy: 0.9915\n",
            "Epoch 10/200\n",
            "25/25 [==============================] - 7s 295ms/step - loss: 0.0613 - accuracy: 0.9811 - val_loss: 0.0157 - val_accuracy: 0.9943\n",
            "Epoch 11/200\n",
            "25/25 [==============================] - 7s 297ms/step - loss: 0.0370 - accuracy: 0.9861 - val_loss: 0.0236 - val_accuracy: 0.9915\n",
            "Epoch 12/200\n",
            "25/25 [==============================] - 7s 298ms/step - loss: 0.0439 - accuracy: 0.9861 - val_loss: 0.0370 - val_accuracy: 0.9886\n",
            "Epoch 13/200\n",
            "25/25 [==============================] - 7s 298ms/step - loss: 0.0285 - accuracy: 0.9912 - val_loss: 0.0198 - val_accuracy: 0.9943\n",
            "Epoch 14/200\n",
            "25/25 [==============================] - 8s 302ms/step - loss: 0.0242 - accuracy: 0.9924 - val_loss: 0.0240 - val_accuracy: 0.9943\n",
            "Epoch 15/200\n",
            "25/25 [==============================] - 7s 294ms/step - loss: 0.0234 - accuracy: 0.9924 - val_loss: 0.0312 - val_accuracy: 0.9886\n",
            "Epoch 16/200\n",
            "25/25 [==============================] - 7s 297ms/step - loss: 0.0228 - accuracy: 0.9937 - val_loss: 0.0117 - val_accuracy: 0.9943\n",
            "Epoch 17/200\n",
            "25/25 [==============================] - 7s 297ms/step - loss: 0.0127 - accuracy: 0.9950 - val_loss: 0.0105 - val_accuracy: 0.9972\n",
            "Epoch 18/200\n",
            "25/25 [==============================] - 8s 300ms/step - loss: 0.0188 - accuracy: 0.9937 - val_loss: 0.0258 - val_accuracy: 0.9943\n",
            "Epoch 19/200\n",
            "25/25 [==============================] - 8s 303ms/step - loss: 0.0235 - accuracy: 0.9937 - val_loss: 0.0221 - val_accuracy: 0.9943\n",
            "Epoch 20/200\n",
            "25/25 [==============================] - 8s 301ms/step - loss: 0.0278 - accuracy: 0.9849 - val_loss: 0.0037 - val_accuracy: 1.0000\n",
            "Epoch 21/200\n",
            "25/25 [==============================] - 8s 302ms/step - loss: 0.0284 - accuracy: 0.9924 - val_loss: 0.0151 - val_accuracy: 0.9943\n",
            "Epoch 22/200\n",
            "25/25 [==============================] - 8s 301ms/step - loss: 0.0160 - accuracy: 0.9950 - val_loss: 0.0181 - val_accuracy: 0.9915\n",
            "Epoch 23/200\n",
            "25/25 [==============================] - 8s 302ms/step - loss: 0.0366 - accuracy: 0.9912 - val_loss: 0.0123 - val_accuracy: 0.9972\n",
            "Epoch 24/200\n",
            "25/25 [==============================] - 8s 303ms/step - loss: 0.0112 - accuracy: 0.9950 - val_loss: 0.0148 - val_accuracy: 0.9943\n",
            "Epoch 25/200\n",
            "25/25 [==============================] - 8s 300ms/step - loss: 0.0180 - accuracy: 0.9924 - val_loss: 0.0178 - val_accuracy: 0.9915\n",
            "Epoch 26/200\n",
            "25/25 [==============================] - 8s 300ms/step - loss: 0.0337 - accuracy: 0.9887 - val_loss: 0.0198 - val_accuracy: 0.9943\n",
            "Epoch 27/200\n",
            "25/25 [==============================] - 8s 303ms/step - loss: 0.0181 - accuracy: 0.9950 - val_loss: 0.0369 - val_accuracy: 0.9915\n",
            "Epoch 28/200\n",
            "25/25 [==============================] - 8s 303ms/step - loss: 0.0182 - accuracy: 0.9924 - val_loss: 0.0057 - val_accuracy: 0.9972\n",
            "Epoch 29/200\n",
            "25/25 [==============================] - 8s 303ms/step - loss: 0.0414 - accuracy: 0.9874 - val_loss: 0.0263 - val_accuracy: 0.9943\n",
            "Epoch 30/200\n",
            "25/25 [==============================] - 7s 297ms/step - loss: 0.0144 - accuracy: 0.9924 - val_loss: 0.0189 - val_accuracy: 0.9972\n",
            "Epoch 31/200\n",
            "25/25 [==============================] - 8s 300ms/step - loss: 0.0156 - accuracy: 0.9962 - val_loss: 0.0069 - val_accuracy: 1.0000\n",
            "Epoch 32/200\n",
            "25/25 [==============================] - 8s 300ms/step - loss: 0.0200 - accuracy: 0.9937 - val_loss: 0.0093 - val_accuracy: 0.9972\n",
            "Epoch 33/200\n",
            "25/25 [==============================] - 7s 299ms/step - loss: 0.0152 - accuracy: 0.9950 - val_loss: 0.0052 - val_accuracy: 0.9972\n",
            "Epoch 34/200\n",
            "25/25 [==============================] - 8s 300ms/step - loss: 0.0055 - accuracy: 0.9975 - val_loss: 1.2944e-04 - val_accuracy: 1.0000\n",
            "Epoch 35/200\n",
            "25/25 [==============================] - 7s 299ms/step - loss: 0.0104 - accuracy: 0.9950 - val_loss: 0.0017 - val_accuracy: 1.0000\n",
            "Epoch 36/200\n",
            "25/25 [==============================] - 8s 305ms/step - loss: 0.0083 - accuracy: 0.9987 - val_loss: 0.0155 - val_accuracy: 0.9943\n",
            "Epoch 37/200\n",
            "25/25 [==============================] - 7s 297ms/step - loss: 0.0125 - accuracy: 0.9962 - val_loss: 0.0166 - val_accuracy: 0.9943\n",
            "Epoch 38/200\n",
            "25/25 [==============================] - 8s 301ms/step - loss: 0.0206 - accuracy: 0.9937 - val_loss: 0.0469 - val_accuracy: 0.9943\n",
            "Epoch 39/200\n",
            "25/25 [==============================] - 8s 302ms/step - loss: 0.0259 - accuracy: 0.9950 - val_loss: 0.0523 - val_accuracy: 0.9943\n",
            "Epoch 40/200\n",
            "25/25 [==============================] - 8s 302ms/step - loss: 0.0478 - accuracy: 0.9899 - val_loss: 0.0231 - val_accuracy: 0.9943\n",
            "Epoch 41/200\n",
            "25/25 [==============================] - 7s 300ms/step - loss: 0.0053 - accuracy: 0.9975 - val_loss: 0.0836 - val_accuracy: 0.9830\n",
            "Epoch 42/200\n",
            "25/25 [==============================] - 7s 297ms/step - loss: 0.0317 - accuracy: 0.9962 - val_loss: 0.0247 - val_accuracy: 0.9915\n",
            "Epoch 43/200\n",
            "25/25 [==============================] - 8s 303ms/step - loss: 0.0100 - accuracy: 0.9962 - val_loss: 0.0363 - val_accuracy: 0.9915\n",
            "Epoch 44/200\n",
            "25/25 [==============================] - 8s 300ms/step - loss: 0.0056 - accuracy: 0.9987 - val_loss: 0.0156 - val_accuracy: 0.9943\n",
            "Epoch 45/200\n",
            "25/25 [==============================] - 8s 304ms/step - loss: 0.0071 - accuracy: 0.9975 - val_loss: 0.0176 - val_accuracy: 0.9943\n",
            "Epoch 46/200\n",
            "25/25 [==============================] - 8s 302ms/step - loss: 0.0086 - accuracy: 0.9962 - val_loss: 0.0256 - val_accuracy: 0.9915\n",
            "Epoch 47/200\n",
            "25/25 [==============================] - 8s 304ms/step - loss: 0.0025 - accuracy: 1.0000 - val_loss: 0.0413 - val_accuracy: 0.9915\n",
            "Epoch 48/200\n",
            "25/25 [==============================] - 8s 303ms/step - loss: 0.0107 - accuracy: 0.9950 - val_loss: 0.0428 - val_accuracy: 0.9943\n",
            "Epoch 49/200\n",
            "25/25 [==============================] - ETA: 0s - loss: 0.0144 - accuracy: 0.9962\n",
            "Epoch 00049: saving model to training_MobNet/cp-0049.ckpt\n",
            "25/25 [==============================] - 9s 344ms/step - loss: 0.0144 - accuracy: 0.9962 - val_loss: 0.1167 - val_accuracy: 0.9915\n",
            "Epoch 50/200\n",
            "25/25 [==============================] - 7s 299ms/step - loss: 0.0071 - accuracy: 0.9987 - val_loss: 0.1271 - val_accuracy: 0.9915\n",
            "Epoch 51/200\n",
            "25/25 [==============================] - 7s 300ms/step - loss: 0.0232 - accuracy: 0.9937 - val_loss: 0.0627 - val_accuracy: 0.9972\n",
            "Epoch 52/200\n",
            "25/25 [==============================] - 8s 306ms/step - loss: 0.0109 - accuracy: 0.9950 - val_loss: 0.0555 - val_accuracy: 0.9943\n",
            "Epoch 53/200\n",
            "25/25 [==============================] - 8s 301ms/step - loss: 0.0284 - accuracy: 0.9937 - val_loss: 0.0050 - val_accuracy: 0.9972\n",
            "Epoch 54/200\n",
            "25/25 [==============================] - 8s 300ms/step - loss: 0.0370 - accuracy: 0.9950 - val_loss: 0.0013 - val_accuracy: 1.0000\n",
            "Epoch 55/200\n",
            "25/25 [==============================] - 8s 305ms/step - loss: 0.0099 - accuracy: 0.9962 - val_loss: 5.9202e-04 - val_accuracy: 1.0000\n",
            "Epoch 56/200\n",
            "25/25 [==============================] - 7s 298ms/step - loss: 0.0276 - accuracy: 0.9937 - val_loss: 0.0187 - val_accuracy: 0.9972\n",
            "Epoch 57/200\n",
            "25/25 [==============================] - 8s 302ms/step - loss: 0.0308 - accuracy: 0.9962 - val_loss: 0.0109 - val_accuracy: 0.9972\n",
            "Epoch 58/200\n",
            "25/25 [==============================] - 8s 301ms/step - loss: 0.0206 - accuracy: 0.9950 - val_loss: 0.1809 - val_accuracy: 0.9688\n",
            "Epoch 59/200\n",
            "25/25 [==============================] - 8s 303ms/step - loss: 0.0051 - accuracy: 0.9975 - val_loss: 0.0176 - val_accuracy: 0.9943\n",
            "Epoch 60/200\n",
            "25/25 [==============================] - 7s 300ms/step - loss: 0.0039 - accuracy: 0.9962 - val_loss: 0.0154 - val_accuracy: 0.9972\n",
            "Epoch 61/200\n",
            "25/25 [==============================] - 8s 302ms/step - loss: 0.0013 - accuracy: 1.0000 - val_loss: 0.0032 - val_accuracy: 0.9972\n",
            "Epoch 62/200\n",
            "25/25 [==============================] - 8s 305ms/step - loss: 0.0033 - accuracy: 0.9987 - val_loss: 0.0103 - val_accuracy: 0.9943\n",
            "Epoch 63/200\n",
            "25/25 [==============================] - 7s 300ms/step - loss: 0.0045 - accuracy: 0.9987 - val_loss: 0.0093 - val_accuracy: 0.9943\n",
            "Epoch 64/200\n",
            "25/25 [==============================] - 7s 296ms/step - loss: 0.0023 - accuracy: 0.9987 - val_loss: 0.0088 - val_accuracy: 0.9943\n",
            "Epoch 65/200\n",
            "25/25 [==============================] - 8s 301ms/step - loss: 0.0118 - accuracy: 0.9975 - val_loss: 0.0089 - val_accuracy: 0.9972\n",
            "Epoch 66/200\n",
            "25/25 [==============================] - 8s 300ms/step - loss: 0.0400 - accuracy: 0.9937 - val_loss: 0.0083 - val_accuracy: 0.9972\n",
            "Epoch 67/200\n",
            "25/25 [==============================] - 7s 299ms/step - loss: 0.0107 - accuracy: 0.9937 - val_loss: 0.0886 - val_accuracy: 0.9858\n",
            "Epoch 68/200\n",
            "25/25 [==============================] - 8s 305ms/step - loss: 0.0165 - accuracy: 0.9912 - val_loss: 0.0692 - val_accuracy: 0.9943\n",
            "Epoch 69/200\n",
            "25/25 [==============================] - 8s 303ms/step - loss: 0.0358 - accuracy: 0.9912 - val_loss: 0.1726 - val_accuracy: 0.9773\n",
            "Epoch 70/200\n",
            "25/25 [==============================] - 8s 301ms/step - loss: 0.0377 - accuracy: 0.9924 - val_loss: 0.0665 - val_accuracy: 0.9915\n",
            "Epoch 71/200\n",
            "25/25 [==============================] - 7s 299ms/step - loss: 0.0375 - accuracy: 0.9937 - val_loss: 0.1358 - val_accuracy: 0.9801\n",
            "Epoch 72/200\n",
            "25/25 [==============================] - 7s 300ms/step - loss: 0.0656 - accuracy: 0.9899 - val_loss: 1.1403 - val_accuracy: 0.8892\n",
            "Epoch 73/200\n",
            "25/25 [==============================] - 8s 300ms/step - loss: 0.0115 - accuracy: 0.9962 - val_loss: 0.0750 - val_accuracy: 0.9801\n",
            "Epoch 74/200\n",
            "25/25 [==============================] - 8s 302ms/step - loss: 0.1245 - accuracy: 0.9836 - val_loss: 0.3228 - val_accuracy: 0.9574\n",
            "Epoch 75/200\n",
            "25/25 [==============================] - 7s 297ms/step - loss: 0.0803 - accuracy: 0.9874 - val_loss: 0.4033 - val_accuracy: 0.9489\n",
            "Epoch 76/200\n",
            "25/25 [==============================] - 8s 305ms/step - loss: 0.0819 - accuracy: 0.9836 - val_loss: 0.1022 - val_accuracy: 0.9886\n",
            "Epoch 77/200\n",
            "25/25 [==============================] - 8s 305ms/step - loss: 0.1290 - accuracy: 0.9811 - val_loss: 0.1044 - val_accuracy: 0.9773\n",
            "Epoch 78/200\n",
            "25/25 [==============================] - 8s 303ms/step - loss: 0.0446 - accuracy: 0.9861 - val_loss: 0.0906 - val_accuracy: 0.9886\n",
            "Epoch 79/200\n",
            "25/25 [==============================] - 8s 306ms/step - loss: 0.0357 - accuracy: 0.9950 - val_loss: 0.1243 - val_accuracy: 0.9886\n",
            "Epoch 80/200\n",
            "25/25 [==============================] - 8s 302ms/step - loss: 0.0158 - accuracy: 0.9924 - val_loss: 0.0691 - val_accuracy: 0.9915\n",
            "Epoch 81/200\n",
            "25/25 [==============================] - 7s 298ms/step - loss: 0.0060 - accuracy: 0.9987 - val_loss: 0.0539 - val_accuracy: 0.9915\n",
            "Epoch 82/200\n",
            "25/25 [==============================] - 7s 300ms/step - loss: 0.0130 - accuracy: 0.9987 - val_loss: 0.0405 - val_accuracy: 0.9943\n",
            "Epoch 83/200\n",
            "25/25 [==============================] - 8s 300ms/step - loss: 0.0520 - accuracy: 0.9899 - val_loss: 0.0064 - val_accuracy: 0.9972\n",
            "Epoch 84/200\n",
            "25/25 [==============================] - 8s 300ms/step - loss: 0.0161 - accuracy: 0.9987 - val_loss: 0.0103 - val_accuracy: 0.9972\n",
            "Epoch 85/200\n",
            "25/25 [==============================] - 8s 307ms/step - loss: 0.0159 - accuracy: 0.9950 - val_loss: 0.0396 - val_accuracy: 0.9943\n",
            "Epoch 86/200\n",
            "25/25 [==============================] - 8s 305ms/step - loss: 1.6204e-04 - accuracy: 1.0000 - val_loss: 8.1098e-05 - val_accuracy: 1.0000\n",
            "Epoch 87/200\n",
            "25/25 [==============================] - 7s 297ms/step - loss: 0.0101 - accuracy: 0.9987 - val_loss: 8.4389e-05 - val_accuracy: 1.0000\n",
            "Epoch 88/200\n",
            "25/25 [==============================] - 7s 299ms/step - loss: 0.0043 - accuracy: 0.9975 - val_loss: 0.0835 - val_accuracy: 0.9915\n",
            "Epoch 89/200\n",
            "25/25 [==============================] - 8s 302ms/step - loss: 0.0066 - accuracy: 0.9975 - val_loss: 0.1144 - val_accuracy: 0.9886\n",
            "Epoch 90/200\n",
            "25/25 [==============================] - 8s 302ms/step - loss: 7.9757e-04 - accuracy: 1.0000 - val_loss: 0.1114 - val_accuracy: 0.9858\n",
            "Epoch 91/200\n",
            "25/25 [==============================] - 8s 305ms/step - loss: 0.0200 - accuracy: 0.9962 - val_loss: 0.1103 - val_accuracy: 0.9858\n",
            "Epoch 92/200\n",
            "25/25 [==============================] - 8s 304ms/step - loss: 0.0017 - accuracy: 0.9987 - val_loss: 0.0786 - val_accuracy: 0.9886\n",
            "Epoch 93/200\n",
            "25/25 [==============================] - 8s 305ms/step - loss: 7.0487e-05 - accuracy: 1.0000 - val_loss: 0.0693 - val_accuracy: 0.9915\n",
            "Epoch 94/200\n",
            "25/25 [==============================] - 8s 302ms/step - loss: 3.7923e-04 - accuracy: 1.0000 - val_loss: 0.0636 - val_accuracy: 0.9915\n",
            "Epoch 95/200\n",
            "25/25 [==============================] - 7s 299ms/step - loss: 0.0012 - accuracy: 0.9987 - val_loss: 0.0625 - val_accuracy: 0.9915\n",
            "Epoch 96/200\n",
            "25/25 [==============================] - 8s 306ms/step - loss: 0.0202 - accuracy: 0.9987 - val_loss: 0.0378 - val_accuracy: 0.9943\n",
            "Epoch 97/200\n",
            "25/25 [==============================] - 8s 304ms/step - loss: 0.0100 - accuracy: 0.9975 - val_loss: 0.0487 - val_accuracy: 0.9915\n",
            "Epoch 98/200\n",
            "25/25 [==============================] - 8s 303ms/step - loss: 2.6844e-05 - accuracy: 1.0000 - val_loss: 0.0474 - val_accuracy: 0.9915\n",
            "Epoch 99/200\n",
            "25/25 [==============================] - ETA: 0s - loss: 4.4175e-05 - accuracy: 1.0000\n",
            "Epoch 00099: saving model to training_MobNet/cp-0099.ckpt\n",
            "25/25 [==============================] - 8s 334ms/step - loss: 4.4175e-05 - accuracy: 1.0000 - val_loss: 0.0454 - val_accuracy: 0.9915\n",
            "Epoch 100/200\n",
            "25/25 [==============================] - 8s 302ms/step - loss: 6.2677e-04 - accuracy: 1.0000 - val_loss: 0.0428 - val_accuracy: 0.9915\n",
            "Epoch 101/200\n",
            "25/25 [==============================] - 8s 300ms/step - loss: 4.0118e-04 - accuracy: 1.0000 - val_loss: 0.0383 - val_accuracy: 0.9915\n",
            "Epoch 102/200\n",
            "25/25 [==============================] - 8s 301ms/step - loss: 3.2277e-05 - accuracy: 1.0000 - val_loss: 0.0372 - val_accuracy: 0.9915\n",
            "Epoch 103/200\n",
            "25/25 [==============================] - 7s 299ms/step - loss: 2.3128e-04 - accuracy: 1.0000 - val_loss: 0.0310 - val_accuracy: 0.9943\n",
            "Epoch 104/200\n",
            "25/25 [==============================] - 7s 297ms/step - loss: 6.9627e-04 - accuracy: 1.0000 - val_loss: 0.0322 - val_accuracy: 0.9915\n",
            "Epoch 105/200\n",
            "25/25 [==============================] - 8s 302ms/step - loss: 5.5252e-05 - accuracy: 1.0000 - val_loss: 0.0291 - val_accuracy: 0.9943\n",
            "Epoch 106/200\n",
            "25/25 [==============================] - 7s 297ms/step - loss: 0.0029 - accuracy: 0.9987 - val_loss: 0.0244 - val_accuracy: 0.9972\n",
            "Epoch 107/200\n",
            "25/25 [==============================] - 8s 302ms/step - loss: 8.6123e-04 - accuracy: 1.0000 - val_loss: 0.0242 - val_accuracy: 0.9972\n",
            "Epoch 108/200\n",
            "25/25 [==============================] - 8s 307ms/step - loss: 5.4635e-04 - accuracy: 1.0000 - val_loss: 0.0253 - val_accuracy: 0.9972\n",
            "Epoch 109/200\n",
            "25/25 [==============================] - 8s 303ms/step - loss: 0.0097 - accuracy: 0.9975 - val_loss: 0.0281 - val_accuracy: 0.9972\n",
            "Epoch 110/200\n",
            "25/25 [==============================] - 8s 305ms/step - loss: 2.3990e-05 - accuracy: 1.0000 - val_loss: 0.0240 - val_accuracy: 0.9972\n",
            "Epoch 111/200\n",
            "25/25 [==============================] - 7s 298ms/step - loss: 0.0074 - accuracy: 0.9975 - val_loss: 0.0216 - val_accuracy: 0.9972\n",
            "Epoch 112/200\n",
            "25/25 [==============================] - 7s 299ms/step - loss: 0.0044 - accuracy: 0.9987 - val_loss: 0.0430 - val_accuracy: 0.9972\n",
            "Epoch 113/200\n",
            "25/25 [==============================] - 7s 299ms/step - loss: 8.8395e-05 - accuracy: 1.0000 - val_loss: 0.0477 - val_accuracy: 0.9943\n",
            "Epoch 114/200\n",
            "25/25 [==============================] - 7s 299ms/step - loss: 7.9331e-04 - accuracy: 1.0000 - val_loss: 0.0431 - val_accuracy: 0.9972\n",
            "Epoch 115/200\n",
            "25/25 [==============================] - 8s 302ms/step - loss: 0.0020 - accuracy: 0.9987 - val_loss: 0.0452 - val_accuracy: 0.9972\n",
            "Epoch 116/200\n",
            "25/25 [==============================] - 8s 303ms/step - loss: 3.4919e-05 - accuracy: 1.0000 - val_loss: 0.0486 - val_accuracy: 0.9972\n",
            "Epoch 117/200\n",
            "25/25 [==============================] - 8s 303ms/step - loss: 6.1979e-04 - accuracy: 1.0000 - val_loss: 0.0443 - val_accuracy: 0.9972\n",
            "Epoch 118/200\n",
            "25/25 [==============================] - 7s 299ms/step - loss: 0.0039 - accuracy: 0.9987 - val_loss: 0.0439 - val_accuracy: 0.9972\n",
            "Epoch 119/200\n",
            "25/25 [==============================] - 7s 297ms/step - loss: 4.3721e-05 - accuracy: 1.0000 - val_loss: 0.0422 - val_accuracy: 0.9972\n",
            "Epoch 120/200\n",
            "25/25 [==============================] - 8s 301ms/step - loss: 1.6706e-05 - accuracy: 1.0000 - val_loss: 0.0419 - val_accuracy: 0.9972\n",
            "Epoch 121/200\n",
            "25/25 [==============================] - 8s 303ms/step - loss: 4.6562e-04 - accuracy: 1.0000 - val_loss: 0.0413 - val_accuracy: 0.9972\n",
            "Epoch 122/200\n",
            "25/25 [==============================] - 8s 301ms/step - loss: 0.0140 - accuracy: 0.9987 - val_loss: 0.0486 - val_accuracy: 0.9972\n",
            "Epoch 123/200\n",
            "25/25 [==============================] - 8s 304ms/step - loss: 2.6326e-04 - accuracy: 1.0000 - val_loss: 0.0482 - val_accuracy: 0.9972\n",
            "Epoch 124/200\n",
            "25/25 [==============================] - 8s 303ms/step - loss: 2.3439e-04 - accuracy: 1.0000 - val_loss: 0.0475 - val_accuracy: 0.9972\n",
            "Epoch 125/200\n",
            "25/25 [==============================] - 8s 304ms/step - loss: 0.0020 - accuracy: 0.9987 - val_loss: 0.0401 - val_accuracy: 0.9972\n",
            "Epoch 126/200\n",
            "25/25 [==============================] - 8s 304ms/step - loss: 7.3774e-05 - accuracy: 1.0000 - val_loss: 0.0402 - val_accuracy: 0.9972\n",
            "Epoch 127/200\n",
            "25/25 [==============================] - 7s 290ms/step - loss: 7.6117e-04 - accuracy: 1.0000 - val_loss: 0.0414 - val_accuracy: 0.9972\n",
            "Epoch 128/200\n",
            "25/25 [==============================] - 8s 302ms/step - loss: 8.1625e-06 - accuracy: 1.0000 - val_loss: 0.0437 - val_accuracy: 0.9972\n",
            "Epoch 129/200\n",
            "25/25 [==============================] - 8s 305ms/step - loss: 9.5078e-06 - accuracy: 1.0000 - val_loss: 0.0449 - val_accuracy: 0.9972\n",
            "Epoch 130/200\n",
            "25/25 [==============================] - 8s 304ms/step - loss: 0.0044 - accuracy: 0.9987 - val_loss: 0.0423 - val_accuracy: 0.9972\n",
            "Epoch 131/200\n",
            "25/25 [==============================] - 7s 299ms/step - loss: 0.0121 - accuracy: 0.9975 - val_loss: 0.0380 - val_accuracy: 0.9972\n",
            "Epoch 132/200\n",
            "25/25 [==============================] - 8s 304ms/step - loss: 0.0014 - accuracy: 0.9987 - val_loss: 0.0404 - val_accuracy: 0.9943\n",
            "Epoch 133/200\n",
            "25/25 [==============================] - 8s 304ms/step - loss: 0.0029 - accuracy: 0.9987 - val_loss: 0.0417 - val_accuracy: 0.9943\n",
            "Epoch 134/200\n",
            "25/25 [==============================] - 8s 300ms/step - loss: 0.0233 - accuracy: 0.9975 - val_loss: 0.0552 - val_accuracy: 0.9972\n",
            "Epoch 135/200\n",
            "25/25 [==============================] - 8s 305ms/step - loss: 0.0021 - accuracy: 0.9987 - val_loss: 0.0580 - val_accuracy: 0.9972\n",
            "Epoch 136/200\n",
            "25/25 [==============================] - 8s 306ms/step - loss: 9.5391e-05 - accuracy: 1.0000 - val_loss: 0.0553 - val_accuracy: 0.9972\n",
            "Epoch 137/200\n",
            "25/25 [==============================] - 8s 308ms/step - loss: 0.0047 - accuracy: 0.9975 - val_loss: 0.0751 - val_accuracy: 0.9972\n",
            "Epoch 138/200\n",
            "25/25 [==============================] - 8s 300ms/step - loss: 0.0019 - accuracy: 0.9987 - val_loss: 0.0588 - val_accuracy: 0.9972\n",
            "Epoch 139/200\n",
            "25/25 [==============================] - 8s 303ms/step - loss: 0.0080 - accuracy: 0.9975 - val_loss: 0.0530 - val_accuracy: 0.9972\n",
            "Epoch 140/200\n",
            "25/25 [==============================] - 8s 302ms/step - loss: 0.0572 - accuracy: 0.9950 - val_loss: 0.4512 - val_accuracy: 0.9688\n",
            "Epoch 141/200\n",
            "25/25 [==============================] - 8s 304ms/step - loss: 0.0585 - accuracy: 0.9937 - val_loss: 0.3371 - val_accuracy: 0.9602\n",
            "Epoch 142/200\n",
            "25/25 [==============================] - 8s 304ms/step - loss: 0.0254 - accuracy: 0.9924 - val_loss: 0.2109 - val_accuracy: 0.9744\n",
            "Epoch 143/200\n",
            "25/25 [==============================] - 8s 305ms/step - loss: 0.0030 - accuracy: 0.9987 - val_loss: 0.1211 - val_accuracy: 0.9830\n",
            "Epoch 144/200\n",
            "25/25 [==============================] - 8s 304ms/step - loss: 0.0422 - accuracy: 0.9937 - val_loss: 0.8337 - val_accuracy: 0.9545\n",
            "Epoch 145/200\n",
            "25/25 [==============================] - 8s 301ms/step - loss: 0.0315 - accuracy: 0.9962 - val_loss: 0.2013 - val_accuracy: 0.9801\n",
            "Epoch 146/200\n",
            "25/25 [==============================] - 8s 303ms/step - loss: 0.0132 - accuracy: 0.9937 - val_loss: 0.1214 - val_accuracy: 0.9886\n",
            "Epoch 147/200\n",
            "25/25 [==============================] - 8s 304ms/step - loss: 0.0372 - accuracy: 0.9950 - val_loss: 0.0346 - val_accuracy: 0.9972\n",
            "Epoch 148/200\n",
            "25/25 [==============================] - 8s 305ms/step - loss: 0.0183 - accuracy: 0.9950 - val_loss: 0.0292 - val_accuracy: 0.9972\n",
            "Epoch 149/200\n",
            "25/25 [==============================] - ETA: 0s - loss: 0.0696 - accuracy: 0.9924\n",
            "Epoch 00149: saving model to training_MobNet/cp-0149.ckpt\n",
            "25/25 [==============================] - 8s 332ms/step - loss: 0.0696 - accuracy: 0.9924 - val_loss: 5.6376e-04 - val_accuracy: 1.0000\n",
            "Epoch 150/200\n",
            "25/25 [==============================] - 8s 304ms/step - loss: 0.2372 - accuracy: 0.9823 - val_loss: 1.4331 - val_accuracy: 0.9062\n",
            "Epoch 151/200\n",
            "25/25 [==============================] - 8s 307ms/step - loss: 0.0525 - accuracy: 0.9924 - val_loss: 4.6764 - val_accuracy: 0.7955\n",
            "Epoch 152/200\n",
            "25/25 [==============================] - 8s 304ms/step - loss: 0.0094 - accuracy: 0.9950 - val_loss: 2.3699 - val_accuracy: 0.8722\n",
            "Epoch 153/200\n",
            "25/25 [==============================] - 8s 300ms/step - loss: 0.0177 - accuracy: 0.9924 - val_loss: 0.2530 - val_accuracy: 0.9716\n",
            "Epoch 154/200\n",
            "25/25 [==============================] - 8s 302ms/step - loss: 0.0094 - accuracy: 0.9962 - val_loss: 0.0486 - val_accuracy: 0.9858\n",
            "Epoch 155/200\n",
            "25/25 [==============================] - 7s 299ms/step - loss: 0.0070 - accuracy: 0.9975 - val_loss: 0.0239 - val_accuracy: 0.9972\n",
            "Epoch 156/200\n",
            "25/25 [==============================] - 8s 302ms/step - loss: 0.0206 - accuracy: 0.9962 - val_loss: 0.2324 - val_accuracy: 0.9858\n",
            "Epoch 157/200\n",
            "25/25 [==============================] - 8s 304ms/step - loss: 0.0079 - accuracy: 0.9987 - val_loss: 0.1066 - val_accuracy: 0.9915\n",
            "Epoch 158/200\n",
            "25/25 [==============================] - 8s 305ms/step - loss: 0.0526 - accuracy: 0.9937 - val_loss: 0.0028 - val_accuracy: 0.9972\n",
            "Epoch 159/200\n",
            "25/25 [==============================] - 8s 304ms/step - loss: 0.0035 - accuracy: 0.9987 - val_loss: 4.2519e-06 - val_accuracy: 1.0000\n",
            "Epoch 160/200\n",
            "25/25 [==============================] - 8s 302ms/step - loss: 0.1318 - accuracy: 0.9950 - val_loss: 0.3093 - val_accuracy: 0.9574\n",
            "Epoch 161/200\n",
            "25/25 [==============================] - 8s 300ms/step - loss: 0.0275 - accuracy: 0.9950 - val_loss: 0.9051 - val_accuracy: 0.8977\n",
            "Epoch 162/200\n",
            "25/25 [==============================] - 8s 307ms/step - loss: 0.0327 - accuracy: 0.9975 - val_loss: 0.1833 - val_accuracy: 0.9858\n",
            "Epoch 163/200\n",
            "25/25 [==============================] - 8s 309ms/step - loss: 0.0696 - accuracy: 0.9925 - val_loss: 0.0781 - val_accuracy: 0.9943\n",
            "Epoch 164/200\n",
            "25/25 [==============================] - 8s 302ms/step - loss: 0.0101 - accuracy: 0.9950 - val_loss: 0.0876 - val_accuracy: 0.9943\n",
            "Epoch 165/200\n",
            "25/25 [==============================] - 8s 302ms/step - loss: 0.0101 - accuracy: 0.9962 - val_loss: 0.0733 - val_accuracy: 0.9943\n",
            "Epoch 166/200\n",
            "25/25 [==============================] - 8s 303ms/step - loss: 0.0080 - accuracy: 0.9975 - val_loss: 0.0498 - val_accuracy: 0.9972\n",
            "Epoch 167/200\n",
            "25/25 [==============================] - 7s 299ms/step - loss: 0.0032 - accuracy: 1.0000 - val_loss: 0.1276 - val_accuracy: 0.9943\n",
            "Epoch 168/200\n",
            "25/25 [==============================] - 8s 303ms/step - loss: 0.0057 - accuracy: 0.9962 - val_loss: 0.0285 - val_accuracy: 0.9972\n",
            "Epoch 169/200\n",
            "25/25 [==============================] - 8s 302ms/step - loss: 0.0352 - accuracy: 0.9987 - val_loss: 0.0079 - val_accuracy: 0.9972\n",
            "Epoch 170/200\n",
            "25/25 [==============================] - 8s 302ms/step - loss: 0.0257 - accuracy: 0.9962 - val_loss: 0.0234 - val_accuracy: 0.9972\n",
            "Epoch 171/200\n",
            "25/25 [==============================] - 8s 301ms/step - loss: 3.1777e-04 - accuracy: 1.0000 - val_loss: 0.0085 - val_accuracy: 0.9972\n",
            "Epoch 172/200\n",
            "25/25 [==============================] - 7s 297ms/step - loss: 0.0323 - accuracy: 0.9937 - val_loss: 0.0671 - val_accuracy: 0.9972\n",
            "Epoch 173/200\n",
            "25/25 [==============================] - 8s 301ms/step - loss: 1.3305e-04 - accuracy: 1.0000 - val_loss: 0.0667 - val_accuracy: 0.9972\n",
            "Epoch 174/200\n",
            "25/25 [==============================] - 7s 299ms/step - loss: 1.0617e-04 - accuracy: 1.0000 - val_loss: 0.0527 - val_accuracy: 0.9972\n",
            "Epoch 175/200\n",
            "25/25 [==============================] - 8s 302ms/step - loss: 0.0120 - accuracy: 0.9987 - val_loss: 0.0012 - val_accuracy: 1.0000\n",
            "Epoch 176/200\n",
            "25/25 [==============================] - 7s 299ms/step - loss: 0.0055 - accuracy: 0.9987 - val_loss: 0.0183 - val_accuracy: 0.9972\n",
            "Epoch 177/200\n",
            "25/25 [==============================] - 8s 301ms/step - loss: 0.0066 - accuracy: 0.9987 - val_loss: 0.0140 - val_accuracy: 0.9972\n",
            "Epoch 178/200\n",
            "25/25 [==============================] - 8s 303ms/step - loss: 6.0857e-06 - accuracy: 1.0000 - val_loss: 0.0088 - val_accuracy: 0.9972\n",
            "Epoch 179/200\n",
            "25/25 [==============================] - 7s 298ms/step - loss: 0.0076 - accuracy: 0.9975 - val_loss: 1.2114e-04 - val_accuracy: 1.0000\n",
            "Epoch 180/200\n",
            "25/25 [==============================] - 8s 303ms/step - loss: 0.0049 - accuracy: 0.9987 - val_loss: 1.1308e-04 - val_accuracy: 1.0000\n",
            "Epoch 181/200\n",
            "25/25 [==============================] - 8s 301ms/step - loss: 0.0080 - accuracy: 0.9987 - val_loss: 3.3387e-05 - val_accuracy: 1.0000\n",
            "Epoch 182/200\n",
            "25/25 [==============================] - 8s 303ms/step - loss: 0.0098 - accuracy: 0.9975 - val_loss: 2.8092e-05 - val_accuracy: 1.0000\n",
            "Epoch 183/200\n",
            "25/25 [==============================] - 8s 304ms/step - loss: 8.2075e-04 - accuracy: 1.0000 - val_loss: 0.0691 - val_accuracy: 0.9886\n",
            "Epoch 184/200\n",
            "25/25 [==============================] - 8s 303ms/step - loss: 0.0022 - accuracy: 0.9987 - val_loss: 0.0525 - val_accuracy: 0.9943\n",
            "Epoch 185/200\n",
            "25/25 [==============================] - 8s 304ms/step - loss: 0.0074 - accuracy: 0.9987 - val_loss: 0.0297 - val_accuracy: 0.9915\n",
            "Epoch 186/200\n",
            "25/25 [==============================] - 8s 305ms/step - loss: 0.0251 - accuracy: 0.9950 - val_loss: 0.0137 - val_accuracy: 0.9915\n",
            "Epoch 187/200\n",
            "25/25 [==============================] - 8s 301ms/step - loss: 0.0120 - accuracy: 0.9987 - val_loss: 0.0236 - val_accuracy: 0.9972\n",
            "Epoch 188/200\n",
            "25/25 [==============================] - 8s 305ms/step - loss: 0.0157 - accuracy: 0.9962 - val_loss: 1.4037e-05 - val_accuracy: 1.0000\n",
            "Epoch 189/200\n",
            "25/25 [==============================] - 8s 303ms/step - loss: 5.1468e-04 - accuracy: 1.0000 - val_loss: 1.3204e-05 - val_accuracy: 1.0000\n",
            "Epoch 190/200\n",
            "25/25 [==============================] - 8s 302ms/step - loss: 0.0074 - accuracy: 0.9987 - val_loss: 6.2909e-06 - val_accuracy: 1.0000\n",
            "Epoch 191/200\n",
            "25/25 [==============================] - 8s 302ms/step - loss: 0.0088 - accuracy: 0.9987 - val_loss: 0.0042 - val_accuracy: 0.9972\n",
            "Epoch 192/200\n",
            "25/25 [==============================] - 8s 305ms/step - loss: 0.0179 - accuracy: 0.9987 - val_loss: 1.1108e-07 - val_accuracy: 1.0000\n",
            "Epoch 193/200\n",
            "25/25 [==============================] - 8s 307ms/step - loss: 0.0032 - accuracy: 0.9987 - val_loss: 8.8052e-09 - val_accuracy: 1.0000\n",
            "Epoch 194/200\n",
            "25/25 [==============================] - 8s 302ms/step - loss: 1.8927e-05 - accuracy: 1.0000 - val_loss: 2.4722e-08 - val_accuracy: 1.0000\n",
            "Epoch 195/200\n",
            "25/25 [==============================] - 8s 301ms/step - loss: 1.1569e-05 - accuracy: 1.0000 - val_loss: 3.4882e-08 - val_accuracy: 1.0000\n",
            "Epoch 196/200\n",
            "25/25 [==============================] - 7s 297ms/step - loss: 0.0032 - accuracy: 0.9987 - val_loss: 9.8212e-09 - val_accuracy: 1.0000\n",
            "Epoch 197/200\n",
            "25/25 [==============================] - 8s 304ms/step - loss: 0.0059 - accuracy: 0.9987 - val_loss: 7.4873e-05 - val_accuracy: 1.0000\n",
            "Epoch 198/200\n",
            "25/25 [==============================] - 8s 305ms/step - loss: 8.1000e-06 - accuracy: 1.0000 - val_loss: 0.0809 - val_accuracy: 0.9886\n",
            "Epoch 199/200\n",
            "25/25 [==============================] - ETA: 0s - loss: 0.0171 - accuracy: 0.9987\n",
            "Epoch 00199: saving model to training_MobNet/cp-0199.ckpt\n",
            "25/25 [==============================] - 8s 332ms/step - loss: 0.0171 - accuracy: 0.9987 - val_loss: 0.0341 - val_accuracy: 0.9915\n",
            "Epoch 200/200\n",
            "25/25 [==============================] - 7s 299ms/step - loss: 2.6770e-04 - accuracy: 1.0000 - val_loss: 0.0167 - val_accuracy: 0.9972\n",
            "\n",
            " model_mobnet took 1542.59 seconds (25.7 minutes) to train for 200 epochs\n"
          ],
          "name": "stdout"
        }
      ]
    },
    {
      "cell_type": "markdown",
      "metadata": {
        "id": "UIrhE3LMcsBU"
      },
      "source": [
        "###**ขั้นตอนการ Save file Model เเละ Json**"
      ]
    },
    {
      "cell_type": "code",
      "metadata": {
        "id": "5jkhbODRb0RH"
      },
      "source": [
        "#เปลี่ยนชื่อไฟล์ทุกครั้งเวลา SAVE\n",
        "model_mobnet.save('/content/drive/My Drive/Final Project/Dataset-Lab/Original/saved_model/model-mobnet(lastest).h5') #ดูจำนวนรอบที่เทรนด้วยว่าทั้งหมดกี่รอบจริงๆเเล้ว\n",
        "model_mobnet.save_weights('/content/drive/My Drive/Final Project/Dataset-Lab/Original/saved_model/weightmodel-mobnet.h5')"
      ],
      "execution_count": null,
      "outputs": []
    },
    {
      "cell_type": "code",
      "metadata": {
        "id": "RUbahazNckQo"
      },
      "source": [
        "#Import dependencies\n",
        "!mkdir jsonfile\n",
        "import json\n",
        "from keras.models import model_from_json, load_model\n",
        "with open('jsonfile/model_mobnet.json', 'w') as f:\n",
        "    f.write(model_mobnet.to_json())\n",
        "print(\"Saved model success\")"
      ],
      "execution_count": null,
      "outputs": []
    },
    {
      "cell_type": "markdown",
      "metadata": {
        "id": "ctXhsc5pc-5N"
      },
      "source": [
        "###**เเสดงกราฟข้อมูลค่าความเเม่นยำเเละค่าความสูญเสีย Training เเละ Validation**"
      ]
    },
    {
      "cell_type": "code",
      "metadata": {
        "id": "k8UxPxbZdNzR",
        "colab": {
          "base_uri": "https://localhost:8080/",
          "height": 299
        },
        "outputId": "679d55ef-e28f-41c0-a27c-ab8163c2eb5f"
      },
      "source": [
        "import matplotlib.pyplot as plt\n",
        "\n",
        "acc = model_mobnet.history.history['accuracy']\n",
        "val_acc = model_mobnet.history.history['val_accuracy']\n",
        "\n",
        "loss= model_mobnet.history.history['loss']\n",
        "val_loss= model_mobnet.history.history['val_loss']\n",
        "\n",
        "\n",
        "plt.style.use(\"ggplot\")\n",
        "#  \"Accuracy\"\n",
        "plt.figure(figsize=(15, 4))\n",
        "plt.subplot(1, 2, 1)\n",
        "plt.plot(acc, label='Training Accuracy')\n",
        "plt.plot(val_acc, label='Validation Accuracy')\n",
        "plt.legend(loc='upper right')\n",
        "plt.title('Training and Validation Accuracy')\n",
        "plt.ylabel('accuracy')\n",
        "plt.xlabel('epochs')\n",
        "#  \"Loss\"\n",
        "plt.subplot(1, 2, 2)\n",
        "plt.plot(loss, label='Training Loss')\n",
        "plt.plot(val_loss, label='Validation Loss')\n",
        "plt.legend(loc='lower right')\n",
        "plt.title('Training and Validation Loss')\n",
        "plt.ylabel('loss')\n",
        "plt.xlabel('epochs')\n",
        "plt.show()"
      ],
      "execution_count": null,
      "outputs": [
        {
          "output_type": "display_data",
          "data": {
            "image/png": "[encoded data removed]",
            "text/plain": [
              "<Figure size 1080x288 with 2 Axes>"
            ]
          },
          "metadata": {
            "tags": []
          }
        }
      ]
    },
    {
      "cell_type": "markdown",
      "metadata": {
        "id": "m0m3J0nidxqf"
      },
      "source": [
        "###**จุด Checkpoint**"
      ]
    },
    {
      "cell_type": "code",
      "metadata": {
        "id": "CjjRM_w0eE5D",
        "colab": {
          "base_uri": "https://localhost:8080/",
          "height": 35
        },
        "outputId": "f796541e-0795-46ae-a27b-2a281e883d6b"
      },
      "source": [
        "latest = tf.train.latest_checkpoint(checkpoint_dir)\n",
        "latest"
      ],
      "execution_count": null,
      "outputs": [
        {
          "output_type": "execute_result",
          "data": {
            "application/vnd.google.colaboratory.intrinsic+json": {
              "type": "string"
            },
            "text/plain": [
              "'training_MobNet/cp-0199.ckpt'"
            ]
          },
          "metadata": {
            "tags": []
          },
          "execution_count": 19
        }
      ]
    },
    {
      "cell_type": "code",
      "metadata": {
        "id": "IBO8Q9Q4eE7E",
        "colab": {
          "base_uri": "https://localhost:8080/"
        },
        "outputId": "8a20cdc6-52fb-4c71-b8a1-d76f8ce2ed66"
      },
      "source": [
        "# Load the previously saved weights\n",
        "model_mobnet.load_weights(latest)\n",
        "\n",
        "# Re-evaluate the model\n",
        "loss, acc = model_mobnet.evaluate(valid_generator, verbose=2)\n",
        "print(\"Restored model, accuracy: {:5.2f}%\".format(100*acc))"
      ],
      "execution_count": null,
      "outputs": [
        {
          "output_type": "stream",
          "text": [
            "12/12 - 1s - loss: 0.0334 - accuracy: 0.9916\n",
            "Restored model, accuracy: 99.16%\n"
          ],
          "name": "stdout"
        }
      ]
    },
    {
      "cell_type": "markdown",
      "metadata": {
        "id": "hOnDw5WeeNXc"
      },
      "source": [
        "###**Save model อีกเเบบเพื่อนำไปเเปลงเป็น TensorflwLite**"
      ]
    },
    {
      "cell_type": "code",
      "metadata": {
        "id": "WCKmhkZ2eVSt"
      },
      "source": [
        "# Save the entire model as a SavedModel.\n",
        "model_mobnet.save('saved_model/my_model') "
      ],
      "execution_count": null,
      "outputs": []
    },
    {
      "cell_type": "code",
      "metadata": {
        "id": "UiTau3PReVU1"
      },
      "source": [
        "model= tf.keras.models.load_model('saved_model/my_model')\n",
        "tflite_converter = tf.lite.TFLiteConverter.from_keras_model(model)\n",
        "tflite_model = tflite_converter.convert()\n",
        "open(\"tf_lite_model(200epochsmobnet).tflite\", \"wb\").write(tflite_model) "
      ],
      "execution_count": null,
      "outputs": []
    },
    {
      "cell_type": "markdown",
      "metadata": {
        "id": "Y7P6p0lzeq7g"
      },
      "source": [
        "###**ขั้นตอนของ Prediction เเบบบ Confusion Matrix**"
      ]
    },
    {
      "cell_type": "code",
      "metadata": {
        "id": "tA579sRAeVXH",
        "colab": {
          "base_uri": "https://localhost:8080/",
          "height": 356
        },
        "outputId": "8b380f1f-452f-497c-f419-c2b736633e4c"
      },
      "source": [
        "import seaborn as sn\n",
        "import pandas as pd\n",
        "\n",
        "model = tf.keras.models.load_model('/content/drive/My Drive/Final Project/Dataset-Lab/Original/saved_model/model-mobnet(lastest).h5')\n",
        "filenames = valid_generator.filenames\n",
        "nb_samples = len(valid_generator)\n",
        "y_prob=[]\n",
        "y_act=[]\n",
        "valid_generator.reset()\n",
        "for _ in range(nb_samples):\n",
        "    x_test, y_test = valid_generator.next()\n",
        "    y_prob.append(model.predict(x_test))\n",
        "    y_act.append(y_test)\n",
        "\n",
        "\n",
        "predicted_class = [list(train_generator.class_indices.keys())[i.argmax()] for i in y_prob]\n",
        "actual_class = [list(train_generator.class_indices.keys())[i.argmax()] for i in y_act]\n",
        "\n",
        "out_df = pd.DataFrame(np.vstack([predicted_class,actual_class]).T,columns=['predicted_class', 'actual_class'])\n",
        "confusion_matrix = pd.crosstab(out_df['actual_class'],out_df['predicted_class'], rownames=['Actual'], colnames=['Predicted'])\n",
        "\n",
        "sn.heatmap(confusion_matrix, cmap='Blues', annot= True, fmt='d')\n",
        "plt.show()\n",
        "print('test accuracy : {}'.format((np.diagonal(confusion_matrix).sum()/confusion_matrix.sum().sum()*100)))"
      ],
      "execution_count": null,
      "outputs": [
        {
          "output_type": "display_data",
          "data": {
            "image/png": "[encoded data removed]",
            "text/plain": [
              "<Figure size 432x288 with 2 Axes>"
            ]
          },
          "metadata": {
            "tags": []
          }
        },
        {
          "output_type": "stream",
          "text": [
            "test accuracy : 100.0\n"
          ],
          "name": "stdout"
        }
      ]
    },
    {
      "cell_type": "code",
      "metadata": {
        "id": "qfh4skEQ8nSE"
      },
      "source": [
        ""
      ],
      "execution_count": null,
      "outputs": []
    }
  ]
}