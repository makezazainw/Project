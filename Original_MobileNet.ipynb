{
  "nbformat": 4,
  "nbformat_minor": 0,
  "metadata": {
    "colab": {
      "name": "Original MobileNet.ipynb",
      "provenance": [],
      "collapsed_sections": [],
      "toc_visible": true,
      "mount_file_id": "1osUluB3gppyVbuLL_wvtwTXittOO6UHP",
      "authorship_tag": "ABX9TyPeDgjjyj6eMnYNOHunFE90",
      "include_colab_link": true
    },
    "kernelspec": {
      "name": "python3",
      "display_name": "Python 3"
    },
    "accelerator": "GPU"
  },
  "cells": [
    {
      "cell_type": "markdown",
      "metadata": {
        "id": "view-in-github",
        "colab_type": "text"
      },
      "source": [
        "<a href=\"https://colab.research.google.com/github/makezazainw/Project/blob/main/Original_MobileNet.ipynb\" target=\"_parent\"><img src=\"https://colab.research.google.com/assets/colab-badge.svg\" alt=\"Open In Colab\"/></a>"
      ]
    },
    {
      "cell_type": "markdown",
      "metadata": {
        "id": "mew3lwAMaXDH"
      },
      "source": [
        "### **ติดตั้ง Kaggle เเละ เรียกใช้ไฟล์ json เพื่อติดต่อใช้ dataset ใน kaggle**"
      ]
    },
    {
      "cell_type": "code",
      "metadata": {
        "id": "Y5m_qIXOabnO",
        "colab": {
          "base_uri": "https://localhost:8080/"
        },
        "outputId": "81038afc-7327-4ff2-b4ab-a2b5a4858fcf"
      },
      "source": [
        "# Install Kaggle API\n",
        "!pip install -q kaggle\n",
        "!pip install -q kaggle-cli"
      ],
      "execution_count": 1,
      "outputs": [
        {
          "output_type": "stream",
          "text": [
            "\u001b[K     |████████████████████████████████| 81kB 6.6MB/s \n",
            "\u001b[K     |████████████████████████████████| 5.3MB 13.0MB/s \n",
            "\u001b[K     |████████████████████████████████| 133kB 53.8MB/s \n",
            "\u001b[K     |████████████████████████████████| 51kB 9.0MB/s \n",
            "\u001b[K     |████████████████████████████████| 112kB 57.2MB/s \n",
            "\u001b[?25h  Building wheel for kaggle-cli (setup.py) ... \u001b[?25l\u001b[?25hdone\n",
            "  Building wheel for PrettyTable (setup.py) ... \u001b[?25l\u001b[?25hdone\n",
            "  Building wheel for pyperclip (setup.py) ... \u001b[?25l\u001b[?25hdone\n"
          ],
          "name": "stdout"
        }
      ]
    },
    {
      "cell_type": "code",
      "metadata": {
        "id": "a_kkUe3valvy"
      },
      "source": [
        "# only for google colab\n",
        "import os\n",
        "os.environ['KAGGLE_USERNAME'] = \"thammatattantipitham\" \n",
        "os.environ['KAGGLE_KEY'] = \"3cf826ab97707228fb1602519992740b\""
      ],
      "execution_count": 2,
      "outputs": []
    },
    {
      "cell_type": "code",
      "metadata": {
        "id": "jtsvYa8manW1",
        "colab": {
          "base_uri": "https://localhost:8080/"
        },
        "outputId": "3188c422-373f-4af8-89e0-34e13a15322e"
      },
      "source": [
        "!kaggle datasets download -d thammatattantipitham/thaiherb --unzip"
      ],
      "execution_count": 3,
      "outputs": [
        {
          "output_type": "stream",
          "text": [
            "Downloading thaiherb.zip to /content\n",
            " 92% 34.0M/36.8M [00:01<00:00, 12.4MB/s]\n",
            "100% 36.8M/36.8M [00:01<00:00, 25.4MB/s]\n"
          ],
          "name": "stdout"
        }
      ]
    },
    {
      "cell_type": "code",
      "metadata": {
        "id": "Ihulub6paq8a"
      },
      "source": [
        "#สร้างไฟล์ folder ขึ้นมาเเละเพิ่มข้อมูลเข้าไปใน folder\n",
        "!mkdir thaiherb\n",
        "!mv  \"train\" \"val\" thaiherb"
      ],
      "execution_count": 4,
      "outputs": []
    },
    {
      "cell_type": "markdown",
      "metadata": {
        "id": "yUU4GFLxa2pv"
      },
      "source": [
        "### **เริ่มต้นการ import library ต่างๆเเละการเรียกใช้ไฟล์**\n"
      ]
    },
    {
      "cell_type": "code",
      "metadata": {
        "id": "08sp2eppa_-2",
        "colab": {
          "base_uri": "https://localhost:8080/",
          "height": 35
        },
        "outputId": "81db9483-ae58-418e-823d-a51f6c4e9601"
      },
      "source": [
        "import sys\n",
        "import time\n",
        "import cv2\n",
        "import numpy as np\n",
        "from matplotlib import pyplot as plt\n",
        "import tensorflow as tf\n",
        "import os\n",
        "import keras\n",
        "\n",
        "from skimage.transform import resize\n",
        "from sklearn.model_selection import train_test_split\n",
        "\n",
        "from tensorflow.python.keras.utils import np_utils\n",
        "from tensorflow.python.keras.models import Sequential, Model\n",
        "from tensorflow.python.keras.layers import Dense, Dropout, Flatten, Activation, BatchNormalization\n",
        "from tensorflow.python.keras.layers.convolutional import Conv2D, MaxPooling2D, AveragePooling2D\n",
        "from tensorflow.python.keras.preprocessing.image import ImageDataGenerator\n",
        "from tensorflow.python.keras.optimizers import RMSprop\n",
        "from tensorflow.python.keras.applications.vgg19 import VGG19\n",
        "from tensorflow.python.keras.applications.mobilenet import MobileNet\n",
        "from tensorflow.keras.applications.resnet50 import ResNet50, preprocess_input\n",
        "from tensorflow.keras.optimizers import Adam\n",
        "from keras.applications import InceptionV3\n",
        "sys.version"
      ],
      "execution_count": 5,
      "outputs": [
        {
          "output_type": "execute_result",
          "data": {
            "application/vnd.google.colaboratory.intrinsic+json": {
              "type": "string"
            },
            "text/plain": [
              "'3.6.9 (default, Oct  8 2020, 12:12:24) \\n[GCC 8.4.0]'"
            ]
          },
          "metadata": {
            "tags": []
          },
          "execution_count": 5
        }
      ]
    },
    {
      "cell_type": "code",
      "metadata": {
        "id": "SM_5RRq_bAAp",
        "colab": {
          "base_uri": "https://localhost:8080/"
        },
        "outputId": "a456584d-ac1a-43ed-8c68-ca5c3aba208f"
      },
      "source": [
        "from tensorflow.compat.v1.keras.backend import set_session\n",
        "\n",
        "config = tf.compat.v1.ConfigProto()\n",
        "\n",
        "config.gpu_options.allow_growth = True  # dynamically grow the memory used on the GPU\n",
        "\n",
        "config.log_device_placement = True  # to log device placement (on which device the operation ran)\n",
        "\n",
        "sess = tf.compat.v1.Session(config=config)\n",
        "\n",
        "set_session(sess)"
      ],
      "execution_count": 6,
      "outputs": [
        {
          "output_type": "stream",
          "text": [
            "Device mapping:\n",
            "/job:localhost/replica:0/task:0/device:XLA_CPU:0 -> device: XLA_CPU device\n",
            "/job:localhost/replica:0/task:0/device:XLA_GPU:0 -> device: XLA_GPU device\n",
            "/job:localhost/replica:0/task:0/device:GPU:0 -> device: 0, name: Tesla P100-PCIE-16GB, pci bus id: 0000:00:04.0, compute capability: 6.0\n",
            "\n"
          ],
          "name": "stdout"
        }
      ]
    },
    {
      "cell_type": "code",
      "metadata": {
        "id": "9vm7Vog_bEAP"
      },
      "source": [
        "DATASET_PATH  = 'thaiherb/'\n",
        "IMAGE_SIZE    = (224, 224)\n",
        "NUM_CLASSES   = 10\n",
        "BATCH_SIZE    = 32  # try reducing batch size or freeze more layers if your GPU runs out of memory\n",
        "epochs    = 200"
      ],
      "execution_count": 7,
      "outputs": []
    },
    {
      "cell_type": "code",
      "metadata": {
        "id": "PNu6CAPDbECl"
      },
      "source": [
        "#ทำ aug มาเเล้ว\n",
        "train_datagen = ImageDataGenerator(preprocessing_function=preprocess_input)"
      ],
      "execution_count": 8,
      "outputs": []
    },
    {
      "cell_type": "code",
      "metadata": {
        "id": "jDKsFAH_bEE1",
        "colab": {
          "base_uri": "https://localhost:8080/"
        },
        "outputId": "2973d9dc-8860-4bee-a4a4-63bbbca44f7a"
      },
      "source": [
        "#set training data\n",
        "train_generator = train_datagen.flow_from_directory(DATASET_PATH+ r\"train/\",\n",
        "                                                    target_size = IMAGE_SIZE,\n",
        "                                                    batch_size = BATCH_SIZE,\n",
        "                                                    class_mode='categorical',\n",
        "                                                    shuffle = True,\n",
        "                                                    subset='training')"
      ],
      "execution_count": 43,
      "outputs": [
        {
          "output_type": "stream",
          "text": [
            "Found 825 images belonging to 10 classes.\n"
          ],
          "name": "stdout"
        }
      ]
    },
    {
      "cell_type": "code",
      "metadata": {
        "id": "w1nB7VakbG_d",
        "colab": {
          "base_uri": "https://localhost:8080/"
        },
        "outputId": "e4e33c76-c560-4043-ebf8-8dec11ee2608"
      },
      "source": [
        "valid_datagen = ImageDataGenerator(preprocessing_function=preprocess_input)\n",
        "valid_generator = valid_datagen.flow_from_directory(DATASET_PATH+ r\"val/\",                                      \n",
        "                                                    target_size = IMAGE_SIZE,\n",
        "                                                    batch_size = 1,\n",
        "                                                    class_mode='categorical',\n",
        "                                                    shuffle = True\n",
        "                                                    )"
      ],
      "execution_count": 42,
      "outputs": [
        {
          "output_type": "stream",
          "text": [
            "Found 359 images belonging to 10 classes.\n"
          ],
          "name": "stdout"
        }
      ]
    },
    {
      "cell_type": "markdown",
      "metadata": {
        "id": "5H1qvuqFbNM6"
      },
      "source": [
        "### **Model MobileNet**"
      ]
    },
    {
      "cell_type": "code",
      "metadata": {
        "id": "T9TaFF44bHBy",
        "colab": {
          "base_uri": "https://localhost:8080/"
        },
        "outputId": "34f3ed46-4edf-4828-cd69-b4985dde2977"
      },
      "source": [
        "# Include the epoch in the file name (uses `str.format`)\n",
        "checkpoint_path = \"training_MobNet/cp-{epoch:04d}.ckpt\"\n",
        "checkpoint_dir = os.path.dirname(checkpoint_path)\n",
        "\n",
        "# Create a callback that saves the model's weights every 5 epochs\n",
        "cp_callback = tf.keras.callbacks.ModelCheckpoint(\n",
        "    filepath=checkpoint_path, \n",
        "    verbose=1, \n",
        "    save_weights_only=True,\n",
        "    period=50)\n",
        "\n",
        "#Create the model\n",
        "base_MobNet = MobileNet(include_top=False,weights='imagenet',input_shape=(IMAGE_SIZE[0],IMAGE_SIZE[1],3))\n",
        "\n",
        "model_mobnet = Sequential()\n",
        "model_mobnet.add(base_MobNet) \n",
        "model_mobnet.add(Flatten()) \n",
        "model_mobnet.add(Dense(512,activation=('relu'),input_dim=64))\n",
        "model_mobnet.add(Dense(256,activation=('relu'))) \n",
        "model_mobnet.add(Dense(128,activation=('relu'))) \n",
        "model_mobnet.add(Dropout(.3))\n",
        "model_mobnet.add(Dense(64,activation=('relu')))\n",
        "model_mobnet.add(Dropout(.2))\n",
        "model_mobnet.add(Dense(10,activation=('softmax')))\n",
        "\n",
        "# Save the weights using the `checkpoint_path` format\n",
        "model_mobnet.save_weights(checkpoint_path.format(epoch=0))"
      ],
      "execution_count": 11,
      "outputs": [
        {
          "output_type": "stream",
          "text": [
            "WARNING:tensorflow:`period` argument is deprecated. Please use `save_freq` to specify the frequency in number of batches seen.\n",
            "Downloading data from https://storage.googleapis.com/tensorflow/keras-applications/mobilenet/mobilenet_1_0_224_tf_no_top.h5\n",
            "17227776/17225924 [==============================] - 1s 0us/step\n"
          ],
          "name": "stdout"
        }
      ]
    },
    {
      "cell_type": "code",
      "metadata": {
        "id": "kQ0_WfpMgCUv",
        "colab": {
          "base_uri": "https://localhost:8080/"
        },
        "outputId": "ac81ea00-31bf-48b3-f0f0-9d607d687955"
      },
      "source": [
        "model_mobnet.summary()"
      ],
      "execution_count": 12,
      "outputs": [
        {
          "output_type": "stream",
          "text": [
            "Model: \"sequential\"\n",
            "_________________________________________________________________\n",
            "Layer (type)                 Output Shape              Param #   \n",
            "=================================================================\n",
            "mobilenet_1.00_224 (Function (None, 7, 7, 1024)        3228864   \n",
            "_________________________________________________________________\n",
            "flatten (Flatten)            (None, 50176)             0         \n",
            "_________________________________________________________________\n",
            "dense (Dense)                (None, 512)               25690624  \n",
            "_________________________________________________________________\n",
            "dense_1 (Dense)              (None, 256)               131328    \n",
            "_________________________________________________________________\n",
            "dense_2 (Dense)              (None, 128)               32896     \n",
            "_________________________________________________________________\n",
            "dropout (Dropout)            (None, 128)               0         \n",
            "_________________________________________________________________\n",
            "dense_3 (Dense)              (None, 64)                8256      \n",
            "_________________________________________________________________\n",
            "dropout_1 (Dropout)          (None, 64)                0         \n",
            "_________________________________________________________________\n",
            "dense_4 (Dense)              (None, 10)                650       \n",
            "=================================================================\n",
            "Total params: 29,092,618\n",
            "Trainable params: 29,070,730\n",
            "Non-trainable params: 21,888\n",
            "_________________________________________________________________\n"
          ],
          "name": "stdout"
        }
      ]
    },
    {
      "cell_type": "code",
      "metadata": {
        "id": "oE2Ja7aGjq7t"
      },
      "source": [
        "model_mobnet.compile(optimizer=Adam(lr=0.0001),  #Adam(lr=1e-5)\n",
        "                  loss='categorical_crossentropy', metrics=['accuracy'])"
      ],
      "execution_count": 13,
      "outputs": []
    },
    {
      "cell_type": "code",
      "metadata": {
        "id": "HqpePAyfbHGf",
        "colab": {
          "base_uri": "https://localhost:8080/"
        },
        "outputId": "25581e83-cbe3-4060-d1f9-764563e1636c"
      },
      "source": [
        "start = time.time()\n",
        "\n",
        "history = model_mobnet.fit_generator(\n",
        "    generator=train_generator, \n",
        "    steps_per_epoch=train_generator.samples//BATCH_SIZE,   # -> 106 # images 3923 = steps * batch_size = 106 * 32 \n",
        "    epochs=epochs, \n",
        "    validation_steps=valid_generator.samples//BATCH_SIZE, # -> 26 # images 832 = steps * batch_size = 26 * 32\n",
        "    validation_data=valid_generator,\n",
        "    callbacks = [cp_callback],\n",
        "    verbose = 1\n",
        ")\n",
        "\n",
        "end = time.time()\n",
        "duration = end - start\n",
        "print ('\\n model_mobnet took %0.2f seconds (%0.1f minutes) to train for %d epochs'%(duration, duration/60, epochs) )"
      ],
      "execution_count": 14,
      "outputs": [
        {
          "output_type": "stream",
          "text": [
            "WARNING:tensorflow:From <ipython-input-14-37bb12c0f512>:10: Model.fit_generator (from tensorflow.python.keras.engine.training) is deprecated and will be removed in a future version.\n",
            "Instructions for updating:\n",
            "Please use Model.fit, which supports generators.\n",
            "Epoch 1/200\n",
            " 2/25 [=>............................] - ETA: 1s - loss: 2.8530 - accuracy: 0.1562WARNING:tensorflow:Callbacks method `on_train_batch_end` is slow compared to the batch time (batch time: 0.0406s vs `on_train_batch_end` time: 0.1149s). Check your callbacks.\n",
            "25/25 [==============================] - 5s 209ms/step - loss: 1.9077 - accuracy: 0.3644 - val_loss: 1.1085 - val_accuracy: 0.7216\n",
            "Epoch 2/200\n",
            "25/25 [==============================] - 5s 181ms/step - loss: 0.7101 - accuracy: 0.7604 - val_loss: 0.2687 - val_accuracy: 0.9688\n",
            "Epoch 3/200\n",
            "25/25 [==============================] - 5s 183ms/step - loss: 0.3113 - accuracy: 0.8991 - val_loss: 0.1206 - val_accuracy: 0.9659\n",
            "Epoch 4/200\n",
            "25/25 [==============================] - 5s 182ms/step - loss: 0.1982 - accuracy: 0.9306 - val_loss: 0.0783 - val_accuracy: 0.9801\n",
            "Epoch 5/200\n",
            "25/25 [==============================] - 5s 185ms/step - loss: 0.1229 - accuracy: 0.9550 - val_loss: 0.0409 - val_accuracy: 0.9858\n",
            "Epoch 6/200\n",
            "25/25 [==============================] - 5s 185ms/step - loss: 0.1096 - accuracy: 0.9634 - val_loss: 0.0350 - val_accuracy: 0.9886\n",
            "Epoch 7/200\n",
            "25/25 [==============================] - 5s 185ms/step - loss: 0.0907 - accuracy: 0.9710 - val_loss: 0.0233 - val_accuracy: 0.9943\n",
            "Epoch 8/200\n",
            "25/25 [==============================] - 5s 181ms/step - loss: 0.0795 - accuracy: 0.9735 - val_loss: 0.0315 - val_accuracy: 0.9943\n",
            "Epoch 9/200\n",
            "25/25 [==============================] - 5s 181ms/step - loss: 0.0686 - accuracy: 0.9760 - val_loss: 0.0150 - val_accuracy: 0.9943\n",
            "Epoch 10/200\n",
            "25/25 [==============================] - 5s 181ms/step - loss: 0.0732 - accuracy: 0.9723 - val_loss: 0.0064 - val_accuracy: 1.0000\n",
            "Epoch 11/200\n",
            "25/25 [==============================] - 5s 185ms/step - loss: 0.0510 - accuracy: 0.9823 - val_loss: 0.0180 - val_accuracy: 0.9915\n",
            "Epoch 12/200\n",
            "25/25 [==============================] - 5s 186ms/step - loss: 0.0466 - accuracy: 0.9861 - val_loss: 0.0755 - val_accuracy: 0.9801\n",
            "Epoch 13/200\n",
            "25/25 [==============================] - 5s 181ms/step - loss: 0.0575 - accuracy: 0.9798 - val_loss: 0.0116 - val_accuracy: 0.9943\n",
            "Epoch 14/200\n",
            "25/25 [==============================] - 5s 182ms/step - loss: 0.0488 - accuracy: 0.9836 - val_loss: 0.0171 - val_accuracy: 0.9943\n",
            "Epoch 15/200\n",
            "25/25 [==============================] - 5s 183ms/step - loss: 0.0278 - accuracy: 0.9962 - val_loss: 0.0120 - val_accuracy: 0.9972\n",
            "Epoch 16/200\n",
            "25/25 [==============================] - 5s 183ms/step - loss: 0.0242 - accuracy: 0.9912 - val_loss: 0.0530 - val_accuracy: 0.9858\n",
            "Epoch 17/200\n",
            "25/25 [==============================] - 5s 182ms/step - loss: 0.0366 - accuracy: 0.9912 - val_loss: 0.0183 - val_accuracy: 0.9915\n",
            "Epoch 18/200\n",
            "25/25 [==============================] - 5s 183ms/step - loss: 0.0458 - accuracy: 0.9836 - val_loss: 0.0302 - val_accuracy: 0.9943\n",
            "Epoch 19/200\n",
            "25/25 [==============================] - 5s 184ms/step - loss: 0.0410 - accuracy: 0.9861 - val_loss: 0.0607 - val_accuracy: 0.9886\n",
            "Epoch 20/200\n",
            "25/25 [==============================] - 5s 184ms/step - loss: 0.0373 - accuracy: 0.9924 - val_loss: 0.0323 - val_accuracy: 0.9915\n",
            "Epoch 21/200\n",
            "25/25 [==============================] - 5s 182ms/step - loss: 0.0287 - accuracy: 0.9937 - val_loss: 0.0181 - val_accuracy: 0.9972\n",
            "Epoch 22/200\n",
            "25/25 [==============================] - 5s 182ms/step - loss: 0.0160 - accuracy: 0.9962 - val_loss: 0.0295 - val_accuracy: 0.9972\n",
            "Epoch 23/200\n",
            "25/25 [==============================] - 4s 179ms/step - loss: 0.0296 - accuracy: 0.9899 - val_loss: 0.0011 - val_accuracy: 1.0000\n",
            "Epoch 24/200\n",
            "25/25 [==============================] - 5s 183ms/step - loss: 0.0156 - accuracy: 0.9975 - val_loss: 0.0171 - val_accuracy: 0.9943\n",
            "Epoch 25/200\n",
            "25/25 [==============================] - 5s 181ms/step - loss: 0.0224 - accuracy: 0.9975 - val_loss: 0.0519 - val_accuracy: 0.9886\n",
            "Epoch 26/200\n",
            "25/25 [==============================] - 5s 185ms/step - loss: 0.0344 - accuracy: 0.9899 - val_loss: 0.0321 - val_accuracy: 0.9943\n",
            "Epoch 27/200\n",
            "25/25 [==============================] - 5s 183ms/step - loss: 0.0243 - accuracy: 0.9925 - val_loss: 0.0211 - val_accuracy: 0.9972\n",
            "Epoch 28/200\n",
            "25/25 [==============================] - 4s 178ms/step - loss: 0.0483 - accuracy: 0.9849 - val_loss: 0.0557 - val_accuracy: 0.9915\n",
            "Epoch 29/200\n",
            "25/25 [==============================] - 5s 182ms/step - loss: 0.0156 - accuracy: 0.9962 - val_loss: 0.0897 - val_accuracy: 0.9830\n",
            "Epoch 30/200\n",
            "25/25 [==============================] - 4s 179ms/step - loss: 0.0285 - accuracy: 0.9912 - val_loss: 0.0155 - val_accuracy: 0.9886\n",
            "Epoch 31/200\n",
            "25/25 [==============================] - 5s 181ms/step - loss: 0.0212 - accuracy: 0.9975 - val_loss: 0.0189 - val_accuracy: 0.9943\n",
            "Epoch 32/200\n",
            "25/25 [==============================] - 5s 183ms/step - loss: 0.0188 - accuracy: 0.9924 - val_loss: 0.0548 - val_accuracy: 0.9858\n",
            "Epoch 33/200\n",
            "25/25 [==============================] - 5s 180ms/step - loss: 0.0136 - accuracy: 0.9950 - val_loss: 0.0215 - val_accuracy: 0.9943\n",
            "Epoch 34/200\n",
            "25/25 [==============================] - 5s 183ms/step - loss: 0.0082 - accuracy: 0.9975 - val_loss: 0.0173 - val_accuracy: 0.9943\n",
            "Epoch 35/200\n",
            "25/25 [==============================] - 5s 181ms/step - loss: 0.0029 - accuracy: 1.0000 - val_loss: 0.0319 - val_accuracy: 0.9915\n",
            "Epoch 36/200\n",
            "25/25 [==============================] - 5s 182ms/step - loss: 0.0189 - accuracy: 0.9950 - val_loss: 0.0179 - val_accuracy: 0.9943\n",
            "Epoch 37/200\n",
            "25/25 [==============================] - 5s 181ms/step - loss: 0.0015 - accuracy: 1.0000 - val_loss: 0.0281 - val_accuracy: 0.9915\n",
            "Epoch 38/200\n",
            "25/25 [==============================] - 5s 181ms/step - loss: 0.0051 - accuracy: 0.9987 - val_loss: 0.0523 - val_accuracy: 0.9915\n",
            "Epoch 39/200\n",
            "25/25 [==============================] - 5s 181ms/step - loss: 0.0287 - accuracy: 0.9924 - val_loss: 0.1801 - val_accuracy: 0.9773\n",
            "Epoch 40/200\n",
            "25/25 [==============================] - 5s 181ms/step - loss: 0.0429 - accuracy: 0.9924 - val_loss: 0.0497 - val_accuracy: 0.9943\n",
            "Epoch 41/200\n",
            "25/25 [==============================] - 5s 184ms/step - loss: 0.0102 - accuracy: 0.9962 - val_loss: 0.0266 - val_accuracy: 0.9886\n",
            "Epoch 42/200\n",
            "25/25 [==============================] - 4s 180ms/step - loss: 0.0172 - accuracy: 0.9950 - val_loss: 0.0379 - val_accuracy: 0.9886\n",
            "Epoch 43/200\n",
            "25/25 [==============================] - 4s 179ms/step - loss: 0.0107 - accuracy: 0.9924 - val_loss: 0.0341 - val_accuracy: 0.9943\n",
            "Epoch 44/200\n",
            "25/25 [==============================] - 5s 181ms/step - loss: 0.0134 - accuracy: 0.9950 - val_loss: 0.0188 - val_accuracy: 0.9943\n",
            "Epoch 45/200\n",
            "25/25 [==============================] - 5s 181ms/step - loss: 0.0150 - accuracy: 0.9962 - val_loss: 0.0224 - val_accuracy: 0.9972\n",
            "Epoch 46/200\n",
            "25/25 [==============================] - 5s 180ms/step - loss: 0.0079 - accuracy: 0.9975 - val_loss: 0.0330 - val_accuracy: 0.9972\n",
            "Epoch 47/200\n",
            "25/25 [==============================] - 4s 177ms/step - loss: 0.0206 - accuracy: 0.9962 - val_loss: 0.0279 - val_accuracy: 0.9972\n",
            "Epoch 48/200\n",
            "25/25 [==============================] - 4s 179ms/step - loss: 0.0088 - accuracy: 0.9975 - val_loss: 0.0313 - val_accuracy: 0.9915\n",
            "Epoch 49/200\n",
            "25/25 [==============================] - 5s 181ms/step - loss: 0.0053 - accuracy: 0.9975 - val_loss: 0.0247 - val_accuracy: 0.9915\n",
            "Epoch 50/200\n",
            "25/25 [==============================] - ETA: 0s - loss: 0.0044 - accuracy: 0.9975\n",
            "Epoch 00050: saving model to training_MobNet/cp-0050.ckpt\n",
            "25/25 [==============================] - 5s 219ms/step - loss: 0.0044 - accuracy: 0.9975 - val_loss: 0.0243 - val_accuracy: 0.9943\n",
            "Epoch 51/200\n",
            "25/25 [==============================] - 5s 182ms/step - loss: 0.0063 - accuracy: 0.9987 - val_loss: 0.0404 - val_accuracy: 0.9915\n",
            "Epoch 52/200\n",
            "25/25 [==============================] - 5s 181ms/step - loss: 0.0256 - accuracy: 0.9924 - val_loss: 0.0436 - val_accuracy: 0.9915\n",
            "Epoch 53/200\n",
            "25/25 [==============================] - 4s 179ms/step - loss: 0.0377 - accuracy: 0.9924 - val_loss: 0.0256 - val_accuracy: 0.9972\n",
            "Epoch 54/200\n",
            "25/25 [==============================] - 5s 184ms/step - loss: 0.0144 - accuracy: 0.9950 - val_loss: 0.0186 - val_accuracy: 0.9972\n",
            "Epoch 55/200\n",
            "25/25 [==============================] - 4s 176ms/step - loss: 0.0037 - accuracy: 0.9987 - val_loss: 0.0295 - val_accuracy: 0.9972\n",
            "Epoch 56/200\n",
            "25/25 [==============================] - 4s 180ms/step - loss: 0.0077 - accuracy: 0.9962 - val_loss: 0.0329 - val_accuracy: 0.9972\n",
            "Epoch 57/200\n",
            "25/25 [==============================] - 5s 180ms/step - loss: 0.0083 - accuracy: 0.9975 - val_loss: 0.0278 - val_accuracy: 0.9972\n",
            "Epoch 58/200\n",
            "25/25 [==============================] - 5s 181ms/step - loss: 0.0096 - accuracy: 0.9950 - val_loss: 0.0188 - val_accuracy: 0.9943\n",
            "Epoch 59/200\n",
            "25/25 [==============================] - 5s 182ms/step - loss: 0.0066 - accuracy: 0.9975 - val_loss: 0.0291 - val_accuracy: 0.9943\n",
            "Epoch 60/200\n",
            "25/25 [==============================] - 5s 181ms/step - loss: 0.0116 - accuracy: 0.9962 - val_loss: 0.0432 - val_accuracy: 0.9943\n",
            "Epoch 61/200\n",
            "25/25 [==============================] - 5s 183ms/step - loss: 0.0165 - accuracy: 0.9962 - val_loss: 0.0565 - val_accuracy: 0.9943\n",
            "Epoch 62/200\n",
            "25/25 [==============================] - 5s 182ms/step - loss: 0.0140 - accuracy: 0.9975 - val_loss: 0.0333 - val_accuracy: 0.9915\n",
            "Epoch 63/200\n",
            "25/25 [==============================] - 4s 180ms/step - loss: 0.0066 - accuracy: 0.9975 - val_loss: 0.0150 - val_accuracy: 0.9943\n",
            "Epoch 64/200\n",
            "25/25 [==============================] - 4s 177ms/step - loss: 0.0355 - accuracy: 0.9924 - val_loss: 0.1104 - val_accuracy: 0.9830\n",
            "Epoch 65/200\n",
            "25/25 [==============================] - 5s 182ms/step - loss: 0.0100 - accuracy: 0.9975 - val_loss: 0.0093 - val_accuracy: 0.9972\n",
            "Epoch 66/200\n",
            "25/25 [==============================] - 5s 182ms/step - loss: 0.0170 - accuracy: 0.9950 - val_loss: 0.0654 - val_accuracy: 0.9886\n",
            "Epoch 67/200\n",
            "25/25 [==============================] - 5s 181ms/step - loss: 0.0099 - accuracy: 0.9962 - val_loss: 0.0116 - val_accuracy: 0.9943\n",
            "Epoch 68/200\n",
            "25/25 [==============================] - 5s 180ms/step - loss: 0.0052 - accuracy: 0.9975 - val_loss: 0.0147 - val_accuracy: 0.9943\n",
            "Epoch 69/200\n",
            "25/25 [==============================] - 4s 177ms/step - loss: 0.0033 - accuracy: 0.9987 - val_loss: 0.0113 - val_accuracy: 0.9972\n",
            "Epoch 70/200\n",
            "25/25 [==============================] - 4s 179ms/step - loss: 0.0024 - accuracy: 1.0000 - val_loss: 0.0036 - val_accuracy: 0.9972\n",
            "Epoch 71/200\n",
            "25/25 [==============================] - 4s 179ms/step - loss: 0.0086 - accuracy: 0.9975 - val_loss: 0.0076 - val_accuracy: 0.9972\n",
            "Epoch 72/200\n",
            "25/25 [==============================] - 5s 180ms/step - loss: 0.0066 - accuracy: 0.9975 - val_loss: 3.0298e-04 - val_accuracy: 1.0000\n",
            "Epoch 73/200\n",
            "25/25 [==============================] - 5s 182ms/step - loss: 0.0073 - accuracy: 0.9975 - val_loss: 0.0019 - val_accuracy: 1.0000\n",
            "Epoch 74/200\n",
            "25/25 [==============================] - 4s 180ms/step - loss: 0.0621 - accuracy: 0.9887 - val_loss: 0.0188 - val_accuracy: 0.9943\n",
            "Epoch 75/200\n",
            "25/25 [==============================] - 5s 182ms/step - loss: 0.0026 - accuracy: 1.0000 - val_loss: 0.0153 - val_accuracy: 0.9972\n",
            "Epoch 76/200\n",
            "25/25 [==============================] - 5s 181ms/step - loss: 0.0216 - accuracy: 0.9950 - val_loss: 0.0153 - val_accuracy: 0.9972\n",
            "Epoch 77/200\n",
            "25/25 [==============================] - 5s 180ms/step - loss: 0.0214 - accuracy: 0.9950 - val_loss: 0.2018 - val_accuracy: 0.9773\n",
            "Epoch 78/200\n",
            "25/25 [==============================] - 5s 182ms/step - loss: 0.0059 - accuracy: 0.9987 - val_loss: 0.0270 - val_accuracy: 0.9915\n",
            "Epoch 79/200\n",
            "25/25 [==============================] - 5s 183ms/step - loss: 0.0106 - accuracy: 0.9962 - val_loss: 0.0267 - val_accuracy: 0.9915\n",
            "Epoch 80/200\n",
            "25/25 [==============================] - 5s 182ms/step - loss: 0.0058 - accuracy: 0.9987 - val_loss: 0.0116 - val_accuracy: 0.9972\n",
            "Epoch 81/200\n",
            "25/25 [==============================] - 5s 181ms/step - loss: 0.0230 - accuracy: 0.9937 - val_loss: 0.0130 - val_accuracy: 0.9972\n",
            "Epoch 82/200\n",
            "25/25 [==============================] - 5s 182ms/step - loss: 0.0027 - accuracy: 1.0000 - val_loss: 0.0330 - val_accuracy: 0.9915\n",
            "Epoch 83/200\n",
            "25/25 [==============================] - 5s 180ms/step - loss: 0.0065 - accuracy: 0.9987 - val_loss: 0.0177 - val_accuracy: 0.9972\n",
            "Epoch 84/200\n",
            "25/25 [==============================] - 5s 182ms/step - loss: 0.0089 - accuracy: 0.9962 - val_loss: 0.0152 - val_accuracy: 0.9943\n",
            "Epoch 85/200\n",
            "25/25 [==============================] - 5s 181ms/step - loss: 0.0096 - accuracy: 0.9987 - val_loss: 0.0024 - val_accuracy: 0.9972\n",
            "Epoch 86/200\n",
            "25/25 [==============================] - 5s 181ms/step - loss: 0.0168 - accuracy: 0.9975 - val_loss: 0.0016 - val_accuracy: 1.0000\n",
            "Epoch 87/200\n",
            "25/25 [==============================] - 5s 183ms/step - loss: 4.8256e-04 - accuracy: 1.0000 - val_loss: 0.0018 - val_accuracy: 1.0000\n",
            "Epoch 88/200\n",
            "25/25 [==============================] - 5s 181ms/step - loss: 9.2025e-04 - accuracy: 1.0000 - val_loss: 0.0076 - val_accuracy: 0.9972\n",
            "Epoch 89/200\n",
            "25/25 [==============================] - 5s 182ms/step - loss: 0.0025 - accuracy: 0.9987 - val_loss: 0.0144 - val_accuracy: 0.9972\n",
            "Epoch 90/200\n",
            "25/25 [==============================] - 4s 178ms/step - loss: 3.6639e-04 - accuracy: 1.0000 - val_loss: 0.0142 - val_accuracy: 0.9972\n",
            "Epoch 91/200\n",
            "25/25 [==============================] - 5s 182ms/step - loss: 0.0027 - accuracy: 0.9987 - val_loss: 0.0144 - val_accuracy: 0.9972\n",
            "Epoch 92/200\n",
            "25/25 [==============================] - 5s 182ms/step - loss: 0.0084 - accuracy: 0.9975 - val_loss: 2.4919e-04 - val_accuracy: 1.0000\n",
            "Epoch 93/200\n",
            "25/25 [==============================] - 5s 181ms/step - loss: 6.2750e-04 - accuracy: 1.0000 - val_loss: 1.0618e-04 - val_accuracy: 1.0000\n",
            "Epoch 94/200\n",
            "25/25 [==============================] - 5s 181ms/step - loss: 0.0065 - accuracy: 0.9987 - val_loss: 0.0082 - val_accuracy: 0.9943\n",
            "Epoch 95/200\n",
            "25/25 [==============================] - 4s 179ms/step - loss: 0.0039 - accuracy: 0.9987 - val_loss: 0.0266 - val_accuracy: 0.9943\n",
            "Epoch 96/200\n",
            "25/25 [==============================] - 5s 182ms/step - loss: 0.0094 - accuracy: 0.9987 - val_loss: 0.0194 - val_accuracy: 0.9943\n",
            "Epoch 97/200\n",
            "25/25 [==============================] - 5s 185ms/step - loss: 0.0029 - accuracy: 0.9987 - val_loss: 0.0118 - val_accuracy: 0.9972\n",
            "Epoch 98/200\n",
            "25/25 [==============================] - 5s 184ms/step - loss: 0.0026 - accuracy: 0.9975 - val_loss: 0.0116 - val_accuracy: 0.9972\n",
            "Epoch 99/200\n",
            "25/25 [==============================] - 5s 182ms/step - loss: 0.0155 - accuracy: 0.9987 - val_loss: 0.0277 - val_accuracy: 0.9943\n",
            "Epoch 100/200\n",
            "25/25 [==============================] - ETA: 0s - loss: 0.0020 - accuracy: 1.0000\n",
            "Epoch 00100: saving model to training_MobNet/cp-0100.ckpt\n",
            "25/25 [==============================] - 5s 214ms/step - loss: 0.0020 - accuracy: 1.0000 - val_loss: 0.0184 - val_accuracy: 0.9943\n",
            "Epoch 101/200\n",
            "25/25 [==============================] - 5s 182ms/step - loss: 0.0036 - accuracy: 0.9975 - val_loss: 0.0056 - val_accuracy: 0.9943\n",
            "Epoch 102/200\n",
            "25/25 [==============================] - 4s 179ms/step - loss: 0.0055 - accuracy: 0.9975 - val_loss: 0.0140 - val_accuracy: 0.9943\n",
            "Epoch 103/200\n",
            "25/25 [==============================] - 5s 182ms/step - loss: 0.0122 - accuracy: 0.9975 - val_loss: 0.1347 - val_accuracy: 0.9801\n",
            "Epoch 104/200\n",
            "25/25 [==============================] - 5s 182ms/step - loss: 0.0442 - accuracy: 0.9950 - val_loss: 0.0301 - val_accuracy: 0.9886\n",
            "Epoch 105/200\n",
            "25/25 [==============================] - 5s 184ms/step - loss: 0.0018 - accuracy: 1.0000 - val_loss: 0.0397 - val_accuracy: 0.9915\n",
            "Epoch 106/200\n",
            "25/25 [==============================] - 5s 184ms/step - loss: 0.0026 - accuracy: 0.9987 - val_loss: 0.0191 - val_accuracy: 0.9915\n",
            "Epoch 107/200\n",
            "25/25 [==============================] - 5s 182ms/step - loss: 0.0107 - accuracy: 0.9975 - val_loss: 0.0023 - val_accuracy: 1.0000\n",
            "Epoch 108/200\n",
            "25/25 [==============================] - 5s 181ms/step - loss: 0.0014 - accuracy: 1.0000 - val_loss: 0.0145 - val_accuracy: 0.9943\n",
            "Epoch 109/200\n",
            "25/25 [==============================] - 4s 179ms/step - loss: 0.0166 - accuracy: 0.9975 - val_loss: 0.0798 - val_accuracy: 0.9915\n",
            "Epoch 110/200\n",
            "25/25 [==============================] - 5s 182ms/step - loss: 1.1924e-04 - accuracy: 1.0000 - val_loss: 0.0831 - val_accuracy: 0.9915\n",
            "Epoch 111/200\n",
            "25/25 [==============================] - 5s 182ms/step - loss: 0.0235 - accuracy: 0.9962 - val_loss: 0.0203 - val_accuracy: 0.9943\n",
            "Epoch 112/200\n",
            "25/25 [==============================] - 4s 175ms/step - loss: 0.0026 - accuracy: 0.9987 - val_loss: 0.0864 - val_accuracy: 0.9915\n",
            "Epoch 113/200\n",
            "25/25 [==============================] - 5s 180ms/step - loss: 0.0366 - accuracy: 0.9950 - val_loss: 0.0620 - val_accuracy: 0.9972\n",
            "Epoch 114/200\n",
            "25/25 [==============================] - 5s 182ms/step - loss: 0.0329 - accuracy: 0.9962 - val_loss: 0.0653 - val_accuracy: 0.9915\n",
            "Epoch 115/200\n",
            "25/25 [==============================] - 5s 182ms/step - loss: 0.0361 - accuracy: 0.9924 - val_loss: 0.0720 - val_accuracy: 0.9858\n",
            "Epoch 116/200\n",
            "25/25 [==============================] - 5s 183ms/step - loss: 0.0078 - accuracy: 0.9975 - val_loss: 0.0786 - val_accuracy: 0.9858\n",
            "Epoch 117/200\n",
            "25/25 [==============================] - 5s 182ms/step - loss: 0.0017 - accuracy: 0.9987 - val_loss: 0.0533 - val_accuracy: 0.9915\n",
            "Epoch 118/200\n",
            "25/25 [==============================] - 5s 180ms/step - loss: 0.0228 - accuracy: 0.9950 - val_loss: 0.1694 - val_accuracy: 0.9773\n",
            "Epoch 119/200\n",
            "25/25 [==============================] - 4s 178ms/step - loss: 0.0342 - accuracy: 0.9924 - val_loss: 0.1062 - val_accuracy: 0.9801\n",
            "Epoch 120/200\n",
            "25/25 [==============================] - 5s 181ms/step - loss: 0.0092 - accuracy: 0.9950 - val_loss: 0.1352 - val_accuracy: 0.9858\n",
            "Epoch 121/200\n",
            "25/25 [==============================] - 5s 181ms/step - loss: 0.0358 - accuracy: 0.9937 - val_loss: 0.9233 - val_accuracy: 0.9432\n",
            "Epoch 122/200\n",
            "25/25 [==============================] - 5s 180ms/step - loss: 0.1464 - accuracy: 0.9811 - val_loss: 0.6023 - val_accuracy: 0.9318\n",
            "Epoch 123/200\n",
            "25/25 [==============================] - 5s 182ms/step - loss: 0.0300 - accuracy: 0.9924 - val_loss: 0.8948 - val_accuracy: 0.9290\n",
            "Epoch 124/200\n",
            "25/25 [==============================] - 5s 181ms/step - loss: 0.0407 - accuracy: 0.9887 - val_loss: 0.6684 - val_accuracy: 0.9432\n",
            "Epoch 125/200\n",
            "25/25 [==============================] - 5s 181ms/step - loss: 0.0240 - accuracy: 0.9950 - val_loss: 0.3581 - val_accuracy: 0.9688\n",
            "Epoch 126/200\n",
            "25/25 [==============================] - 5s 181ms/step - loss: 0.0471 - accuracy: 0.9887 - val_loss: 0.0387 - val_accuracy: 0.9915\n",
            "Epoch 127/200\n",
            "25/25 [==============================] - 5s 181ms/step - loss: 0.0583 - accuracy: 0.9924 - val_loss: 0.0627 - val_accuracy: 0.9943\n",
            "Epoch 128/200\n",
            "25/25 [==============================] - 5s 181ms/step - loss: 0.0391 - accuracy: 0.9924 - val_loss: 0.0717 - val_accuracy: 0.9943\n",
            "Epoch 129/200\n",
            "25/25 [==============================] - 4s 180ms/step - loss: 0.0392 - accuracy: 0.9950 - val_loss: 0.0928 - val_accuracy: 0.9858\n",
            "Epoch 130/200\n",
            "25/25 [==============================] - 5s 183ms/step - loss: 0.0122 - accuracy: 0.9987 - val_loss: 0.0218 - val_accuracy: 0.9972\n",
            "Epoch 131/200\n",
            "25/25 [==============================] - 5s 181ms/step - loss: 0.0065 - accuracy: 0.9987 - val_loss: 0.0574 - val_accuracy: 0.9943\n",
            "Epoch 132/200\n",
            "25/25 [==============================] - 5s 182ms/step - loss: 0.0038 - accuracy: 0.9975 - val_loss: 0.0012 - val_accuracy: 1.0000\n",
            "Epoch 133/200\n",
            "25/25 [==============================] - 4s 180ms/step - loss: 0.0359 - accuracy: 0.9975 - val_loss: 2.0812e-05 - val_accuracy: 1.0000\n",
            "Epoch 134/200\n",
            "25/25 [==============================] - 4s 179ms/step - loss: 1.6246e-04 - accuracy: 1.0000 - val_loss: 8.4224e-05 - val_accuracy: 1.0000\n",
            "Epoch 135/200\n",
            "25/25 [==============================] - 5s 181ms/step - loss: 0.0387 - accuracy: 0.9950 - val_loss: 0.0088 - val_accuracy: 0.9972\n",
            "Epoch 136/200\n",
            "25/25 [==============================] - 5s 181ms/step - loss: 0.0037 - accuracy: 0.9987 - val_loss: 1.1753e-05 - val_accuracy: 1.0000\n",
            "Epoch 137/200\n",
            "25/25 [==============================] - 4s 179ms/step - loss: 0.0017 - accuracy: 0.9987 - val_loss: 0.0082 - val_accuracy: 0.9972\n",
            "Epoch 138/200\n",
            "25/25 [==============================] - 5s 181ms/step - loss: 0.0058 - accuracy: 0.9975 - val_loss: 0.0017 - val_accuracy: 1.0000\n",
            "Epoch 139/200\n",
            "25/25 [==============================] - 5s 186ms/step - loss: 0.0078 - accuracy: 0.9987 - val_loss: 3.7910e-05 - val_accuracy: 1.0000\n",
            "Epoch 140/200\n",
            "25/25 [==============================] - 5s 184ms/step - loss: 3.7113e-04 - accuracy: 1.0000 - val_loss: 4.7814e-06 - val_accuracy: 1.0000\n",
            "Epoch 141/200\n",
            "25/25 [==============================] - 5s 181ms/step - loss: 3.8780e-05 - accuracy: 1.0000 - val_loss: 1.7774e-06 - val_accuracy: 1.0000\n",
            "Epoch 142/200\n",
            "25/25 [==============================] - 5s 183ms/step - loss: 0.0027 - accuracy: 0.9987 - val_loss: 2.2554e-07 - val_accuracy: 1.0000\n",
            "Epoch 143/200\n",
            "25/25 [==============================] - 5s 183ms/step - loss: 0.0014 - accuracy: 0.9987 - val_loss: 1.1288e-05 - val_accuracy: 1.0000\n",
            "Epoch 144/200\n",
            "25/25 [==============================] - 4s 180ms/step - loss: 4.5660e-04 - accuracy: 1.0000 - val_loss: 4.8416e-06 - val_accuracy: 1.0000\n",
            "Epoch 145/200\n",
            "25/25 [==============================] - 4s 179ms/step - loss: 0.0112 - accuracy: 0.9987 - val_loss: 8.2431e-04 - val_accuracy: 1.0000\n",
            "Epoch 146/200\n",
            "25/25 [==============================] - 5s 181ms/step - loss: 0.0018 - accuracy: 1.0000 - val_loss: 0.0388 - val_accuracy: 0.9943\n",
            "Epoch 147/200\n",
            "25/25 [==============================] - 5s 181ms/step - loss: 0.0087 - accuracy: 0.9975 - val_loss: 3.2778e-04 - val_accuracy: 1.0000\n",
            "Epoch 148/200\n",
            "25/25 [==============================] - 5s 181ms/step - loss: 0.0103 - accuracy: 0.9975 - val_loss: 1.4580e-05 - val_accuracy: 1.0000\n",
            "Epoch 149/200\n",
            "25/25 [==============================] - 5s 181ms/step - loss: 7.1118e-04 - accuracy: 1.0000 - val_loss: 2.8659e-05 - val_accuracy: 1.0000\n",
            "Epoch 150/200\n",
            "25/25 [==============================] - ETA: 0s - loss: 0.0029 - accuracy: 0.9987\n",
            "Epoch 00150: saving model to training_MobNet/cp-0150.ckpt\n",
            "25/25 [==============================] - 5s 218ms/step - loss: 0.0029 - accuracy: 0.9987 - val_loss: 4.6058e-05 - val_accuracy: 1.0000\n",
            "Epoch 151/200\n",
            "25/25 [==============================] - 5s 182ms/step - loss: 6.0002e-05 - accuracy: 1.0000 - val_loss: 5.5708e-05 - val_accuracy: 1.0000\n",
            "Epoch 152/200\n",
            "25/25 [==============================] - 5s 181ms/step - loss: 0.0011 - accuracy: 1.0000 - val_loss: 3.4381e-05 - val_accuracy: 1.0000\n",
            "Epoch 153/200\n",
            "25/25 [==============================] - 4s 179ms/step - loss: 0.0020 - accuracy: 0.9987 - val_loss: 1.4390e-04 - val_accuracy: 1.0000\n",
            "Epoch 154/200\n",
            "25/25 [==============================] - 5s 182ms/step - loss: 1.3063e-04 - accuracy: 1.0000 - val_loss: 1.5862e-04 - val_accuracy: 1.0000\n",
            "Epoch 155/200\n",
            "25/25 [==============================] - 5s 183ms/step - loss: 1.1701e-05 - accuracy: 1.0000 - val_loss: 1.9427e-04 - val_accuracy: 1.0000\n",
            "Epoch 156/200\n",
            "25/25 [==============================] - 5s 182ms/step - loss: 0.0025 - accuracy: 0.9987 - val_loss: 3.0991e-05 - val_accuracy: 1.0000\n",
            "Epoch 157/200\n",
            "25/25 [==============================] - 4s 179ms/step - loss: 2.0174e-05 - accuracy: 1.0000 - val_loss: 6.3450e-06 - val_accuracy: 1.0000\n",
            "Epoch 158/200\n",
            "25/25 [==============================] - 5s 181ms/step - loss: 5.5562e-05 - accuracy: 1.0000 - val_loss: 9.6478e-06 - val_accuracy: 1.0000\n",
            "Epoch 159/200\n",
            "25/25 [==============================] - 5s 182ms/step - loss: 1.1346e-04 - accuracy: 1.0000 - val_loss: 1.3317e-05 - val_accuracy: 1.0000\n",
            "Epoch 160/200\n",
            "25/25 [==============================] - 5s 182ms/step - loss: 3.1855e-05 - accuracy: 1.0000 - val_loss: 1.0838e-05 - val_accuracy: 1.0000\n",
            "Epoch 161/200\n",
            "25/25 [==============================] - 5s 181ms/step - loss: 8.2264e-04 - accuracy: 1.0000 - val_loss: 2.3121e-05 - val_accuracy: 1.0000\n",
            "Epoch 162/200\n",
            "25/25 [==============================] - 5s 182ms/step - loss: 3.9374e-04 - accuracy: 1.0000 - val_loss: 8.9532e-07 - val_accuracy: 1.0000\n",
            "Epoch 163/200\n",
            "25/25 [==============================] - 5s 182ms/step - loss: 1.9773e-04 - accuracy: 1.0000 - val_loss: 1.3749e-07 - val_accuracy: 1.0000\n",
            "Epoch 164/200\n",
            "25/25 [==============================] - 5s 181ms/step - loss: 0.0019 - accuracy: 0.9987 - val_loss: 1.0138e-04 - val_accuracy: 1.0000\n",
            "Epoch 165/200\n",
            "25/25 [==============================] - 5s 183ms/step - loss: 4.4067e-04 - accuracy: 1.0000 - val_loss: 0.0019 - val_accuracy: 1.0000\n",
            "Epoch 166/200\n",
            "25/25 [==============================] - 5s 182ms/step - loss: 3.6281e-04 - accuracy: 1.0000 - val_loss: 3.1746e-04 - val_accuracy: 1.0000\n",
            "Epoch 167/200\n",
            "25/25 [==============================] - 4s 178ms/step - loss: 1.2049e-05 - accuracy: 1.0000 - val_loss: 9.7426e-05 - val_accuracy: 1.0000\n",
            "Epoch 168/200\n",
            "25/25 [==============================] - 5s 181ms/step - loss: 3.3954e-04 - accuracy: 1.0000 - val_loss: 2.8464e-05 - val_accuracy: 1.0000\n",
            "Epoch 169/200\n",
            "25/25 [==============================] - 5s 183ms/step - loss: 1.0701e-04 - accuracy: 1.0000 - val_loss: 9.7468e-06 - val_accuracy: 1.0000\n",
            "Epoch 170/200\n",
            "25/25 [==============================] - 5s 180ms/step - loss: 0.0254 - accuracy: 0.9975 - val_loss: 5.0697e-06 - val_accuracy: 1.0000\n",
            "Epoch 171/200\n",
            "25/25 [==============================] - 5s 184ms/step - loss: 0.0227 - accuracy: 0.9962 - val_loss: 1.6735 - val_accuracy: 0.9489\n",
            "Epoch 172/200\n",
            "25/25 [==============================] - 5s 181ms/step - loss: 0.0309 - accuracy: 0.9975 - val_loss: 0.4807 - val_accuracy: 0.9688\n",
            "Epoch 173/200\n",
            "25/25 [==============================] - 4s 179ms/step - loss: 0.1367 - accuracy: 0.9861 - val_loss: 0.0504 - val_accuracy: 0.9858\n",
            "Epoch 174/200\n",
            "25/25 [==============================] - 5s 182ms/step - loss: 0.0393 - accuracy: 0.9912 - val_loss: 0.5048 - val_accuracy: 0.9659\n",
            "Epoch 175/200\n",
            "25/25 [==============================] - 5s 182ms/step - loss: 0.0228 - accuracy: 0.9962 - val_loss: 0.2652 - val_accuracy: 0.9716\n",
            "Epoch 176/200\n",
            "25/25 [==============================] - 5s 183ms/step - loss: 0.0357 - accuracy: 0.9975 - val_loss: 0.1258 - val_accuracy: 0.9858\n",
            "Epoch 177/200\n",
            "25/25 [==============================] - 5s 182ms/step - loss: 0.0458 - accuracy: 0.9950 - val_loss: 0.0366 - val_accuracy: 0.9943\n",
            "Epoch 178/200\n",
            "25/25 [==============================] - 5s 181ms/step - loss: 0.0148 - accuracy: 0.9950 - val_loss: 0.0844 - val_accuracy: 0.9915\n",
            "Epoch 179/200\n",
            "25/25 [==============================] - 5s 181ms/step - loss: 0.0169 - accuracy: 0.9962 - val_loss: 0.1736 - val_accuracy: 0.9915\n",
            "Epoch 180/200\n",
            "25/25 [==============================] - 5s 181ms/step - loss: 0.0239 - accuracy: 0.9937 - val_loss: 0.1325 - val_accuracy: 0.9886\n",
            "Epoch 181/200\n",
            "25/25 [==============================] - 5s 181ms/step - loss: 0.0064 - accuracy: 0.9962 - val_loss: 0.0796 - val_accuracy: 0.9915\n",
            "Epoch 182/200\n",
            "25/25 [==============================] - 4s 175ms/step - loss: 0.0079 - accuracy: 0.9975 - val_loss: 0.0459 - val_accuracy: 0.9943\n",
            "Epoch 183/200\n",
            "25/25 [==============================] - 5s 185ms/step - loss: 5.1902e-04 - accuracy: 1.0000 - val_loss: 0.0322 - val_accuracy: 0.9943\n",
            "Epoch 184/200\n",
            "25/25 [==============================] - 5s 180ms/step - loss: 0.0023 - accuracy: 0.9987 - val_loss: 0.0154 - val_accuracy: 0.9972\n",
            "Epoch 185/200\n",
            "25/25 [==============================] - 5s 182ms/step - loss: 1.5451e-04 - accuracy: 1.0000 - val_loss: 0.0152 - val_accuracy: 0.9972\n",
            "Epoch 186/200\n",
            "25/25 [==============================] - 5s 183ms/step - loss: 0.0043 - accuracy: 0.9987 - val_loss: 6.3803e-05 - val_accuracy: 1.0000\n",
            "Epoch 187/200\n",
            "25/25 [==============================] - 5s 182ms/step - loss: 0.0196 - accuracy: 0.9987 - val_loss: 0.0448 - val_accuracy: 0.9943\n",
            "Epoch 188/200\n",
            "25/25 [==============================] - 4s 178ms/step - loss: 0.0049 - accuracy: 0.9987 - val_loss: 0.0483 - val_accuracy: 0.9972\n",
            "Epoch 189/200\n",
            "25/25 [==============================] - 5s 181ms/step - loss: 1.6893e-04 - accuracy: 1.0000 - val_loss: 0.0532 - val_accuracy: 0.9972\n",
            "Epoch 190/200\n",
            "25/25 [==============================] - 5s 183ms/step - loss: 3.7426e-04 - accuracy: 1.0000 - val_loss: 0.0441 - val_accuracy: 0.9972\n",
            "Epoch 191/200\n",
            "25/25 [==============================] - 5s 184ms/step - loss: 0.0308 - accuracy: 0.9950 - val_loss: 0.7229 - val_accuracy: 0.9489\n",
            "Epoch 192/200\n",
            "25/25 [==============================] - 5s 183ms/step - loss: 0.0453 - accuracy: 0.9962 - val_loss: 0.3099 - val_accuracy: 0.9744\n",
            "Epoch 193/200\n",
            "25/25 [==============================] - 4s 180ms/step - loss: 0.0411 - accuracy: 0.9987 - val_loss: 0.0268 - val_accuracy: 0.9915\n",
            "Epoch 194/200\n",
            "25/25 [==============================] - 5s 182ms/step - loss: 0.0203 - accuracy: 0.9975 - val_loss: 0.0115 - val_accuracy: 0.9915\n",
            "Epoch 195/200\n",
            "25/25 [==============================] - 5s 181ms/step - loss: 0.0106 - accuracy: 0.9987 - val_loss: 0.0225 - val_accuracy: 0.9915\n",
            "Epoch 196/200\n",
            "25/25 [==============================] - 5s 181ms/step - loss: 0.0311 - accuracy: 0.9962 - val_loss: 0.1210 - val_accuracy: 0.9830\n",
            "Epoch 197/200\n",
            "25/25 [==============================] - 5s 181ms/step - loss: 0.0095 - accuracy: 0.9975 - val_loss: 0.0333 - val_accuracy: 0.9943\n",
            "Epoch 198/200\n",
            "25/25 [==============================] - 5s 181ms/step - loss: 0.0098 - accuracy: 0.9975 - val_loss: 3.9784e-04 - val_accuracy: 1.0000\n",
            "Epoch 199/200\n",
            "25/25 [==============================] - 5s 181ms/step - loss: 0.0208 - accuracy: 0.9962 - val_loss: 0.0032 - val_accuracy: 1.0000\n",
            "Epoch 200/200\n",
            "25/25 [==============================] - ETA: 0s - loss: 2.8618e-04 - accuracy: 1.0000\n",
            "Epoch 00200: saving model to training_MobNet/cp-0200.ckpt\n",
            "25/25 [==============================] - 5s 212ms/step - loss: 2.8618e-04 - accuracy: 1.0000 - val_loss: 0.0137 - val_accuracy: 0.9943\n",
            "\n",
            " model_mobnet took 943.10 seconds (15.7 minutes) to train for 200 epochs\n"
          ],
          "name": "stdout"
        }
      ]
    },
    {
      "cell_type": "markdown",
      "metadata": {
        "id": "UIrhE3LMcsBU"
      },
      "source": [
        "###**ขั้นตอนการ Save file Model เเละ Json**"
      ]
    },
    {
      "cell_type": "code",
      "metadata": {
        "id": "5jkhbODRb0RH"
      },
      "source": [
        "#เปลี่ยนชื่อไฟล์ทุกครั้งเวลา SAVE\n",
        "!mkdir saved_model\n",
        "model_mobnet.save('saved_model/model-mobnet(lastest).h5') #ดูจำนวนรอบที่เทรนด้วยว่าทั้งหมดกี่รอบจริงๆเเล้ว\n",
        "model_mobnet.save_weights('saved_model/weightmodel-mobnet.h5')"
      ],
      "execution_count": 16,
      "outputs": []
    },
    {
      "cell_type": "code",
      "metadata": {
        "id": "RUbahazNckQo"
      },
      "source": [
        "#Import dependencies\n",
        "!mkdir jsonfile\n",
        "import json\n",
        "from keras.models import model_from_json, load_model\n",
        "with open('jsonfile/model_mobnet.json', 'w') as f:\n",
        "    f.write(model_mobnet.to_json())\n",
        "print(\"Saved model success\")"
      ],
      "execution_count": null,
      "outputs": []
    },
    {
      "cell_type": "markdown",
      "metadata": {
        "id": "ctXhsc5pc-5N"
      },
      "source": [
        "###**เเสดงกราฟข้อมูลค่าความเเม่นยำเเละค่าความสูญเสีย Training เเละ Validation**"
      ]
    },
    {
      "cell_type": "code",
      "metadata": {
        "id": "k8UxPxbZdNzR",
        "colab": {
          "base_uri": "https://localhost:8080/",
          "height": 299
        },
        "outputId": "e8967467-4acc-4dc1-8d7e-d1748df15263"
      },
      "source": [
        "import matplotlib.pyplot as plt\n",
        "\n",
        "acc = model_mobnet.history.history['accuracy']\n",
        "val_acc = model_mobnet.history.history['val_accuracy']\n",
        "\n",
        "loss= model_mobnet.history.history['loss']\n",
        "val_loss= model_mobnet.history.history['val_loss']\n",
        "\n",
        "\n",
        "plt.style.use(\"ggplot\")\n",
        "#  \"Accuracy\"\n",
        "plt.figure(figsize=(15, 4))\n",
        "plt.subplot(1, 2, 1)\n",
        "plt.plot(acc, label='Training Accuracy')\n",
        "plt.plot(val_acc, label='Validation Accuracy')\n",
        "plt.legend(loc='upper right')\n",
        "plt.title('Training and Validation Accuracy')\n",
        "plt.ylabel('accuracy')\n",
        "plt.xlabel('epochs')\n",
        "#  \"Loss\"\n",
        "plt.subplot(1, 2, 2)\n",
        "plt.plot(loss, label='Training Loss')\n",
        "plt.plot(val_loss, label='Validation Loss')\n",
        "plt.legend(loc='lower right')\n",
        "plt.title('Training and Validation Loss')\n",
        "plt.ylabel('loss')\n",
        "plt.xlabel('epochs')\n",
        "plt.show()"
      ],
      "execution_count": 15,
      "outputs": [
        {
          "output_type": "display_data",
          "data": {
            "image/png": "[encoded data removed]",
            "text/plain": [
              "<Figure size 1080x288 with 2 Axes>"
            ]
          },
          "metadata": {
            "tags": []
          }
        }
      ]
    },
    {
      "cell_type": "markdown",
      "metadata": {
        "id": "m0m3J0nidxqf"
      },
      "source": [
        "###**จุด Checkpoint**"
      ]
    },
    {
      "cell_type": "code",
      "metadata": {
        "id": "CjjRM_w0eE5D",
        "colab": {
          "base_uri": "https://localhost:8080/",
          "height": 35
        },
        "outputId": "bd8b5067-7f63-439c-f1a4-31f0a1a9cf30"
      },
      "source": [
        "latest = tf.train.latest_checkpoint(checkpoint_dir)\n",
        "latest"
      ],
      "execution_count": 32,
      "outputs": [
        {
          "output_type": "execute_result",
          "data": {
            "application/vnd.google.colaboratory.intrinsic+json": {
              "type": "string"
            },
            "text/plain": [
              "'training_MobNet/cp-0200.ckpt'"
            ]
          },
          "metadata": {
            "tags": []
          },
          "execution_count": 32
        }
      ]
    },
    {
      "cell_type": "code",
      "metadata": {
        "id": "IBO8Q9Q4eE7E",
        "colab": {
          "base_uri": "https://localhost:8080/"
        },
        "outputId": "8a20cdc6-52fb-4c71-b8a1-d76f8ce2ed66"
      },
      "source": [
        "# Load the previously saved weights\n",
        "model_mobnet.load_weights(latest)\n",
        "\n",
        "# Re-evaluate the model\n",
        "loss, acc = model_mobnet.evaluate(valid_generator, verbose=2)\n",
        "print(\"Restored model, accuracy: {:5.2f}%\".format(100*acc))"
      ],
      "execution_count": null,
      "outputs": [
        {
          "output_type": "stream",
          "text": [
            "12/12 - 1s - loss: 0.0334 - accuracy: 0.9916\n",
            "Restored model, accuracy: 99.16%\n"
          ],
          "name": "stdout"
        }
      ]
    },
    {
      "cell_type": "markdown",
      "metadata": {
        "id": "hOnDw5WeeNXc"
      },
      "source": [
        "###**Save model อีกเเบบเพื่อนำไปเเปลงเป็น TensorflwLite**"
      ]
    },
    {
      "cell_type": "code",
      "metadata": {
        "id": "WCKmhkZ2eVSt",
        "colab": {
          "base_uri": "https://localhost:8080/"
        },
        "outputId": "4f8bb1ba-4f92-4954-c325-86b07fd782b1"
      },
      "source": [
        "# Save the entire model as a SavedModel.\n",
        "model_mobnet.save('saved_model/my_model') "
      ],
      "execution_count": 35,
      "outputs": [
        {
          "output_type": "stream",
          "text": [
            "WARNING:tensorflow:From /usr/local/lib/python3.6/dist-packages/tensorflow/python/training/tracking/tracking.py:111: Model.state_updates (from tensorflow.python.keras.engine.training) is deprecated and will be removed in a future version.\n",
            "Instructions for updating:\n",
            "This property should not be used in TensorFlow 2.0, as updates are applied automatically.\n",
            "WARNING:tensorflow:From /usr/local/lib/python3.6/dist-packages/tensorflow/python/training/tracking/tracking.py:111: Layer.updates (from tensorflow.python.keras.engine.base_layer) is deprecated and will be removed in a future version.\n",
            "Instructions for updating:\n",
            "This property should not be used in TensorFlow 2.0, as updates are applied automatically.\n",
            "INFO:tensorflow:Assets written to: saved_model/my_model/assets\n"
          ],
          "name": "stdout"
        }
      ]
    },
    {
      "cell_type": "code",
      "metadata": {
        "id": "UiTau3PReVU1"
      },
      "source": [
        "model= tf.keras.models.load_model('saved_model/my_model')\n",
        "tflite_converter = tf.lite.TFLiteConverter.from_keras_model(model)\n",
        "tflite_model = tflite_converter.convert()\n",
        "open(\"tf_lite_model(200epochsmobnet).tflite\", \"wb\").write(tflite_model) "
      ],
      "execution_count": null,
      "outputs": []
    },
    {
      "cell_type": "markdown",
      "metadata": {
        "id": "Y7P6p0lzeq7g"
      },
      "source": [
        "###**ขั้นตอนของ Prediction เเบบบ Confusion Matrix**"
      ]
    },
    {
      "cell_type": "code",
      "metadata": {
        "id": "tA579sRAeVXH",
        "colab": {
          "base_uri": "https://localhost:8080/",
          "height": 352
        },
        "outputId": "5057d2ef-4a97-4a66-eab2-3d84c3d45d58"
      },
      "source": [
        "import seaborn as sn\n",
        "import pandas as pd\n",
        "\n",
        "model = tf.keras.models.load_model('saved_model/my_model')\n",
        "filenames = valid_generator.filenames\n",
        "nb_samples = len(valid_generator)\n",
        "y_prob=[]\n",
        "y_act=[]\n",
        "valid_generator.reset()\n",
        "for _ in range(nb_samples):\n",
        "    x_test, y_test = valid_generator.next()\n",
        "    y_prob.append(model.predict(x_test))\n",
        "    y_act.append(y_test)\n",
        "    \n",
        "predicted_class = [list(train_generator.class_indices.keys())[i.argmax()] for i in y_prob]\n",
        "actual_class = [list(train_generator.class_indices.keys())[i.argmax()] for i in y_act]\n",
        "\n",
        "out_df = pd.DataFrame(np.vstack([predicted_class,actual_class]).T,columns=['predicted_class', 'actual_class'])\n",
        "confusion_matrix = pd.crosstab(out_df['actual_class'],out_df['predicted_class'], rownames=['Actual'], colnames=['Predicted'])\n",
        "\n",
        "sn.heatmap(confusion_matrix, cmap='Blues', annot= True, fmt='d')\n",
        "plt.show()\n",
        "print('test accuracy : {}'.format((np.diagonal(confusion_matrix).sum()/confusion_matrix.sum().sum()*100)))"
      ],
      "execution_count": 44,
      "outputs": [
        {
          "output_type": "display_data",
          "data": {
            "image/png": "[encoded data removed]",
            "text/plain": [
              "<Figure size 432x288 with 2 Axes>"
            ]
          },
          "metadata": {
            "tags": []
          }
        },
        {
          "output_type": "stream",
          "text": [
            "test accuracy : 99.44289693593315\n"
          ],
          "name": "stdout"
        }
      ]
    },
    {
      "cell_type": "code",
      "metadata": {
        "id": "Pf19XYfP6P3w"
      },
      "source": [
        ""
      ],
      "execution_count": null,
      "outputs": []
    }
  ]
}