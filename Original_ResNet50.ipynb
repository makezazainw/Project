{
  "nbformat": 4,
  "nbformat_minor": 0,
  "metadata": {
    "colab": {
      "name": "Original ResNet50.ipynb",
      "provenance": [],
      "collapsed_sections": [],
      "toc_visible": true,
      "mount_file_id": "1nqdwLXsjFwlxlxCQbA3U6JkyXXaz-VYW",
      "authorship_tag": "ABX9TyP6QXJOrWMNiH6Crw5AtRyh",
      "include_colab_link": true
    },
    "kernelspec": {
      "name": "python3",
      "display_name": "Python 3"
    },
    "accelerator": "GPU"
  },
  "cells": [
    {
      "cell_type": "markdown",
      "metadata": {
        "id": "view-in-github",
        "colab_type": "text"
      },
      "source": [
        "<a href=\"https://colab.research.google.com/github/makezazainw/Project/blob/main/Original_ResNet50.ipynb\" target=\"_parent\"><img src=\"https://colab.research.google.com/assets/colab-badge.svg\" alt=\"Open In Colab\"/></a>"
      ]
    },
    {
      "cell_type": "markdown",
      "metadata": {
        "id": "mew3lwAMaXDH"
      },
      "source": [
        "### **ติดตั้ง Kaggle เเละ เรียกใช้ไฟล์ json เพื่อติดต่อใช้ dataset ใน kaggle**"
      ]
    },
    {
      "cell_type": "code",
      "metadata": {
        "id": "Y5m_qIXOabnO",
        "colab": {
          "base_uri": "https://localhost:8080/"
        },
        "outputId": "4ebb3143-81f1-4b88-a74b-63a8b51dad6c"
      },
      "source": [
        "# Install Kaggle API\n",
        "!pip install -q kaggle\n",
        "!pip install -q kaggle-cli"
      ],
      "execution_count": 1,
      "outputs": [
        {
          "output_type": "stream",
          "text": [
            "\u001b[K     |████████████████████████████████| 81kB 7.3MB/s \n",
            "\u001b[K     |████████████████████████████████| 5.3MB 21.0MB/s \n",
            "\u001b[K     |████████████████████████████████| 133kB 53.2MB/s \n",
            "\u001b[K     |████████████████████████████████| 112kB 51.9MB/s \n",
            "\u001b[K     |████████████████████████████████| 51kB 8.7MB/s \n",
            "\u001b[?25h  Building wheel for kaggle-cli (setup.py) ... \u001b[?25l\u001b[?25hdone\n",
            "  Building wheel for PrettyTable (setup.py) ... \u001b[?25l\u001b[?25hdone\n",
            "  Building wheel for pyperclip (setup.py) ... \u001b[?25l\u001b[?25hdone\n"
          ],
          "name": "stdout"
        }
      ]
    },
    {
      "cell_type": "code",
      "metadata": {
        "id": "a_kkUe3valvy"
      },
      "source": [
        "# only for google colab\n",
        "import os\n",
        "os.environ['KAGGLE_USERNAME'] = \"thammatattantipitham\" \n",
        "os.environ['KAGGLE_KEY'] = \"3cf826ab97707228fb1602519992740b\""
      ],
      "execution_count": 2,
      "outputs": []
    },
    {
      "cell_type": "code",
      "metadata": {
        "id": "jtsvYa8manW1",
        "colab": {
          "base_uri": "https://localhost:8080/"
        },
        "outputId": "4b9f8569-0fa1-444b-cf99-8ccfb870d2d4"
      },
      "source": [
        "!kaggle datasets download -d thammatattantipitham/thaiherb --unzip"
      ],
      "execution_count": 3,
      "outputs": [
        {
          "output_type": "stream",
          "text": [
            "Downloading thaiherb.zip to /content\n",
            " 49% 18.0M/36.8M [00:00<00:00, 86.9MB/s]\n",
            "100% 36.8M/36.8M [00:00<00:00, 123MB/s] \n"
          ],
          "name": "stdout"
        }
      ]
    },
    {
      "cell_type": "code",
      "metadata": {
        "id": "Ihulub6paq8a"
      },
      "source": [
        "#สร้างไฟล์ folder ขึ้นมาเเละเพิ่มข้อมูลเข้าไปใน folder\n",
        "!mkdir thaiherb\n",
        "!mv  \"train\" \"val\" thaiherb"
      ],
      "execution_count": 4,
      "outputs": []
    },
    {
      "cell_type": "markdown",
      "metadata": {
        "id": "yUU4GFLxa2pv"
      },
      "source": [
        "### **เริ่มต้นการ import library ต่างๆเเละการเรียกใช้ไฟล์**\n"
      ]
    },
    {
      "cell_type": "code",
      "metadata": {
        "id": "08sp2eppa_-2",
        "colab": {
          "base_uri": "https://localhost:8080/",
          "height": 35
        },
        "outputId": "e801e68f-cfdd-4b51-a81b-6de42733765f"
      },
      "source": [
        "import sys\n",
        "import time\n",
        "import cv2\n",
        "import numpy as np\n",
        "from matplotlib import pyplot as plt\n",
        "import tensorflow as tf\n",
        "import os\n",
        "import keras\n",
        "\n",
        "from skimage.transform import resize\n",
        "from sklearn.model_selection import train_test_split\n",
        "\n",
        "from tensorflow.python.keras.utils import np_utils\n",
        "from tensorflow.python.keras.models import Sequential, Model\n",
        "from tensorflow.python.keras.layers import Dense, Dropout, Flatten, Activation, BatchNormalization\n",
        "from tensorflow.python.keras.layers.convolutional import Conv2D, MaxPooling2D, AveragePooling2D\n",
        "from tensorflow.python.keras.preprocessing.image import ImageDataGenerator\n",
        "from tensorflow.python.keras.optimizers import RMSprop\n",
        "from tensorflow.python.keras.applications.vgg19 import VGG19\n",
        "from tensorflow.python.keras.applications.mobilenet import MobileNet\n",
        "from tensorflow.keras.applications.resnet50 import ResNet50, preprocess_input\n",
        "from tensorflow.keras.optimizers import Adam\n",
        "from keras.applications import InceptionV3\n",
        "sys.version"
      ],
      "execution_count": 5,
      "outputs": [
        {
          "output_type": "execute_result",
          "data": {
            "application/vnd.google.colaboratory.intrinsic+json": {
              "type": "string"
            },
            "text/plain": [
              "'3.6.9 (default, Oct  8 2020, 12:12:24) \\n[GCC 8.4.0]'"
            ]
          },
          "metadata": {
            "tags": []
          },
          "execution_count": 5
        }
      ]
    },
    {
      "cell_type": "code",
      "metadata": {
        "id": "SM_5RRq_bAAp",
        "colab": {
          "base_uri": "https://localhost:8080/"
        },
        "outputId": "704fce02-b7ad-4753-e2e0-bd1485f0fad7"
      },
      "source": [
        "from tensorflow.compat.v1.keras.backend import set_session\n",
        "\n",
        "config = tf.compat.v1.ConfigProto()\n",
        "\n",
        "config.gpu_options.allow_growth = True  # dynamically grow the memory used on the GPU\n",
        "\n",
        "config.log_device_placement = True  # to log device placement (on which device the operation ran)\n",
        "\n",
        "sess = tf.compat.v1.Session(config=config)\n",
        "\n",
        "set_session(sess)"
      ],
      "execution_count": 6,
      "outputs": [
        {
          "output_type": "stream",
          "text": [
            "Device mapping:\n",
            "/job:localhost/replica:0/task:0/device:XLA_CPU:0 -> device: XLA_CPU device\n",
            "/job:localhost/replica:0/task:0/device:XLA_GPU:0 -> device: XLA_GPU device\n",
            "/job:localhost/replica:0/task:0/device:GPU:0 -> device: 0, name: Tesla T4, pci bus id: 0000:00:04.0, compute capability: 7.5\n",
            "\n"
          ],
          "name": "stdout"
        }
      ]
    },
    {
      "cell_type": "code",
      "metadata": {
        "id": "9vm7Vog_bEAP"
      },
      "source": [
        "DATASET_PATH  = 'thaiherb/'\n",
        "IMAGE_SIZE    = (224, 224)\n",
        "NUM_CLASSES   = 10\n",
        "BATCH_SIZE    = 32  # try reducing batch size or freeze more layers if your GPU runs out of memory\n",
        "epochs    = 200"
      ],
      "execution_count": 7,
      "outputs": []
    },
    {
      "cell_type": "code",
      "metadata": {
        "id": "PNu6CAPDbECl"
      },
      "source": [
        "#ทำ aug มาเเล้ว\n",
        "train_datagen = ImageDataGenerator(preprocessing_function=preprocess_input)"
      ],
      "execution_count": 8,
      "outputs": []
    },
    {
      "cell_type": "code",
      "metadata": {
        "id": "jDKsFAH_bEE1",
        "colab": {
          "base_uri": "https://localhost:8080/"
        },
        "outputId": "6a865518-0770-4bb2-c1b1-74c1d739638e"
      },
      "source": [
        "#set training data\n",
        "train_generator = train_datagen.flow_from_directory(DATASET_PATH+ r\"train/\",\n",
        "                                                    target_size = IMAGE_SIZE,\n",
        "                                                    batch_size = BATCH_SIZE,\n",
        "                                                    class_mode='categorical',\n",
        "                                                    shuffle = True,\n",
        "                                                    subset='training')"
      ],
      "execution_count": 9,
      "outputs": [
        {
          "output_type": "stream",
          "text": [
            "Found 825 images belonging to 10 classes.\n"
          ],
          "name": "stdout"
        }
      ]
    },
    {
      "cell_type": "code",
      "metadata": {
        "id": "w1nB7VakbG_d",
        "colab": {
          "base_uri": "https://localhost:8080/"
        },
        "outputId": "3fe4dacd-87f2-4289-a2a9-913ab57d57e8"
      },
      "source": [
        "valid_datagen = ImageDataGenerator(preprocessing_function=preprocess_input)\n",
        "valid_generator = valid_datagen.flow_from_directory(DATASET_PATH+ r\"val/\",                                      \n",
        "                                                    target_size = IMAGE_SIZE,\n",
        "                                                    batch_size = 1,\n",
        "                                                    class_mode='categorical',\n",
        "                                                    shuffle = True\n",
        "                                                    )"
      ],
      "execution_count": 10,
      "outputs": [
        {
          "output_type": "stream",
          "text": [
            "Found 359 images belonging to 10 classes.\n"
          ],
          "name": "stdout"
        }
      ]
    },
    {
      "cell_type": "markdown",
      "metadata": {
        "id": "5H1qvuqFbNM6"
      },
      "source": [
        "### **Model ResNet50**"
      ]
    },
    {
      "cell_type": "code",
      "metadata": {
        "id": "T9TaFF44bHBy",
        "colab": {
          "base_uri": "https://localhost:8080/"
        },
        "outputId": "e228af91-6fd8-4e2e-e926-f15bce0de378"
      },
      "source": [
        "# Include the epoch in the file name (uses `str.format`)\n",
        "checkpoint_path = \"training_ResNet50/cp-{epoch:04d}.ckpt\"\n",
        "checkpoint_dir = os.path.dirname(checkpoint_path)\n",
        "FREEZE_LAYERS = 2\n",
        "# Create a callback that saves the model's weights every 5 epochs\n",
        "cp_callback = tf.keras.callbacks.ModelCheckpoint(\n",
        "    filepath=checkpoint_path, \n",
        "    verbose=1, \n",
        "    save_weights_only=True,\n",
        "    period=50)\n",
        "\n",
        "#Create the model\n",
        "base_model_resnet = ResNet50(include_top=False,weights='imagenet', input_tensor=None, input_shape=(IMAGE_SIZE[0],IMAGE_SIZE[1],3))\n",
        "x = base_model_resnet.output\n",
        "x = Flatten()(x)\n",
        "x = Dropout(0.5)(x)\n",
        "output_layer = Dense(NUM_CLASSES, activation='softmax', name='softmax')(x)\n",
        "model_resnet = Model(inputs=base_model_resnet.input, outputs=output_layer)\n",
        "for layer in model_resnet.layers[:FREEZE_LAYERS]:\n",
        "    layer.trainable = False\n",
        "for layer in model_resnet.layers[FREEZE_LAYERS:]:\n",
        "    layer.trainable = True\n",
        "# Defining and Adding layers\n",
        "model_resnet= Sequential()\n",
        "#Add the Dense layers along with activation and batch normalization\n",
        "model_resnet.add(base_model_resnet)\n",
        "model_resnet.add(Flatten())\n",
        "\n",
        "#Add the Dense layers along with activation and batch normalization\n",
        "model_resnet.add(Dense(1024,activation=('relu'),input_dim=64))\n",
        "model_resnet.add(Dense(512,activation=('relu'))) \n",
        "model_resnet.add(Dropout(.4))\n",
        "model_resnet.add(Dense(256,activation=('relu'))) \n",
        "model_resnet.add(Dropout(.3))#Adding a dropout layer that will randomly drop 30% of the weights\n",
        "model_resnet.add(Dense(128,activation=('relu')))\n",
        "model_resnet.add(Dropout(.2))\n",
        "model_resnet.add(Dense(NUM_CLASSES,activation=('softmax'))) #This is the classification layer\n",
        "\n",
        "# Save the weights using the `checkpoint_path` format\n",
        "model_resnet.save_weights(checkpoint_path.format(epoch=0))"
      ],
      "execution_count": null,
      "outputs": [
        {
          "output_type": "stream",
          "text": [
            "WARNING:tensorflow:`period` argument is deprecated. Please use `save_freq` to specify the frequency in number of batches seen.\n",
            "Downloading data from https://storage.googleapis.com/tensorflow/keras-applications/resnet/resnet50_weights_tf_dim_ordering_tf_kernels_notop.h5\n",
            "94773248/94765736 [==============================] - 1s 0us/step\n"
          ],
          "name": "stdout"
        }
      ]
    },
    {
      "cell_type": "code",
      "metadata": {
        "id": "TnKEGJjKbHEL",
        "colab": {
          "base_uri": "https://localhost:8080/"
        },
        "outputId": "0cab4b5a-740b-4065-c6ac-58b785b545ff"
      },
      "source": [
        "#Model summary\n",
        "model_resnet.summary()"
      ],
      "execution_count": null,
      "outputs": [
        {
          "output_type": "stream",
          "text": [
            "Model: \"sequential\"\n",
            "_________________________________________________________________\n",
            "Layer (type)                 Output Shape              Param #   \n",
            "=================================================================\n",
            "resnet50 (Functional)        (None, 7, 7, 2048)        23587712  \n",
            "_________________________________________________________________\n",
            "flatten_1 (Flatten)          (None, 100352)            0         \n",
            "_________________________________________________________________\n",
            "dense (Dense)                (None, 1024)              102761472 \n",
            "_________________________________________________________________\n",
            "dense_1 (Dense)              (None, 512)               524800    \n",
            "_________________________________________________________________\n",
            "dropout_1 (Dropout)          (None, 512)               0         \n",
            "_________________________________________________________________\n",
            "dense_2 (Dense)              (None, 256)               131328    \n",
            "_________________________________________________________________\n",
            "dropout_2 (Dropout)          (None, 256)               0         \n",
            "_________________________________________________________________\n",
            "dense_3 (Dense)              (None, 128)               32896     \n",
            "_________________________________________________________________\n",
            "dropout_3 (Dropout)          (None, 128)               0         \n",
            "_________________________________________________________________\n",
            "dense_4 (Dense)              (None, 10)                1290      \n",
            "=================================================================\n",
            "Total params: 127,039,498\n",
            "Trainable params: 126,986,378\n",
            "Non-trainable params: 53,120\n",
            "_________________________________________________________________\n"
          ],
          "name": "stdout"
        }
      ]
    },
    {
      "cell_type": "code",
      "metadata": {
        "id": "HqpePAyfbHGf"
      },
      "source": [
        "model_resnet.compile(optimizer=Adam(lr=0.0001),  #Adam(lr=1e-5)\n",
        "                  loss='categorical_crossentropy', metrics=['accuracy'])"
      ],
      "execution_count": null,
      "outputs": []
    },
    {
      "cell_type": "code",
      "metadata": {
        "id": "WHTNB_RRbHIX",
        "colab": {
          "base_uri": "https://localhost:8080/"
        },
        "outputId": "3f9846c9-c7c1-43d2-bc9d-ea237ba11944"
      },
      "source": [
        "#start to train the model\n",
        "start = time.time()\n",
        "history = model_resnet.fit_generator(generator=train_generator, epochs=epochs, steps_per_epoch=train_generator.samples/train_generator.batch_size, validation_data=valid_generator,validation_steps=valid_generator.samples/valid_generator.batch_size,callbacks=[cp_callback],verbose=1)\n",
        "\n",
        "end = time.time()\n",
        "duration = end - start\n",
        "print ('\\n model_ResNet50 took %0.2f seconds (%0.1f minutes) to train for %d epochs'%(duration, duration/60, epochs) )"
      ],
      "execution_count": null,
      "outputs": [
        {
          "output_type": "stream",
          "text": [
            "WARNING:tensorflow:From <ipython-input-15-a8b100d25ec6>:3: Model.fit_generator (from tensorflow.python.keras.engine.training) is deprecated and will be removed in a future version.\n",
            "Instructions for updating:\n",
            "Please use Model.fit, which supports generators.\n",
            "Epoch 1/200\n",
            " 2/25 [=>............................] - ETA: 4s - loss: 3.0493 - accuracy: 0.1094WARNING:tensorflow:Callbacks method `on_train_batch_end` is slow compared to the batch time (batch time: 0.1277s vs `on_train_batch_end` time: 0.2183s). Check your callbacks.\n",
            "26/25 [==============================] - 12s 460ms/step - loss: 1.9056 - accuracy: 0.4036 - val_loss: 0.6115 - val_accuracy: 0.8106\n",
            "Epoch 2/200\n",
            "26/25 [==============================] - 10s 394ms/step - loss: 0.6698 - accuracy: 0.7952 - val_loss: 0.1605 - val_accuracy: 0.9610\n",
            "Epoch 3/200\n",
            "26/25 [==============================] - 10s 400ms/step - loss: 0.2714 - accuracy: 0.9164 - val_loss: 0.1345 - val_accuracy: 0.9610\n",
            "Epoch 4/200\n",
            "26/25 [==============================] - 10s 402ms/step - loss: 0.1629 - accuracy: 0.9430 - val_loss: 0.0611 - val_accuracy: 0.9833\n",
            "Epoch 5/200\n",
            "26/25 [==============================] - 11s 407ms/step - loss: 0.0815 - accuracy: 0.9733 - val_loss: 0.0212 - val_accuracy: 0.9944\n",
            "Epoch 6/200\n",
            "26/25 [==============================] - 11s 410ms/step - loss: 0.0516 - accuracy: 0.9842 - val_loss: 0.0205 - val_accuracy: 0.9944\n",
            "Epoch 7/200\n",
            "26/25 [==============================] - 11s 413ms/step - loss: 0.0453 - accuracy: 0.9818 - val_loss: 0.0252 - val_accuracy: 0.9944\n",
            "Epoch 8/200\n",
            "26/25 [==============================] - 11s 409ms/step - loss: 0.0421 - accuracy: 0.9830 - val_loss: 0.0098 - val_accuracy: 0.9972\n",
            "Epoch 9/200\n",
            "26/25 [==============================] - 11s 406ms/step - loss: 0.0311 - accuracy: 0.9915 - val_loss: 0.0238 - val_accuracy: 0.9944\n",
            "Epoch 10/200\n",
            "26/25 [==============================] - 11s 407ms/step - loss: 0.0673 - accuracy: 0.9818 - val_loss: 0.0168 - val_accuracy: 0.9916\n",
            "Epoch 11/200\n",
            "26/25 [==============================] - 11s 406ms/step - loss: 0.0608 - accuracy: 0.9855 - val_loss: 0.0395 - val_accuracy: 0.9889\n",
            "Epoch 12/200\n",
            "26/25 [==============================] - 11s 407ms/step - loss: 0.0406 - accuracy: 0.9915 - val_loss: 0.0240 - val_accuracy: 0.9916\n",
            "Epoch 13/200\n",
            "26/25 [==============================] - 11s 408ms/step - loss: 0.0388 - accuracy: 0.9927 - val_loss: 0.0549 - val_accuracy: 0.9889\n",
            "Epoch 14/200\n",
            "26/25 [==============================] - 11s 407ms/step - loss: 0.0233 - accuracy: 0.9927 - val_loss: 0.0309 - val_accuracy: 0.9916\n",
            "Epoch 15/200\n",
            "26/25 [==============================] - 11s 408ms/step - loss: 0.0283 - accuracy: 0.9915 - val_loss: 0.0142 - val_accuracy: 0.9944\n",
            "Epoch 16/200\n",
            "26/25 [==============================] - 11s 408ms/step - loss: 0.0309 - accuracy: 0.9939 - val_loss: 0.0174 - val_accuracy: 0.9944\n",
            "Epoch 17/200\n",
            "26/25 [==============================] - 11s 409ms/step - loss: 0.0176 - accuracy: 0.9964 - val_loss: 0.0163 - val_accuracy: 0.9944\n",
            "Epoch 18/200\n",
            "26/25 [==============================] - 11s 407ms/step - loss: 0.0126 - accuracy: 0.9952 - val_loss: 0.0048 - val_accuracy: 0.9972\n",
            "Epoch 19/200\n",
            "26/25 [==============================] - 11s 406ms/step - loss: 0.0142 - accuracy: 0.9952 - val_loss: 0.0040 - val_accuracy: 0.9972\n",
            "Epoch 20/200\n",
            "26/25 [==============================] - 11s 408ms/step - loss: 0.0020 - accuracy: 1.0000 - val_loss: 0.0114 - val_accuracy: 0.9944\n",
            "Epoch 21/200\n",
            "26/25 [==============================] - 11s 408ms/step - loss: 0.0078 - accuracy: 0.9976 - val_loss: 0.0110 - val_accuracy: 0.9972\n",
            "Epoch 22/200\n",
            "26/25 [==============================] - 11s 407ms/step - loss: 0.0135 - accuracy: 0.9976 - val_loss: 0.0142 - val_accuracy: 0.9972\n",
            "Epoch 23/200\n",
            "26/25 [==============================] - 11s 407ms/step - loss: 0.1118 - accuracy: 0.9818 - val_loss: 0.6616 - val_accuracy: 0.9359\n",
            "Epoch 24/200\n",
            "26/25 [==============================] - 11s 408ms/step - loss: 0.2942 - accuracy: 0.9624 - val_loss: 8.6161 - val_accuracy: 0.6212\n",
            "Epoch 25/200\n",
            "26/25 [==============================] - 11s 408ms/step - loss: 0.1299 - accuracy: 0.9745 - val_loss: 1.8591 - val_accuracy: 0.8942\n",
            "Epoch 26/200\n",
            "26/25 [==============================] - 11s 406ms/step - loss: 0.0692 - accuracy: 0.9867 - val_loss: 0.2859 - val_accuracy: 0.9666\n",
            "Epoch 27/200\n",
            "26/25 [==============================] - 11s 407ms/step - loss: 0.0396 - accuracy: 0.9891 - val_loss: 0.1012 - val_accuracy: 0.9805\n",
            "Epoch 28/200\n",
            "26/25 [==============================] - 11s 407ms/step - loss: 0.0437 - accuracy: 0.9867 - val_loss: 0.2078 - val_accuracy: 0.9861\n",
            "Epoch 29/200\n",
            "26/25 [==============================] - 11s 407ms/step - loss: 0.0448 - accuracy: 0.9939 - val_loss: 0.0688 - val_accuracy: 0.9944\n",
            "Epoch 30/200\n",
            "26/25 [==============================] - 11s 407ms/step - loss: 0.0586 - accuracy: 0.9891 - val_loss: 0.0550 - val_accuracy: 0.9916\n",
            "Epoch 31/200\n",
            "26/25 [==============================] - 11s 408ms/step - loss: 0.0108 - accuracy: 0.9952 - val_loss: 0.0884 - val_accuracy: 0.9944\n",
            "Epoch 32/200\n",
            "26/25 [==============================] - 11s 408ms/step - loss: 0.0387 - accuracy: 0.9927 - val_loss: 0.0203 - val_accuracy: 0.9944\n",
            "Epoch 33/200\n",
            "26/25 [==============================] - 11s 407ms/step - loss: 0.3292 - accuracy: 0.9794 - val_loss: 0.0832 - val_accuracy: 0.9861\n",
            "Epoch 34/200\n",
            "26/25 [==============================] - 11s 407ms/step - loss: 0.0272 - accuracy: 0.9915 - val_loss: 0.0524 - val_accuracy: 0.9889\n",
            "Epoch 35/200\n",
            "26/25 [==============================] - 11s 407ms/step - loss: 0.0189 - accuracy: 0.9927 - val_loss: 0.0298 - val_accuracy: 0.9916\n",
            "Epoch 36/200\n",
            "26/25 [==============================] - 11s 406ms/step - loss: 0.0388 - accuracy: 0.9939 - val_loss: 0.0208 - val_accuracy: 0.9972\n",
            "Epoch 37/200\n",
            "26/25 [==============================] - 11s 408ms/step - loss: 0.0285 - accuracy: 0.9988 - val_loss: 0.0341 - val_accuracy: 0.9916\n",
            "Epoch 38/200\n",
            "26/25 [==============================] - 11s 408ms/step - loss: 0.0141 - accuracy: 0.9939 - val_loss: 0.0673 - val_accuracy: 0.9833\n",
            "Epoch 39/200\n",
            "26/25 [==============================] - 11s 407ms/step - loss: 0.0120 - accuracy: 0.9952 - val_loss: 0.0383 - val_accuracy: 0.9944\n",
            "Epoch 40/200\n",
            "26/25 [==============================] - 11s 407ms/step - loss: 0.0115 - accuracy: 0.9952 - val_loss: 0.0425 - val_accuracy: 0.9916\n",
            "Epoch 41/200\n",
            "26/25 [==============================] - 11s 407ms/step - loss: 0.0161 - accuracy: 0.9964 - val_loss: 0.0371 - val_accuracy: 0.9916\n",
            "Epoch 42/200\n",
            "26/25 [==============================] - 11s 408ms/step - loss: 0.0161 - accuracy: 0.9939 - val_loss: 0.0425 - val_accuracy: 0.9916\n",
            "Epoch 43/200\n",
            "26/25 [==============================] - 11s 408ms/step - loss: 0.0170 - accuracy: 0.9952 - val_loss: 0.0578 - val_accuracy: 0.9916\n",
            "Epoch 44/200\n",
            "26/25 [==============================] - 11s 408ms/step - loss: 0.0204 - accuracy: 0.9939 - val_loss: 0.0573 - val_accuracy: 0.9889\n",
            "Epoch 45/200\n",
            "26/25 [==============================] - 11s 407ms/step - loss: 0.0231 - accuracy: 0.9952 - val_loss: 0.0582 - val_accuracy: 0.9889\n",
            "Epoch 46/200\n",
            "26/25 [==============================] - 11s 406ms/step - loss: 0.0278 - accuracy: 0.9988 - val_loss: 0.0352 - val_accuracy: 0.9944\n",
            "Epoch 47/200\n",
            "26/25 [==============================] - 11s 407ms/step - loss: 0.0049 - accuracy: 0.9988 - val_loss: 0.0300 - val_accuracy: 0.9944\n",
            "Epoch 48/200\n",
            "26/25 [==============================] - 11s 407ms/step - loss: 0.0096 - accuracy: 0.9952 - val_loss: 0.0230 - val_accuracy: 0.9944\n",
            "Epoch 49/200\n",
            "26/25 [==============================] - 11s 408ms/step - loss: 0.0019 - accuracy: 1.0000 - val_loss: 0.0245 - val_accuracy: 0.9944\n",
            "Epoch 50/200\n",
            "26/25 [==============================] - ETA: 0s - loss: 0.0032 - accuracy: 1.0000\n",
            "Epoch 00050: saving model to training_ResNet50/cp-0050.ckpt\n",
            "26/25 [==============================] - 18s 684ms/step - loss: 0.0032 - accuracy: 1.0000 - val_loss: 0.0240 - val_accuracy: 0.9972\n",
            "Epoch 51/200\n",
            "26/25 [==============================] - 11s 405ms/step - loss: 0.0619 - accuracy: 0.9952 - val_loss: 0.0851 - val_accuracy: 0.9833\n",
            "Epoch 52/200\n",
            "26/25 [==============================] - 11s 408ms/step - loss: 0.1521 - accuracy: 0.9903 - val_loss: 3.6365 - val_accuracy: 0.8329\n",
            "Epoch 53/200\n",
            "26/25 [==============================] - 11s 410ms/step - loss: 0.0714 - accuracy: 0.9879 - val_loss: 0.9224 - val_accuracy: 0.9025\n",
            "Epoch 54/200\n",
            "26/25 [==============================] - 11s 409ms/step - loss: 0.0423 - accuracy: 0.9915 - val_loss: 0.3079 - val_accuracy: 0.9554\n",
            "Epoch 55/200\n",
            "26/25 [==============================] - 11s 408ms/step - loss: 0.0039 - accuracy: 1.0000 - val_loss: 0.1238 - val_accuracy: 0.9721\n",
            "Epoch 56/200\n",
            "26/25 [==============================] - 11s 407ms/step - loss: 0.0225 - accuracy: 0.9952 - val_loss: 0.0690 - val_accuracy: 0.9861\n",
            "Epoch 57/200\n",
            "26/25 [==============================] - 11s 406ms/step - loss: 0.0176 - accuracy: 0.9964 - val_loss: 0.0757 - val_accuracy: 0.9833\n",
            "Epoch 58/200\n",
            "26/25 [==============================] - 11s 407ms/step - loss: 0.0095 - accuracy: 0.9976 - val_loss: 0.0468 - val_accuracy: 0.9944\n",
            "Epoch 59/200\n",
            "26/25 [==============================] - 11s 407ms/step - loss: 0.0087 - accuracy: 0.9976 - val_loss: 0.0363 - val_accuracy: 0.9916\n",
            "Epoch 60/200\n",
            "26/25 [==============================] - 11s 406ms/step - loss: 0.0061 - accuracy: 0.9964 - val_loss: 0.0403 - val_accuracy: 0.9889\n",
            "Epoch 61/200\n",
            "26/25 [==============================] - 11s 408ms/step - loss: 0.0212 - accuracy: 0.9976 - val_loss: 0.0508 - val_accuracy: 0.9889\n",
            "Epoch 62/200\n",
            "26/25 [==============================] - 11s 407ms/step - loss: 0.0114 - accuracy: 0.9964 - val_loss: 0.0118 - val_accuracy: 0.9944\n",
            "Epoch 63/200\n",
            "26/25 [==============================] - 11s 408ms/step - loss: 0.0294 - accuracy: 0.9915 - val_loss: 0.5208 - val_accuracy: 0.9526\n",
            "Epoch 64/200\n",
            "26/25 [==============================] - 11s 407ms/step - loss: 0.0541 - accuracy: 0.9964 - val_loss: 0.3326 - val_accuracy: 0.9582\n",
            "Epoch 65/200\n",
            "26/25 [==============================] - 11s 408ms/step - loss: 0.0189 - accuracy: 0.9952 - val_loss: 0.3424 - val_accuracy: 0.9638\n",
            "Epoch 66/200\n",
            "26/25 [==============================] - 11s 409ms/step - loss: 0.0141 - accuracy: 0.9939 - val_loss: 0.0553 - val_accuracy: 0.9861\n",
            "Epoch 67/200\n",
            "26/25 [==============================] - 11s 407ms/step - loss: 0.0093 - accuracy: 0.9952 - val_loss: 0.0553 - val_accuracy: 0.9916\n",
            "Epoch 68/200\n",
            "26/25 [==============================] - 11s 407ms/step - loss: 0.0083 - accuracy: 0.9988 - val_loss: 0.0463 - val_accuracy: 0.9916\n",
            "Epoch 69/200\n",
            "26/25 [==============================] - 11s 406ms/step - loss: 7.5513e-04 - accuracy: 1.0000 - val_loss: 0.0386 - val_accuracy: 0.9944\n",
            "Epoch 70/200\n",
            "26/25 [==============================] - 11s 406ms/step - loss: 0.0096 - accuracy: 0.9976 - val_loss: 0.0030 - val_accuracy: 1.0000\n",
            "Epoch 71/200\n",
            "26/25 [==============================] - 11s 407ms/step - loss: 0.0017 - accuracy: 1.0000 - val_loss: 0.0014 - val_accuracy: 1.0000\n",
            "Epoch 72/200\n",
            "26/25 [==============================] - 11s 407ms/step - loss: 0.0074 - accuracy: 0.9964 - val_loss: 0.0439 - val_accuracy: 0.9916\n",
            "Epoch 73/200\n",
            "26/25 [==============================] - 11s 405ms/step - loss: 0.0012 - accuracy: 1.0000 - val_loss: 0.0450 - val_accuracy: 0.9916\n",
            "Epoch 74/200\n",
            "26/25 [==============================] - 11s 406ms/step - loss: 0.0013 - accuracy: 0.9988 - val_loss: 0.0194 - val_accuracy: 0.9944\n",
            "Epoch 75/200\n",
            "26/25 [==============================] - 11s 406ms/step - loss: 5.2766e-04 - accuracy: 1.0000 - val_loss: 0.0168 - val_accuracy: 0.9944\n",
            "Epoch 76/200\n",
            "26/25 [==============================] - 11s 406ms/step - loss: 5.9103e-04 - accuracy: 1.0000 - val_loss: 0.0162 - val_accuracy: 0.9944\n",
            "Epoch 77/200\n",
            "26/25 [==============================] - 11s 406ms/step - loss: 3.5586e-04 - accuracy: 1.0000 - val_loss: 0.0196 - val_accuracy: 0.9944\n",
            "Epoch 78/200\n",
            "26/25 [==============================] - 11s 407ms/step - loss: 7.4806e-04 - accuracy: 1.0000 - val_loss: 0.0191 - val_accuracy: 0.9944\n",
            "Epoch 79/200\n",
            "26/25 [==============================] - 11s 407ms/step - loss: 1.1809e-04 - accuracy: 1.0000 - val_loss: 0.0195 - val_accuracy: 0.9944\n",
            "Epoch 80/200\n",
            "26/25 [==============================] - 11s 406ms/step - loss: 4.0564e-04 - accuracy: 1.0000 - val_loss: 0.0193 - val_accuracy: 0.9944\n",
            "Epoch 81/200\n",
            "26/25 [==============================] - 11s 407ms/step - loss: 6.7902e-04 - accuracy: 1.0000 - val_loss: 0.0215 - val_accuracy: 0.9944\n",
            "Epoch 82/200\n",
            "26/25 [==============================] - 11s 405ms/step - loss: 0.0019 - accuracy: 1.0000 - val_loss: 0.0239 - val_accuracy: 0.9944\n",
            "Epoch 83/200\n",
            "26/25 [==============================] - 11s 408ms/step - loss: 0.0010 - accuracy: 1.0000 - val_loss: 0.0167 - val_accuracy: 0.9972\n",
            "Epoch 84/200\n",
            "26/25 [==============================] - 11s 407ms/step - loss: 8.2448e-04 - accuracy: 1.0000 - val_loss: 0.1107 - val_accuracy: 0.9916\n",
            "Epoch 85/200\n",
            "26/25 [==============================] - 11s 408ms/step - loss: 7.6141e-05 - accuracy: 1.0000 - val_loss: 0.1322 - val_accuracy: 0.9916\n",
            "Epoch 86/200\n",
            "26/25 [==============================] - 11s 406ms/step - loss: 3.0209e-04 - accuracy: 1.0000 - val_loss: 0.1257 - val_accuracy: 0.9916\n",
            "Epoch 87/200\n",
            "26/25 [==============================] - 11s 407ms/step - loss: 0.0011 - accuracy: 1.0000 - val_loss: 0.0934 - val_accuracy: 0.9916\n",
            "Epoch 88/200\n",
            "26/25 [==============================] - 11s 407ms/step - loss: 0.0018 - accuracy: 0.9988 - val_loss: 0.0886 - val_accuracy: 0.9916\n",
            "Epoch 89/200\n",
            "26/25 [==============================] - 11s 406ms/step - loss: 5.4235e-05 - accuracy: 1.0000 - val_loss: 0.0811 - val_accuracy: 0.9916\n",
            "Epoch 90/200\n",
            "26/25 [==============================] - 11s 407ms/step - loss: 0.0121 - accuracy: 0.9976 - val_loss: 0.0918 - val_accuracy: 0.9916\n",
            "Epoch 91/200\n",
            "26/25 [==============================] - 11s 407ms/step - loss: 0.0032 - accuracy: 0.9988 - val_loss: 0.1165 - val_accuracy: 0.9916\n",
            "Epoch 92/200\n",
            "26/25 [==============================] - 11s 406ms/step - loss: 3.3203e-04 - accuracy: 1.0000 - val_loss: 0.1164 - val_accuracy: 0.9916\n",
            "Epoch 93/200\n",
            "26/25 [==============================] - 11s 407ms/step - loss: 0.0017 - accuracy: 0.9988 - val_loss: 0.1092 - val_accuracy: 0.9916\n",
            "Epoch 94/200\n",
            "26/25 [==============================] - 11s 405ms/step - loss: 1.3117e-04 - accuracy: 1.0000 - val_loss: 0.1093 - val_accuracy: 0.9916\n",
            "Epoch 95/200\n",
            "26/25 [==============================] - 11s 405ms/step - loss: 0.0090 - accuracy: 0.9988 - val_loss: 0.0885 - val_accuracy: 0.9916\n",
            "Epoch 96/200\n",
            "26/25 [==============================] - 11s 405ms/step - loss: 2.4880e-04 - accuracy: 1.0000 - val_loss: 0.0914 - val_accuracy: 0.9916\n",
            "Epoch 97/200\n",
            "26/25 [==============================] - 11s 406ms/step - loss: 1.9694e-04 - accuracy: 1.0000 - val_loss: 0.0924 - val_accuracy: 0.9916\n",
            "Epoch 98/200\n",
            "26/25 [==============================] - 11s 405ms/step - loss: 0.0014 - accuracy: 0.9988 - val_loss: 0.0918 - val_accuracy: 0.9916\n",
            "Epoch 99/200\n",
            "26/25 [==============================] - 11s 405ms/step - loss: 4.4682e-05 - accuracy: 1.0000 - val_loss: 0.0920 - val_accuracy: 0.9916\n",
            "Epoch 100/200\n",
            "26/25 [==============================] - ETA: 0s - loss: 0.0018 - accuracy: 0.9988\n",
            "Epoch 00100: saving model to training_ResNet50/cp-0100.ckpt\n",
            "26/25 [==============================] - 18s 676ms/step - loss: 0.0018 - accuracy: 0.9988 - val_loss: 0.0832 - val_accuracy: 0.9889\n",
            "Epoch 101/200\n",
            "26/25 [==============================] - 10s 404ms/step - loss: 0.0148 - accuracy: 0.9988 - val_loss: 0.0434 - val_accuracy: 0.9916\n",
            "Epoch 102/200\n",
            "26/25 [==============================] - 11s 408ms/step - loss: 0.0039 - accuracy: 0.9988 - val_loss: 0.0437 - val_accuracy: 0.9916\n",
            "Epoch 103/200\n",
            "26/25 [==============================] - 11s 412ms/step - loss: 0.0069 - accuracy: 0.9988 - val_loss: 0.0197 - val_accuracy: 0.9972\n",
            "Epoch 104/200\n",
            "26/25 [==============================] - 11s 408ms/step - loss: 0.0971 - accuracy: 0.9891 - val_loss: 9.0879 - val_accuracy: 0.8106\n",
            "Epoch 105/200\n",
            "26/25 [==============================] - 11s 407ms/step - loss: 0.1227 - accuracy: 0.9915 - val_loss: 4.4276 - val_accuracy: 0.8552\n",
            "Epoch 106/200\n",
            "26/25 [==============================] - 11s 405ms/step - loss: 0.2847 - accuracy: 0.9564 - val_loss: 3.2828 - val_accuracy: 0.8050\n",
            "Epoch 107/200\n",
            "26/25 [==============================] - 11s 404ms/step - loss: 0.1361 - accuracy: 0.9818 - val_loss: 1.2626 - val_accuracy: 0.8217\n",
            "Epoch 108/200\n",
            "26/25 [==============================] - 11s 406ms/step - loss: 0.0328 - accuracy: 0.9939 - val_loss: 0.5409 - val_accuracy: 0.9081\n",
            "Epoch 109/200\n",
            "26/25 [==============================] - 11s 406ms/step - loss: 0.0213 - accuracy: 0.9927 - val_loss: 0.1478 - val_accuracy: 0.9749\n",
            "Epoch 110/200\n",
            "26/25 [==============================] - 11s 407ms/step - loss: 0.0405 - accuracy: 0.9903 - val_loss: 0.7858 - val_accuracy: 0.9359\n",
            "Epoch 111/200\n",
            "26/25 [==============================] - 11s 406ms/step - loss: 0.0662 - accuracy: 0.9867 - val_loss: 0.3145 - val_accuracy: 0.9721\n",
            "Epoch 112/200\n",
            "26/25 [==============================] - 11s 408ms/step - loss: 0.0229 - accuracy: 0.9952 - val_loss: 0.1618 - val_accuracy: 0.9833\n",
            "Epoch 113/200\n",
            "26/25 [==============================] - 11s 407ms/step - loss: 0.0132 - accuracy: 0.9988 - val_loss: 0.1181 - val_accuracy: 0.9861\n",
            "Epoch 114/200\n",
            "26/25 [==============================] - 11s 405ms/step - loss: 0.0020 - accuracy: 1.0000 - val_loss: 0.0674 - val_accuracy: 0.9916\n",
            "Epoch 115/200\n",
            "26/25 [==============================] - 11s 407ms/step - loss: 0.0121 - accuracy: 0.9988 - val_loss: 0.0435 - val_accuracy: 0.9944\n",
            "Epoch 116/200\n",
            "26/25 [==============================] - 11s 405ms/step - loss: 0.0022 - accuracy: 1.0000 - val_loss: 0.0222 - val_accuracy: 0.9944\n",
            "Epoch 117/200\n",
            "26/25 [==============================] - 11s 408ms/step - loss: 2.7491e-04 - accuracy: 1.0000 - val_loss: 0.0194 - val_accuracy: 0.9944\n",
            "Epoch 118/200\n",
            "26/25 [==============================] - 11s 405ms/step - loss: 0.0123 - accuracy: 0.9988 - val_loss: 0.0078 - val_accuracy: 0.9972\n",
            "Epoch 119/200\n",
            "26/25 [==============================] - 11s 406ms/step - loss: 0.0289 - accuracy: 0.9952 - val_loss: 0.0236 - val_accuracy: 0.9972\n",
            "Epoch 120/200\n",
            "26/25 [==============================] - 11s 406ms/step - loss: 0.0035 - accuracy: 0.9988 - val_loss: 0.0377 - val_accuracy: 0.9861\n",
            "Epoch 121/200\n",
            "26/25 [==============================] - 11s 406ms/step - loss: 0.0039 - accuracy: 0.9988 - val_loss: 0.0168 - val_accuracy: 0.9944\n",
            "Epoch 122/200\n",
            "26/25 [==============================] - 11s 405ms/step - loss: 0.0017 - accuracy: 1.0000 - val_loss: 0.0187 - val_accuracy: 0.9916\n",
            "Epoch 123/200\n",
            "26/25 [==============================] - 11s 407ms/step - loss: 0.0012 - accuracy: 1.0000 - val_loss: 0.0258 - val_accuracy: 0.9916\n",
            "Epoch 124/200\n",
            "26/25 [==============================] - 11s 406ms/step - loss: 0.0076 - accuracy: 0.9988 - val_loss: 0.0184 - val_accuracy: 0.9944\n",
            "Epoch 125/200\n",
            "26/25 [==============================] - 11s 406ms/step - loss: 0.0337 - accuracy: 0.9988 - val_loss: 0.0140 - val_accuracy: 0.9972\n",
            "Epoch 126/200\n",
            "26/25 [==============================] - 11s 406ms/step - loss: 0.0037 - accuracy: 0.9988 - val_loss: 0.0077 - val_accuracy: 0.9972\n",
            "Epoch 127/200\n",
            "26/25 [==============================] - 11s 404ms/step - loss: 0.0017 - accuracy: 0.9988 - val_loss: 0.0093 - val_accuracy: 0.9972\n",
            "Epoch 128/200\n",
            "26/25 [==============================] - 11s 407ms/step - loss: 2.6344e-04 - accuracy: 1.0000 - val_loss: 0.0114 - val_accuracy: 0.9944\n",
            "Epoch 129/200\n",
            "26/25 [==============================] - 11s 406ms/step - loss: 5.3580e-04 - accuracy: 1.0000 - val_loss: 0.0115 - val_accuracy: 0.9944\n",
            "Epoch 130/200\n",
            "26/25 [==============================] - 11s 405ms/step - loss: 7.0993e-04 - accuracy: 1.0000 - val_loss: 0.0115 - val_accuracy: 0.9944\n",
            "Epoch 131/200\n",
            "26/25 [==============================] - 11s 406ms/step - loss: 1.4524e-04 - accuracy: 1.0000 - val_loss: 0.0147 - val_accuracy: 0.9944\n",
            "Epoch 132/200\n",
            "26/25 [==============================] - 11s 406ms/step - loss: 3.9659e-04 - accuracy: 1.0000 - val_loss: 0.0160 - val_accuracy: 0.9944\n",
            "Epoch 133/200\n",
            "26/25 [==============================] - 11s 406ms/step - loss: 0.0027 - accuracy: 0.9988 - val_loss: 0.0174 - val_accuracy: 0.9944\n",
            "Epoch 134/200\n",
            "26/25 [==============================] - 11s 406ms/step - loss: 0.0016 - accuracy: 0.9988 - val_loss: 0.0185 - val_accuracy: 0.9944\n",
            "Epoch 135/200\n",
            "26/25 [==============================] - 11s 407ms/step - loss: 8.8660e-05 - accuracy: 1.0000 - val_loss: 0.0230 - val_accuracy: 0.9944\n",
            "Epoch 136/200\n",
            "26/25 [==============================] - 11s 408ms/step - loss: 2.6026e-04 - accuracy: 1.0000 - val_loss: 0.0239 - val_accuracy: 0.9944\n",
            "Epoch 137/200\n",
            "26/25 [==============================] - 11s 407ms/step - loss: 3.4835e-04 - accuracy: 1.0000 - val_loss: 0.0242 - val_accuracy: 0.9944\n",
            "Epoch 138/200\n",
            "26/25 [==============================] - 11s 406ms/step - loss: 2.2766e-04 - accuracy: 1.0000 - val_loss: 0.0204 - val_accuracy: 0.9944\n",
            "Epoch 139/200\n",
            "26/25 [==============================] - 11s 407ms/step - loss: 3.5366e-04 - accuracy: 1.0000 - val_loss: 0.0200 - val_accuracy: 0.9944\n",
            "Epoch 140/200\n",
            "26/25 [==============================] - 11s 407ms/step - loss: 9.0711e-04 - accuracy: 1.0000 - val_loss: 0.0201 - val_accuracy: 0.9944\n",
            "Epoch 141/200\n",
            "26/25 [==============================] - 11s 407ms/step - loss: 1.2179e-04 - accuracy: 1.0000 - val_loss: 0.0208 - val_accuracy: 0.9944\n",
            "Epoch 142/200\n",
            "26/25 [==============================] - 11s 408ms/step - loss: 3.2029e-04 - accuracy: 1.0000 - val_loss: 0.0216 - val_accuracy: 0.9944\n",
            "Epoch 143/200\n",
            "26/25 [==============================] - 11s 406ms/step - loss: 8.9877e-05 - accuracy: 1.0000 - val_loss: 0.0218 - val_accuracy: 0.9944\n",
            "Epoch 144/200\n",
            "26/25 [==============================] - 11s 407ms/step - loss: 0.0050 - accuracy: 0.9988 - val_loss: 0.0267 - val_accuracy: 0.9944\n",
            "Epoch 145/200\n",
            "26/25 [==============================] - 11s 407ms/step - loss: 2.8825e-04 - accuracy: 1.0000 - val_loss: 0.0277 - val_accuracy: 0.9944\n",
            "Epoch 146/200\n",
            "26/25 [==============================] - 11s 405ms/step - loss: 1.8406e-04 - accuracy: 1.0000 - val_loss: 0.0281 - val_accuracy: 0.9944\n",
            "Epoch 147/200\n",
            "26/25 [==============================] - 11s 406ms/step - loss: 4.7949e-05 - accuracy: 1.0000 - val_loss: 0.0282 - val_accuracy: 0.9944\n",
            "Epoch 148/200\n",
            "26/25 [==============================] - 11s 407ms/step - loss: 2.0873e-05 - accuracy: 1.0000 - val_loss: 0.0284 - val_accuracy: 0.9944\n",
            "Epoch 149/200\n",
            "26/25 [==============================] - 11s 406ms/step - loss: 4.5463e-05 - accuracy: 1.0000 - val_loss: 0.0285 - val_accuracy: 0.9944\n",
            "Epoch 150/200\n",
            "26/25 [==============================] - ETA: 0s - loss: 1.2326e-04 - accuracy: 1.0000\n",
            "Epoch 00150: saving model to training_ResNet50/cp-0150.ckpt\n",
            "26/25 [==============================] - 21s 792ms/step - loss: 1.2326e-04 - accuracy: 1.0000 - val_loss: 0.0284 - val_accuracy: 0.9944\n",
            "Epoch 151/200\n",
            "26/25 [==============================] - 10s 401ms/step - loss: 4.5426e-04 - accuracy: 1.0000 - val_loss: 0.0280 - val_accuracy: 0.9944\n",
            "Epoch 152/200\n",
            "26/25 [==============================] - 11s 407ms/step - loss: 1.7703e-04 - accuracy: 1.0000 - val_loss: 0.0275 - val_accuracy: 0.9944\n",
            "Epoch 153/200\n",
            "26/25 [==============================] - 11s 414ms/step - loss: 7.7049e-05 - accuracy: 1.0000 - val_loss: 0.0272 - val_accuracy: 0.9944\n",
            "Epoch 154/200\n",
            "26/25 [==============================] - 11s 411ms/step - loss: 6.7614e-04 - accuracy: 1.0000 - val_loss: 0.0291 - val_accuracy: 0.9944\n",
            "Epoch 155/200\n",
            "26/25 [==============================] - 11s 408ms/step - loss: 2.3602e-05 - accuracy: 1.0000 - val_loss: 0.0320 - val_accuracy: 0.9944\n",
            "Epoch 156/200\n",
            "26/25 [==============================] - 11s 405ms/step - loss: 1.1954e-04 - accuracy: 1.0000 - val_loss: 0.0331 - val_accuracy: 0.9944\n",
            "Epoch 157/200\n",
            "26/25 [==============================] - 11s 404ms/step - loss: 1.1602e-04 - accuracy: 1.0000 - val_loss: 0.0329 - val_accuracy: 0.9944\n",
            "Epoch 158/200\n",
            "26/25 [==============================] - 11s 404ms/step - loss: 6.0923e-06 - accuracy: 1.0000 - val_loss: 0.0326 - val_accuracy: 0.9944\n",
            "Epoch 159/200\n",
            "26/25 [==============================] - 11s 405ms/step - loss: 1.8147e-04 - accuracy: 1.0000 - val_loss: 0.0330 - val_accuracy: 0.9944\n",
            "Epoch 160/200\n",
            "26/25 [==============================] - 11s 407ms/step - loss: 9.6884e-05 - accuracy: 1.0000 - val_loss: 0.0329 - val_accuracy: 0.9944\n",
            "Epoch 161/200\n",
            "26/25 [==============================] - 11s 409ms/step - loss: 5.2892e-04 - accuracy: 1.0000 - val_loss: 0.0338 - val_accuracy: 0.9944\n",
            "Epoch 162/200\n",
            "26/25 [==============================] - 11s 409ms/step - loss: 5.9814e-04 - accuracy: 1.0000 - val_loss: 0.0337 - val_accuracy: 0.9944\n",
            "Epoch 163/200\n",
            "26/25 [==============================] - 11s 407ms/step - loss: 8.5926e-05 - accuracy: 1.0000 - val_loss: 0.0347 - val_accuracy: 0.9944\n",
            "Epoch 164/200\n",
            "26/25 [==============================] - 11s 407ms/step - loss: 4.8506e-04 - accuracy: 1.0000 - val_loss: 0.0336 - val_accuracy: 0.9944\n",
            "Epoch 165/200\n",
            "26/25 [==============================] - 11s 406ms/step - loss: 2.0055e-04 - accuracy: 1.0000 - val_loss: 0.0333 - val_accuracy: 0.9944\n",
            "Epoch 166/200\n",
            "26/25 [==============================] - 11s 408ms/step - loss: 6.9590e-05 - accuracy: 1.0000 - val_loss: 0.0330 - val_accuracy: 0.9944\n",
            "Epoch 167/200\n",
            "26/25 [==============================] - 11s 406ms/step - loss: 2.8222e-04 - accuracy: 1.0000 - val_loss: 0.0314 - val_accuracy: 0.9944\n",
            "Epoch 168/200\n",
            "26/25 [==============================] - 11s 406ms/step - loss: 9.0127e-05 - accuracy: 1.0000 - val_loss: 0.0318 - val_accuracy: 0.9944\n",
            "Epoch 169/200\n",
            "26/25 [==============================] - 11s 405ms/step - loss: 7.1764e-04 - accuracy: 1.0000 - val_loss: 0.0199 - val_accuracy: 0.9944\n",
            "Epoch 170/200\n",
            "26/25 [==============================] - 11s 405ms/step - loss: 4.3377e-04 - accuracy: 1.0000 - val_loss: 0.0285 - val_accuracy: 0.9972\n",
            "Epoch 171/200\n",
            "26/25 [==============================] - 11s 405ms/step - loss: 4.0032e-05 - accuracy: 1.0000 - val_loss: 0.0290 - val_accuracy: 0.9972\n",
            "Epoch 172/200\n",
            "26/25 [==============================] - 11s 405ms/step - loss: 8.2077e-05 - accuracy: 1.0000 - val_loss: 0.0291 - val_accuracy: 0.9972\n",
            "Epoch 173/200\n",
            "26/25 [==============================] - 11s 407ms/step - loss: 1.0139e-04 - accuracy: 1.0000 - val_loss: 0.0289 - val_accuracy: 0.9972\n",
            "Epoch 174/200\n",
            "26/25 [==============================] - 11s 407ms/step - loss: 7.0033e-04 - accuracy: 1.0000 - val_loss: 0.0282 - val_accuracy: 0.9972\n",
            "Epoch 175/200\n",
            "26/25 [==============================] - 11s 406ms/step - loss: 1.1281e-05 - accuracy: 1.0000 - val_loss: 0.0282 - val_accuracy: 0.9972\n",
            "Epoch 176/200\n",
            "26/25 [==============================] - 11s 407ms/step - loss: 0.0100 - accuracy: 0.9976 - val_loss: 0.0382 - val_accuracy: 0.9972\n",
            "Epoch 177/200\n",
            "26/25 [==============================] - 11s 409ms/step - loss: 0.0037 - accuracy: 0.9988 - val_loss: 0.0293 - val_accuracy: 0.9944\n",
            "Epoch 178/200\n",
            "26/25 [==============================] - 11s 408ms/step - loss: 0.0071 - accuracy: 0.9976 - val_loss: 0.0987 - val_accuracy: 0.9944\n",
            "Epoch 179/200\n",
            "26/25 [==============================] - 11s 407ms/step - loss: 0.0022 - accuracy: 0.9988 - val_loss: 0.3066 - val_accuracy: 0.9694\n",
            "Epoch 180/200\n",
            "26/25 [==============================] - 11s 408ms/step - loss: 0.0181 - accuracy: 0.9964 - val_loss: 0.2160 - val_accuracy: 0.9861\n",
            "Epoch 181/200\n",
            "26/25 [==============================] - 11s 407ms/step - loss: 0.0728 - accuracy: 0.9915 - val_loss: 0.5056 - val_accuracy: 0.9081\n",
            "Epoch 182/200\n",
            "26/25 [==============================] - 11s 407ms/step - loss: 0.1205 - accuracy: 0.9830 - val_loss: 0.8426 - val_accuracy: 0.9081\n",
            "Epoch 183/200\n",
            "26/25 [==============================] - 11s 407ms/step - loss: 0.0401 - accuracy: 0.9891 - val_loss: 0.3059 - val_accuracy: 0.9499\n",
            "Epoch 184/200\n",
            "26/25 [==============================] - 11s 408ms/step - loss: 0.0578 - accuracy: 0.9903 - val_loss: 0.2874 - val_accuracy: 0.9471\n",
            "Epoch 185/200\n",
            "26/25 [==============================] - 11s 406ms/step - loss: 0.0311 - accuracy: 0.9964 - val_loss: 0.7306 - val_accuracy: 0.9387\n",
            "Epoch 186/200\n",
            "26/25 [==============================] - 11s 407ms/step - loss: 0.1044 - accuracy: 0.9842 - val_loss: 8.0052 - val_accuracy: 0.6657\n",
            "Epoch 187/200\n",
            "26/25 [==============================] - 11s 408ms/step - loss: 0.1012 - accuracy: 0.9806 - val_loss: 0.7277 - val_accuracy: 0.9220\n",
            "Epoch 188/200\n",
            "26/25 [==============================] - 11s 407ms/step - loss: 0.0167 - accuracy: 0.9939 - val_loss: 0.1868 - val_accuracy: 0.9721\n",
            "Epoch 189/200\n",
            "26/25 [==============================] - 11s 406ms/step - loss: 0.0166 - accuracy: 0.9988 - val_loss: 0.0903 - val_accuracy: 0.9833\n",
            "Epoch 190/200\n",
            "26/25 [==============================] - 11s 405ms/step - loss: 0.0012 - accuracy: 1.0000 - val_loss: 0.0755 - val_accuracy: 0.9889\n",
            "Epoch 191/200\n",
            "26/25 [==============================] - 11s 407ms/step - loss: 3.3316e-04 - accuracy: 1.0000 - val_loss: 0.0709 - val_accuracy: 0.9916\n",
            "Epoch 192/200\n",
            "26/25 [==============================] - 11s 409ms/step - loss: 0.0019 - accuracy: 1.0000 - val_loss: 0.0684 - val_accuracy: 0.9916\n",
            "Epoch 193/200\n",
            "26/25 [==============================] - 11s 407ms/step - loss: 0.0029 - accuracy: 0.9988 - val_loss: 0.0607 - val_accuracy: 0.9916\n",
            "Epoch 194/200\n",
            "26/25 [==============================] - 11s 407ms/step - loss: 2.6703e-04 - accuracy: 1.0000 - val_loss: 0.0604 - val_accuracy: 0.9916\n",
            "Epoch 195/200\n",
            "26/25 [==============================] - 11s 407ms/step - loss: 3.7210e-04 - accuracy: 1.0000 - val_loss: 0.0620 - val_accuracy: 0.9916\n",
            "Epoch 196/200\n",
            "26/25 [==============================] - 11s 406ms/step - loss: 0.0018 - accuracy: 0.9988 - val_loss: 0.0708 - val_accuracy: 0.9861\n",
            "Epoch 197/200\n",
            "26/25 [==============================] - 11s 408ms/step - loss: 0.0084 - accuracy: 0.9988 - val_loss: 0.0448 - val_accuracy: 0.9861\n",
            "Epoch 198/200\n",
            "26/25 [==============================] - 11s 408ms/step - loss: 0.0497 - accuracy: 0.9964 - val_loss: 0.0517 - val_accuracy: 0.9861\n",
            "Epoch 199/200\n",
            "26/25 [==============================] - 11s 407ms/step - loss: 0.0045 - accuracy: 0.9976 - val_loss: 0.0640 - val_accuracy: 0.9861\n",
            "Epoch 200/200\n",
            "26/25 [==============================] - ETA: 0s - loss: 2.6471e-04 - accuracy: 1.0000\n",
            "Epoch 00200: saving model to training_ResNet50/cp-0200.ckpt\n",
            "26/25 [==============================] - 17s 654ms/step - loss: 2.6471e-04 - accuracy: 1.0000 - val_loss: 0.0699 - val_accuracy: 0.9833\n",
            "\n",
            " model_ResNet50 took 2202.06 seconds (36.7 minutes) to train for 200 epochs\n"
          ],
          "name": "stdout"
        }
      ]
    },
    {
      "cell_type": "markdown",
      "metadata": {
        "id": "UIrhE3LMcsBU"
      },
      "source": [
        "###**ขั้นตอนการ Save file Model เเละ Json**"
      ]
    },
    {
      "cell_type": "code",
      "metadata": {
        "id": "5jkhbODRb0RH"
      },
      "source": [
        "#เปลี่ยนชื่อไฟล์ทุกครั้งเวลา SAVE\n",
        "model_resnet.save('/content/drive/My Drive/Final Project/Dataset-Lab/Original/saved_model/model-resnet50(lastest).h5') #ดูจำนวนรอบที่เทรนด้วยว่าทั้งหมดกี่รอบจริงๆเเล้ว\n",
        "model_resnet.save_weights('/content/drive/My Drive/Final Project/Dataset-Lab/Original/saved_model/weightmodel-resnet50.h5')"
      ],
      "execution_count": null,
      "outputs": []
    },
    {
      "cell_type": "code",
      "metadata": {
        "id": "RUbahazNckQo"
      },
      "source": [
        "#Import dependencies\n",
        "!mkdir jsonfile\n",
        "import json\n",
        "from keras.models import model_from_json, load_model\n",
        "with open('jsonfile/model_resnet.json', 'w') as f:\n",
        "    f.write(model_resnet.to_json())\n",
        "print(\"Saved model success\")"
      ],
      "execution_count": null,
      "outputs": []
    },
    {
      "cell_type": "markdown",
      "metadata": {
        "id": "ctXhsc5pc-5N"
      },
      "source": [
        "###**เเสดงกราฟข้อมูลค่าความเเม่นยำเเละค่าความสูญเสีย Training เเละ Validation**"
      ]
    },
    {
      "cell_type": "code",
      "metadata": {
        "id": "k8UxPxbZdNzR",
        "colab": {
          "base_uri": "https://localhost:8080/",
          "height": 299
        },
        "outputId": "aa36cff8-5a6c-4225-d322-fa8b1044615f"
      },
      "source": [
        "import matplotlib.pyplot as plt\n",
        "\n",
        "acc = model_resnet.history.history['accuracy']\n",
        "val_acc = model_resnet.history.history['val_accuracy']\n",
        "\n",
        "loss= model_resnet.history.history['loss']\n",
        "val_loss= model_resnet.history.history['val_loss']\n",
        "\n",
        "\n",
        "plt.style.use(\"ggplot\")\n",
        "#  \"Accuracy\"\n",
        "plt.figure(figsize=(15, 4))\n",
        "plt.subplot(1, 2, 1)\n",
        "plt.plot(acc, label='Training Accuracy')\n",
        "plt.plot(val_acc, label='Validation Accuracy')\n",
        "plt.legend(loc='lower right')\n",
        "plt.title('Training and Validation Accuracy')\n",
        "plt.ylabel('accuracy')\n",
        "plt.xlabel('epochs')\n",
        "#  \"Loss\"\n",
        "plt.subplot(1, 2, 2)\n",
        "plt.plot(loss, label='Training Loss')\n",
        "plt.plot(val_loss, label='Validation Loss')\n",
        "plt.legend(loc='upper right')\n",
        "plt.title('Training and Validation Loss')\n",
        "plt.ylabel('loss')\n",
        "plt.xlabel('epochs')\n",
        "plt.show()"
      ],
      "execution_count": null,
      "outputs": [
        {
          "output_type": "display_data",
          "data": {
            "image/png": "[encoded data removed]",
            "text/plain": [
              "<Figure size 1080x288 with 2 Axes>"
            ]
          },
          "metadata": {
            "tags": []
          }
        }
      ]
    },
    {
      "cell_type": "markdown",
      "metadata": {
        "id": "m0m3J0nidxqf"
      },
      "source": [
        "###**จุด Checkpoint**"
      ]
    },
    {
      "cell_type": "code",
      "metadata": {
        "id": "CjjRM_w0eE5D",
        "colab": {
          "base_uri": "https://localhost:8080/",
          "height": 35
        },
        "outputId": "08a2d1ea-7731-40a5-954e-8cd492645526"
      },
      "source": [
        "latest = tf.train.latest_checkpoint(checkpoint_dir)\n",
        "latest"
      ],
      "execution_count": null,
      "outputs": [
        {
          "output_type": "execute_result",
          "data": {
            "application/vnd.google.colaboratory.intrinsic+json": {
              "type": "string"
            },
            "text/plain": [
              "'training_ResNet50/cp-0200.ckpt'"
            ]
          },
          "metadata": {
            "tags": []
          },
          "execution_count": 18
        }
      ]
    },
    {
      "cell_type": "code",
      "metadata": {
        "id": "IBO8Q9Q4eE7E"
      },
      "source": [
        "# Load the previously saved weights\n",
        "model_resnet.load_weights(latest)\n",
        "\n",
        "# Re-evaluate the model\n",
        "loss, acc = model_resnet.evaluate(valid_generator, verbose=2)\n",
        "print(\"Restored model, accuracy: {:5.2f}%\".format(100*acc))"
      ],
      "execution_count": null,
      "outputs": []
    },
    {
      "cell_type": "markdown",
      "metadata": {
        "id": "hOnDw5WeeNXc"
      },
      "source": [
        "###**Save model อีกเเบบเพื่อนำไปเเปลงเป็น TensorflwLite**"
      ]
    },
    {
      "cell_type": "code",
      "metadata": {
        "id": "WCKmhkZ2eVSt"
      },
      "source": [
        "# Save the entire model as a SavedModel.\n",
        "model_resnet.save('saved_model/my_model') "
      ],
      "execution_count": null,
      "outputs": []
    },
    {
      "cell_type": "code",
      "metadata": {
        "id": "UiTau3PReVU1"
      },
      "source": [
        "model= tf.keras.models.load_model('saved_model/my_model')\n",
        "tflite_converter = tf.lite.TFLiteConverter.from_keras_model(model)\n",
        "tflite_model = tflite_converter.convert()\n",
        "open(\"tf_lite_model(200epochsresnet).tflite\", \"wb\").write(tflite_model) "
      ],
      "execution_count": null,
      "outputs": []
    },
    {
      "cell_type": "markdown",
      "metadata": {
        "id": "Y7P6p0lzeq7g"
      },
      "source": [
        "###**ขั้นตอนของ Prediction เเบบบ Confusion Matrix**"
      ]
    },
    {
      "cell_type": "code",
      "metadata": {
        "id": "tA579sRAeVXH",
        "colab": {
          "base_uri": "https://localhost:8080/",
          "height": 349
        },
        "outputId": "521a7244-4cd1-40c4-bcc6-5ecfbaeebef0"
      },
      "source": [
        "import seaborn as sn\n",
        "import pandas as pd\n",
        "\n",
        "model = tf.keras.models.load_model('/content/drive/My Drive/Final Project/Dataset-Lab/Original/saved_model/model-resnet50(lastest).h5')\n",
        "filenames = valid_generator.filenames\n",
        "nb_samples = len(valid_generator)\n",
        "y_prob=[]\n",
        "y_act=[]\n",
        "valid_generator.reset()\n",
        "for _ in range(nb_samples):\n",
        "    x_test, y_test = valid_generator.next()\n",
        "    y_prob.append(model.predict(x_test))\n",
        "    y_act.append(y_test)\n",
        "\n",
        "\n",
        "predicted_class = [list(train_generator.class_indices.keys())[i.argmax()] for i in y_prob]\n",
        "actual_class = [list(train_generator.class_indices.keys())[i.argmax()] for i in y_act]\n",
        "\n",
        "out_df = pd.DataFrame(np.vstack([predicted_class,actual_class]).T,columns=['predicted_class', 'actual_class'])\n",
        "confusion_matrix = pd.crosstab(out_df['actual_class'],out_df['predicted_class'], rownames=['Actual'], colnames=['Predicted'])\n",
        "\n",
        "sn.heatmap(confusion_matrix, cmap='Blues', annot= True, fmt='d')\n",
        "plt.show()\n",
        "print('test accuracy : {}'.format((np.diagonal(confusion_matrix).sum()/confusion_matrix.sum().sum()*100)))"
      ],
      "execution_count": 13,
      "outputs": [
        {
          "output_type": "display_data",
          "data": {
            "image/png": "[encoded data removed]",
            "text/plain": [
              "<Figure size 432x288 with 2 Axes>"
            ]
          },
          "metadata": {
            "tags": [],
            "needs_background": "light"
          }
        },
        {
          "output_type": "stream",
          "text": [
            "test accuracy : 98.32869080779945\n"
          ],
          "name": "stdout"
        }
      ]
    }
  ]
}