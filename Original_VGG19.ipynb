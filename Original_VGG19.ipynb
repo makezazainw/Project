{
  "nbformat": 4,
  "nbformat_minor": 0,
  "metadata": {
    "colab": {
      "name": "Original VGG19.ipynb",
      "provenance": [],
      "collapsed_sections": [],
      "toc_visible": true,
      "mount_file_id": "1Fd5KLIHe6BriqGIaUCssPuhkMYcazSYm",
      "authorship_tag": "ABX9TyMB9yx3hYzhf3FrkX9vDEYV",
      "include_colab_link": true
    },
    "kernelspec": {
      "name": "python3",
      "display_name": "Python 3"
    },
    "accelerator": "GPU"
  },
  "cells": [
    {
      "cell_type": "markdown",
      "metadata": {
        "id": "view-in-github",
        "colab_type": "text"
      },
      "source": [
        "<a href=\"https://colab.research.google.com/github/makezazainw/Project/blob/main/Original_VGG19.ipynb\" target=\"_parent\"><img src=\"https://colab.research.google.com/assets/colab-badge.svg\" alt=\"Open In Colab\"/></a>"
      ]
    },
    {
      "cell_type": "markdown",
      "metadata": {
        "id": "mew3lwAMaXDH"
      },
      "source": [
        "### **ติดตั้ง Kaggle เเละ เรียกใช้ไฟล์ json เพื่อติดต่อใช้ dataset ใน kaggle**"
      ]
    },
    {
      "cell_type": "code",
      "metadata": {
        "id": "Y5m_qIXOabnO",
        "colab": {
          "base_uri": "https://localhost:8080/"
        },
        "outputId": "492f212d-cfbb-45f5-949b-711ab01b21e7"
      },
      "source": [
        "# Install Kaggle API\n",
        "!pip install -q kaggle\n",
        "!pip install -q kaggle-cli"
      ],
      "execution_count": 1,
      "outputs": [
        {
          "output_type": "stream",
          "text": [
            "\u001b[K     |████████████████████████████████| 81kB 7.4MB/s \n",
            "\u001b[K     |████████████████████████████████| 5.3MB 22.8MB/s \n",
            "\u001b[K     |████████████████████████████████| 133kB 54.9MB/s \n",
            "\u001b[K     |████████████████████████████████| 112kB 60.0MB/s \n",
            "\u001b[K     |████████████████████████████████| 51kB 7.9MB/s \n",
            "\u001b[?25h  Building wheel for kaggle-cli (setup.py) ... \u001b[?25l\u001b[?25hdone\n",
            "  Building wheel for PrettyTable (setup.py) ... \u001b[?25l\u001b[?25hdone\n",
            "  Building wheel for pyperclip (setup.py) ... \u001b[?25l\u001b[?25hdone\n"
          ],
          "name": "stdout"
        }
      ]
    },
    {
      "cell_type": "code",
      "metadata": {
        "id": "a_kkUe3valvy"
      },
      "source": [
        "# only for google colab\n",
        "import os\n",
        "os.environ['KAGGLE_USERNAME'] = \"thammatattantipitham\" \n",
        "os.environ['KAGGLE_KEY'] = \"3cf826ab97707228fb1602519992740b\""
      ],
      "execution_count": 2,
      "outputs": []
    },
    {
      "cell_type": "code",
      "metadata": {
        "id": "jtsvYa8manW1",
        "colab": {
          "base_uri": "https://localhost:8080/"
        },
        "outputId": "074263ef-8df1-4a64-dffc-f6cdb81e37d8"
      },
      "source": [
        "!kaggle datasets download -d thammatattantipitham/thaiherb --unzip"
      ],
      "execution_count": 3,
      "outputs": [
        {
          "output_type": "stream",
          "text": [
            "Downloading thaiherb.zip to /content\n",
            " 90% 33.0M/36.8M [00:00<00:00, 160MB/s]\n",
            "100% 36.8M/36.8M [00:00<00:00, 146MB/s]\n"
          ],
          "name": "stdout"
        }
      ]
    },
    {
      "cell_type": "code",
      "metadata": {
        "id": "Ihulub6paq8a"
      },
      "source": [
        "#สร้างไฟล์ folder ขึ้นมาเเละเพิ่มข้อมูลเข้าไปใน folder\n",
        "!mkdir thaiherb\n",
        "!mv  \"train\" \"val\" thaiherb"
      ],
      "execution_count": 4,
      "outputs": []
    },
    {
      "cell_type": "markdown",
      "metadata": {
        "id": "yUU4GFLxa2pv"
      },
      "source": [
        "### **เริ่มต้นการ import library ต่างๆเเละการเรียกใช้ไฟล์**\n"
      ]
    },
    {
      "cell_type": "code",
      "metadata": {
        "id": "08sp2eppa_-2",
        "colab": {
          "base_uri": "https://localhost:8080/",
          "height": 35
        },
        "outputId": "d1beba48-bf3a-40ee-f8b9-3b98473e82fc"
      },
      "source": [
        "import sys\n",
        "import time\n",
        "import cv2\n",
        "import numpy as np\n",
        "from matplotlib import pyplot as plt\n",
        "import tensorflow as tf\n",
        "import os\n",
        "import keras\n",
        "\n",
        "from skimage.transform import resize\n",
        "from sklearn.model_selection import train_test_split\n",
        "\n",
        "from tensorflow.python.keras.utils import np_utils\n",
        "from tensorflow.python.keras.models import Sequential, Model\n",
        "from tensorflow.python.keras.layers import Dense, Dropout, Flatten, Activation, BatchNormalization\n",
        "from tensorflow.python.keras.layers.convolutional import Conv2D, MaxPooling2D, AveragePooling2D\n",
        "from tensorflow.python.keras.preprocessing.image import ImageDataGenerator\n",
        "from tensorflow.python.keras.optimizers import RMSprop\n",
        "from tensorflow.python.keras.applications.vgg19 import VGG19\n",
        "from tensorflow.python.keras.applications.mobilenet import MobileNet\n",
        "from tensorflow.keras.applications.resnet50 import ResNet50, preprocess_input\n",
        "from tensorflow.keras.optimizers import Adam\n",
        "from keras.applications import InceptionV3\n",
        "sys.version"
      ],
      "execution_count": 5,
      "outputs": [
        {
          "output_type": "execute_result",
          "data": {
            "application/vnd.google.colaboratory.intrinsic+json": {
              "type": "string"
            },
            "text/plain": [
              "'3.6.9 (default, Oct  8 2020, 12:12:24) \\n[GCC 8.4.0]'"
            ]
          },
          "metadata": {
            "tags": []
          },
          "execution_count": 5
        }
      ]
    },
    {
      "cell_type": "code",
      "metadata": {
        "id": "SM_5RRq_bAAp",
        "colab": {
          "base_uri": "https://localhost:8080/"
        },
        "outputId": "2d031f3d-41a8-4ff3-bfef-a97c21a22a60"
      },
      "source": [
        "from tensorflow.compat.v1.keras.backend import set_session\n",
        "\n",
        "config = tf.compat.v1.ConfigProto()\n",
        "\n",
        "config.gpu_options.allow_growth = True  # dynamically grow the memory used on the GPU\n",
        "\n",
        "config.log_device_placement = True  # to log device placement (on which device the operation ran)\n",
        "\n",
        "sess = tf.compat.v1.Session(config=config)\n",
        "\n",
        "set_session(sess)"
      ],
      "execution_count": 6,
      "outputs": [
        {
          "output_type": "stream",
          "text": [
            "Device mapping:\n",
            "/job:localhost/replica:0/task:0/device:XLA_CPU:0 -> device: XLA_CPU device\n",
            "/job:localhost/replica:0/task:0/device:XLA_GPU:0 -> device: XLA_GPU device\n",
            "/job:localhost/replica:0/task:0/device:GPU:0 -> device: 0, name: Tesla T4, pci bus id: 0000:00:04.0, compute capability: 7.5\n",
            "\n"
          ],
          "name": "stdout"
        }
      ]
    },
    {
      "cell_type": "code",
      "metadata": {
        "id": "9vm7Vog_bEAP"
      },
      "source": [
        "DATASET_PATH  = 'thaiherb/'\n",
        "IMAGE_SIZE    = (224, 224)\n",
        "NUM_CLASSES   = 10\n",
        "BATCH_SIZE    = 32  # try reducing batch size or freeze more layers if your GPU runs out of memory\n",
        "epochs    = 200"
      ],
      "execution_count": 13,
      "outputs": []
    },
    {
      "cell_type": "code",
      "metadata": {
        "id": "PNu6CAPDbECl"
      },
      "source": [
        "#ทำ aug มาเเล้ว\n",
        "train_datagen = ImageDataGenerator(preprocessing_function=preprocess_input)"
      ],
      "execution_count": 8,
      "outputs": []
    },
    {
      "cell_type": "code",
      "metadata": {
        "id": "jDKsFAH_bEE1",
        "colab": {
          "base_uri": "https://localhost:8080/"
        },
        "outputId": "1c8d0b29-1034-4e64-9545-248f6069e39c"
      },
      "source": [
        "#set training data\n",
        "train_generator = train_datagen.flow_from_directory(DATASET_PATH+ r\"train/\",\n",
        "                                                    target_size = IMAGE_SIZE,\n",
        "                                                    # batch_size = BATCH_SIZE,\n",
        "                                                    class_mode='categorical',\n",
        "                                                    shuffle = True,\n",
        "                                                    subset='training')"
      ],
      "execution_count": 9,
      "outputs": [
        {
          "output_type": "stream",
          "text": [
            "Found 825 images belonging to 10 classes.\n"
          ],
          "name": "stdout"
        }
      ]
    },
    {
      "cell_type": "code",
      "metadata": {
        "id": "w1nB7VakbG_d",
        "colab": {
          "base_uri": "https://localhost:8080/"
        },
        "outputId": "bf3b2637-9571-469f-f912-4a842bd188d9"
      },
      "source": [
        "valid_datagen = ImageDataGenerator(preprocessing_function=preprocess_input)\n",
        "valid_generator = valid_datagen.flow_from_directory(DATASET_PATH+ r\"val/\",                                      \n",
        "                                                    target_size = IMAGE_SIZE,\n",
        "                                                    # batch_size = 1,\n",
        "                                                    class_mode='categorical',\n",
        "                                                    shuffle = True\n",
        "                                                    )"
      ],
      "execution_count": 10,
      "outputs": [
        {
          "output_type": "stream",
          "text": [
            "Found 359 images belonging to 10 classes.\n"
          ],
          "name": "stdout"
        }
      ]
    },
    {
      "cell_type": "markdown",
      "metadata": {
        "id": "5H1qvuqFbNM6"
      },
      "source": [
        "### **Model VGG19**"
      ]
    },
    {
      "cell_type": "code",
      "metadata": {
        "id": "T9TaFF44bHBy",
        "colab": {
          "base_uri": "https://localhost:8080/"
        },
        "outputId": "3fd8ccb1-d6eb-4edf-e1dc-e66c27c71afc"
      },
      "source": [
        "# Include the epoch in the file name (uses `str.format`)\n",
        "checkpoint_path = \"training_VGG19/cp-{epoch:04d}.ckpt\"\n",
        "checkpoint_dir = os.path.dirname(checkpoint_path)\n",
        "\n",
        "# Create a callback that saves the model's weights every 5 epochs\n",
        "cp_callback = tf.keras.callbacks.ModelCheckpoint(\n",
        "    filepath=checkpoint_path, \n",
        "    verbose=1, \n",
        "    save_weights_only=True,\n",
        "    period=50)\n",
        "\n",
        "#Create the model\n",
        "def create_model_from_VGG19():\n",
        "    \"\"\"\n",
        "      use VGG19\n",
        "    \"\"\"\n",
        "    model = VGG19(weights = \"imagenet\", include_top=False, input_tensor=None, input_shape = (224, 224, 3))\n",
        "    \n",
        "    #5 layers เเรก จะไม่ถูกฝึกเนื่องจากใช้วิธีการ freeze ไว้เเล้ว\n",
        "    for layer in model.layers[:1]:\n",
        "      layer.trainable = False\n",
        "      \n",
        "    #ทำการเพิ่ม layers ที่กำหนดขึ้นมาเอง เป็นการปรับเเต่งเพื่อเพิ่มประสิทธิภาพ \n",
        "    x = model.output\n",
        "    x = Flatten()(x)\n",
        "    x = Dense(1024, activation=\"relu\")(x)\n",
        "    x = Dropout(0.5)(x)\n",
        "    x = Dense(1024, activation=\"relu\")(x)\n",
        "    predictions = Dense(NUM_CLASSES, activation=\"softmax\")(x)\n",
        "    \n",
        "    #สร้าง model ชั้นสุดท้ายเพื่อจะนำมา compile\n",
        "    model_VGG19 = Model(inputs = model.input, outputs = predictions)\n",
        "    \n",
        "    model_VGG19.compile(loss='categorical_crossentropy', optimizer=Adam(lr=0.0001), metrics=['accuracy']) # optimizer=RMSprop(lr=0.001)\n",
        "\n",
        "    return model_VGG19\n",
        "\n",
        "    # Save the weights using the `checkpoint_path` format\n",
        "    model_VGG19.save_weights(checkpoint_path.format(epoch=0))"
      ],
      "execution_count": 11,
      "outputs": [
        {
          "output_type": "stream",
          "text": [
            "WARNING:tensorflow:`period` argument is deprecated. Please use `save_freq` to specify the frequency in number of batches seen.\n"
          ],
          "name": "stdout"
        }
      ]
    },
    {
      "cell_type": "code",
      "metadata": {
        "id": "TnKEGJjKbHEL",
        "colab": {
          "base_uri": "https://localhost:8080/"
        },
        "outputId": "83e769bd-fbf1-49be-c42d-a495fd8a2fa2"
      },
      "source": [
        "model_VGG19 = create_model_from_VGG19()\n",
        "model_VGG19.summary()"
      ],
      "execution_count": 12,
      "outputs": [
        {
          "output_type": "stream",
          "text": [
            "Downloading data from https://storage.googleapis.com/tensorflow/keras-applications/vgg19/vgg19_weights_tf_dim_ordering_tf_kernels_notop.h5\n",
            "80142336/80134624 [==============================] - 0s 0us/step\n",
            "Model: \"functional_1\"\n",
            "_________________________________________________________________\n",
            "Layer (type)                 Output Shape              Param #   \n",
            "=================================================================\n",
            "input_1 (InputLayer)         [(None, 224, 224, 3)]     0         \n",
            "_________________________________________________________________\n",
            "block1_conv1 (Conv2D)        (None, 224, 224, 64)      1792      \n",
            "_________________________________________________________________\n",
            "block1_conv2 (Conv2D)        (None, 224, 224, 64)      36928     \n",
            "_________________________________________________________________\n",
            "block1_pool (MaxPooling2D)   (None, 112, 112, 64)      0         \n",
            "_________________________________________________________________\n",
            "block2_conv1 (Conv2D)        (None, 112, 112, 128)     73856     \n",
            "_________________________________________________________________\n",
            "block2_conv2 (Conv2D)        (None, 112, 112, 128)     147584    \n",
            "_________________________________________________________________\n",
            "block2_pool (MaxPooling2D)   (None, 56, 56, 128)       0         \n",
            "_________________________________________________________________\n",
            "block3_conv1 (Conv2D)        (None, 56, 56, 256)       295168    \n",
            "_________________________________________________________________\n",
            "block3_conv2 (Conv2D)        (None, 56, 56, 256)       590080    \n",
            "_________________________________________________________________\n",
            "block3_conv3 (Conv2D)        (None, 56, 56, 256)       590080    \n",
            "_________________________________________________________________\n",
            "block3_conv4 (Conv2D)        (None, 56, 56, 256)       590080    \n",
            "_________________________________________________________________\n",
            "block3_pool (MaxPooling2D)   (None, 28, 28, 256)       0         \n",
            "_________________________________________________________________\n",
            "block4_conv1 (Conv2D)        (None, 28, 28, 512)       1180160   \n",
            "_________________________________________________________________\n",
            "block4_conv2 (Conv2D)        (None, 28, 28, 512)       2359808   \n",
            "_________________________________________________________________\n",
            "block4_conv3 (Conv2D)        (None, 28, 28, 512)       2359808   \n",
            "_________________________________________________________________\n",
            "block4_conv4 (Conv2D)        (None, 28, 28, 512)       2359808   \n",
            "_________________________________________________________________\n",
            "block4_pool (MaxPooling2D)   (None, 14, 14, 512)       0         \n",
            "_________________________________________________________________\n",
            "block5_conv1 (Conv2D)        (None, 14, 14, 512)       2359808   \n",
            "_________________________________________________________________\n",
            "block5_conv2 (Conv2D)        (None, 14, 14, 512)       2359808   \n",
            "_________________________________________________________________\n",
            "block5_conv3 (Conv2D)        (None, 14, 14, 512)       2359808   \n",
            "_________________________________________________________________\n",
            "block5_conv4 (Conv2D)        (None, 14, 14, 512)       2359808   \n",
            "_________________________________________________________________\n",
            "block5_pool (MaxPooling2D)   (None, 7, 7, 512)         0         \n",
            "_________________________________________________________________\n",
            "flatten (Flatten)            (None, 25088)             0         \n",
            "_________________________________________________________________\n",
            "dense (Dense)                (None, 1024)              25691136  \n",
            "_________________________________________________________________\n",
            "dropout (Dropout)            (None, 1024)              0         \n",
            "_________________________________________________________________\n",
            "dense_1 (Dense)              (None, 1024)              1049600   \n",
            "_________________________________________________________________\n",
            "dense_2 (Dense)              (None, 10)                10250     \n",
            "=================================================================\n",
            "Total params: 46,775,370\n",
            "Trainable params: 46,775,370\n",
            "Non-trainable params: 0\n",
            "_________________________________________________________________\n"
          ],
          "name": "stdout"
        }
      ]
    },
    {
      "cell_type": "code",
      "metadata": {
        "id": "HqpePAyfbHGf",
        "colab": {
          "base_uri": "https://localhost:8080/"
        },
        "outputId": "3cca2ade-9177-4d6c-c144-0a6ec980a3bf"
      },
      "source": [
        "start = time.time()\n",
        "\n",
        "history = model_VGG19.fit_generator(\n",
        "    generator=train_generator, \n",
        "    steps_per_epoch=train_generator.samples//BATCH_SIZE,   # -> 106 # images 3392 = steps * batch_size = 106 * 32 \n",
        "    epochs=epochs, \n",
        "    validation_steps=valid_generator.samples//BATCH_SIZE, # -> 26 # images 832 = steps * batch_size = 26 * 32\n",
        "    validation_data=valid_generator,\n",
        "    callbacks = [cp_callback],\n",
        "    verbose = 1\n",
        ")\n",
        "\n",
        "end = time.time()\n",
        "duration = end - start\n",
        "print ('\\n model_VGG19 took %0.2f seconds (%0.1f minutes) to train for %d epochs'%(duration, duration/60, epochs) )"
      ],
      "execution_count": 14,
      "outputs": [
        {
          "output_type": "stream",
          "text": [
            "WARNING:tensorflow:From <ipython-input-14-7dcb0c81179e>:10: Model.fit_generator (from tensorflow.python.keras.engine.training) is deprecated and will be removed in a future version.\n",
            "Instructions for updating:\n",
            "Please use Model.fit, which supports generators.\n",
            "Epoch 1/200\n",
            " 2/25 [=>............................] - ETA: 5s - loss: 9.3425 - accuracy: 0.0625 WARNING:tensorflow:Callbacks method `on_train_batch_end` is slow compared to the batch time (batch time: 0.1427s vs `on_train_batch_end` time: 0.3398s). Check your callbacks.\n",
            "25/25 [==============================] - 16s 656ms/step - loss: 2.8755 - accuracy: 0.1501 - val_loss: 2.1968 - val_accuracy: 0.2443\n",
            "Epoch 2/200\n",
            "25/25 [==============================] - 14s 564ms/step - loss: 2.0961 - accuracy: 0.2245 - val_loss: 2.0035 - val_accuracy: 0.2216\n",
            "Epoch 3/200\n",
            "25/25 [==============================] - 15s 587ms/step - loss: 1.6066 - accuracy: 0.4111 - val_loss: 1.1196 - val_accuracy: 0.6477\n",
            "Epoch 4/200\n",
            "25/25 [==============================] - 15s 613ms/step - loss: 1.2682 - accuracy: 0.5876 - val_loss: 1.2254 - val_accuracy: 0.5824\n",
            "Epoch 5/200\n",
            "25/25 [==============================] - 15s 596ms/step - loss: 0.8714 - accuracy: 0.7074 - val_loss: 0.4922 - val_accuracy: 0.8153\n",
            "Epoch 6/200\n",
            "25/25 [==============================] - 15s 581ms/step - loss: 0.6952 - accuracy: 0.7667 - val_loss: 0.5924 - val_accuracy: 0.8153\n",
            "Epoch 7/200\n",
            "25/25 [==============================] - 14s 580ms/step - loss: 0.4654 - accuracy: 0.8388 - val_loss: 0.7103 - val_accuracy: 0.7273\n",
            "Epoch 8/200\n",
            "25/25 [==============================] - 15s 585ms/step - loss: 0.3250 - accuracy: 0.8928 - val_loss: 0.2680 - val_accuracy: 0.9148\n",
            "Epoch 9/200\n",
            "25/25 [==============================] - 15s 596ms/step - loss: 0.1799 - accuracy: 0.9357 - val_loss: 0.6821 - val_accuracy: 0.8210\n",
            "Epoch 10/200\n",
            "25/25 [==============================] - 15s 596ms/step - loss: 0.1828 - accuracy: 0.9445 - val_loss: 0.2033 - val_accuracy: 0.9290\n",
            "Epoch 11/200\n",
            "25/25 [==============================] - 15s 593ms/step - loss: 0.0967 - accuracy: 0.9697 - val_loss: 0.1510 - val_accuracy: 0.9403\n",
            "Epoch 12/200\n",
            "25/25 [==============================] - 15s 588ms/step - loss: 0.1209 - accuracy: 0.9672 - val_loss: 0.2593 - val_accuracy: 0.9375\n",
            "Epoch 13/200\n",
            "25/25 [==============================] - 15s 588ms/step - loss: 0.0914 - accuracy: 0.9660 - val_loss: 0.1975 - val_accuracy: 0.9489\n",
            "Epoch 14/200\n",
            "25/25 [==============================] - 15s 591ms/step - loss: 0.1417 - accuracy: 0.9546 - val_loss: 0.2801 - val_accuracy: 0.9347\n",
            "Epoch 15/200\n",
            "25/25 [==============================] - 15s 591ms/step - loss: 0.0860 - accuracy: 0.9760 - val_loss: 0.1584 - val_accuracy: 0.9574\n",
            "Epoch 16/200\n",
            "25/25 [==============================] - 15s 592ms/step - loss: 0.1328 - accuracy: 0.9508 - val_loss: 0.1066 - val_accuracy: 0.9659\n",
            "Epoch 17/200\n",
            "25/25 [==============================] - 15s 593ms/step - loss: 0.1878 - accuracy: 0.9470 - val_loss: 0.2113 - val_accuracy: 0.9318\n",
            "Epoch 18/200\n",
            "25/25 [==============================] - 15s 593ms/step - loss: 0.1146 - accuracy: 0.9622 - val_loss: 0.2775 - val_accuracy: 0.8949\n",
            "Epoch 19/200\n",
            "25/25 [==============================] - 15s 592ms/step - loss: 0.0640 - accuracy: 0.9823 - val_loss: 0.1095 - val_accuracy: 0.9716\n",
            "Epoch 20/200\n",
            "25/25 [==============================] - 15s 593ms/step - loss: 0.0493 - accuracy: 0.9836 - val_loss: 0.0791 - val_accuracy: 0.9773\n",
            "Epoch 21/200\n",
            "25/25 [==============================] - 15s 591ms/step - loss: 0.0321 - accuracy: 0.9912 - val_loss: 0.0826 - val_accuracy: 0.9631\n",
            "Epoch 22/200\n",
            "25/25 [==============================] - 15s 592ms/step - loss: 0.0127 - accuracy: 0.9975 - val_loss: 0.1886 - val_accuracy: 0.9545\n",
            "Epoch 23/200\n",
            "25/25 [==============================] - 15s 592ms/step - loss: 0.0470 - accuracy: 0.9924 - val_loss: 0.0717 - val_accuracy: 0.9801\n",
            "Epoch 24/200\n",
            "25/25 [==============================] - 15s 592ms/step - loss: 0.0559 - accuracy: 0.9861 - val_loss: 0.1226 - val_accuracy: 0.9688\n",
            "Epoch 25/200\n",
            "25/25 [==============================] - 15s 592ms/step - loss: 0.0776 - accuracy: 0.9748 - val_loss: 0.6205 - val_accuracy: 0.8494\n",
            "Epoch 26/200\n",
            "25/25 [==============================] - 15s 591ms/step - loss: 0.2058 - accuracy: 0.9445 - val_loss: 0.2221 - val_accuracy: 0.9290\n",
            "Epoch 27/200\n",
            "25/25 [==============================] - 15s 592ms/step - loss: 0.0455 - accuracy: 0.9861 - val_loss: 0.1252 - val_accuracy: 0.9602\n",
            "Epoch 28/200\n",
            "25/25 [==============================] - 15s 591ms/step - loss: 0.2213 - accuracy: 0.9357 - val_loss: 0.2332 - val_accuracy: 0.9403\n",
            "Epoch 29/200\n",
            "25/25 [==============================] - 15s 591ms/step - loss: 0.3106 - accuracy: 0.9079 - val_loss: 0.2864 - val_accuracy: 0.9318\n",
            "Epoch 30/200\n",
            "25/25 [==============================] - 15s 590ms/step - loss: 0.0964 - accuracy: 0.9735 - val_loss: 0.1473 - val_accuracy: 0.9460\n",
            "Epoch 31/200\n",
            "25/25 [==============================] - 15s 589ms/step - loss: 0.0249 - accuracy: 0.9912 - val_loss: 0.1013 - val_accuracy: 0.9716\n",
            "Epoch 32/200\n",
            "25/25 [==============================] - 15s 592ms/step - loss: 0.0080 - accuracy: 0.9962 - val_loss: 0.1061 - val_accuracy: 0.9716\n",
            "Epoch 33/200\n",
            "25/25 [==============================] - 15s 589ms/step - loss: 0.0104 - accuracy: 0.9962 - val_loss: 0.0903 - val_accuracy: 0.9801\n",
            "Epoch 34/200\n",
            "25/25 [==============================] - 15s 592ms/step - loss: 0.0046 - accuracy: 0.9987 - val_loss: 0.0533 - val_accuracy: 0.9801\n",
            "Epoch 35/200\n",
            "25/25 [==============================] - 15s 591ms/step - loss: 3.2911e-04 - accuracy: 1.0000 - val_loss: 0.0510 - val_accuracy: 0.9886\n",
            "Epoch 36/200\n",
            "25/25 [==============================] - 15s 594ms/step - loss: 3.2138e-04 - accuracy: 1.0000 - val_loss: 0.0538 - val_accuracy: 0.9858\n",
            "Epoch 37/200\n",
            "25/25 [==============================] - 15s 592ms/step - loss: 1.7139e-04 - accuracy: 1.0000 - val_loss: 0.0490 - val_accuracy: 0.9886\n",
            "Epoch 38/200\n",
            "25/25 [==============================] - 15s 592ms/step - loss: 1.8719e-04 - accuracy: 1.0000 - val_loss: 0.0511 - val_accuracy: 0.9886\n",
            "Epoch 39/200\n",
            "25/25 [==============================] - 15s 591ms/step - loss: 1.7111e-04 - accuracy: 1.0000 - val_loss: 0.0534 - val_accuracy: 0.9858\n",
            "Epoch 40/200\n",
            "25/25 [==============================] - 15s 590ms/step - loss: 1.3520e-04 - accuracy: 1.0000 - val_loss: 0.0526 - val_accuracy: 0.9858\n",
            "Epoch 41/200\n",
            "25/25 [==============================] - 15s 589ms/step - loss: 1.5743e-04 - accuracy: 1.0000 - val_loss: 0.0493 - val_accuracy: 0.9886\n",
            "Epoch 42/200\n",
            "25/25 [==============================] - 15s 591ms/step - loss: 4.2838e-05 - accuracy: 1.0000 - val_loss: 0.0482 - val_accuracy: 0.9858\n",
            "Epoch 43/200\n",
            "25/25 [==============================] - 15s 595ms/step - loss: 1.1703e-04 - accuracy: 1.0000 - val_loss: 0.0520 - val_accuracy: 0.9830\n",
            "Epoch 44/200\n",
            "25/25 [==============================] - 15s 594ms/step - loss: 7.2940e-05 - accuracy: 1.0000 - val_loss: 0.0554 - val_accuracy: 0.9830\n",
            "Epoch 45/200\n",
            "25/25 [==============================] - 15s 593ms/step - loss: 3.4372e-05 - accuracy: 1.0000 - val_loss: 0.0654 - val_accuracy: 0.9830\n",
            "Epoch 46/200\n",
            "25/25 [==============================] - 15s 593ms/step - loss: 3.5402e-05 - accuracy: 1.0000 - val_loss: 0.0623 - val_accuracy: 0.9830\n",
            "Epoch 47/200\n",
            "25/25 [==============================] - 15s 591ms/step - loss: 9.5824e-06 - accuracy: 1.0000 - val_loss: 0.0608 - val_accuracy: 0.9830\n",
            "Epoch 48/200\n",
            "25/25 [==============================] - 15s 592ms/step - loss: 1.0842e-05 - accuracy: 1.0000 - val_loss: 0.0605 - val_accuracy: 0.9830\n",
            "Epoch 49/200\n",
            "25/25 [==============================] - 15s 592ms/step - loss: 7.2851e-06 - accuracy: 1.0000 - val_loss: 0.0517 - val_accuracy: 0.9886\n",
            "Epoch 50/200\n",
            "25/25 [==============================] - ETA: 0s - loss: 1.2225e-05 - accuracy: 1.0000\n",
            "Epoch 00050: saving model to training_VGG19/cp-0050.ckpt\n",
            "25/25 [==============================] - 17s 671ms/step - loss: 1.2225e-05 - accuracy: 1.0000 - val_loss: 0.0656 - val_accuracy: 0.9801\n",
            "Epoch 51/200\n",
            "25/25 [==============================] - 15s 591ms/step - loss: 1.4729e-05 - accuracy: 1.0000 - val_loss: 0.0638 - val_accuracy: 0.9801\n",
            "Epoch 52/200\n",
            "25/25 [==============================] - 15s 594ms/step - loss: 9.6829e-06 - accuracy: 1.0000 - val_loss: 0.0718 - val_accuracy: 0.9830\n",
            "Epoch 53/200\n",
            "25/25 [==============================] - 15s 593ms/step - loss: 0.0031 - accuracy: 0.9987 - val_loss: 0.0828 - val_accuracy: 0.9830\n",
            "Epoch 54/200\n",
            "25/25 [==============================] - 15s 590ms/step - loss: 0.0854 - accuracy: 0.9773 - val_loss: 0.1519 - val_accuracy: 0.9489\n",
            "Epoch 55/200\n",
            "25/25 [==============================] - 15s 589ms/step - loss: 0.2650 - accuracy: 0.9319 - val_loss: 0.6689 - val_accuracy: 0.8381\n",
            "Epoch 56/200\n",
            "25/25 [==============================] - 15s 589ms/step - loss: 0.5886 - accuracy: 0.8213 - val_loss: 0.4487 - val_accuracy: 0.8636\n",
            "Epoch 57/200\n",
            "25/25 [==============================] - 15s 587ms/step - loss: 0.2609 - accuracy: 0.9180 - val_loss: 0.3388 - val_accuracy: 0.8977\n",
            "Epoch 58/200\n",
            "25/25 [==============================] - 15s 588ms/step - loss: 0.1405 - accuracy: 0.9533 - val_loss: 0.2546 - val_accuracy: 0.9148\n",
            "Epoch 59/200\n",
            "25/25 [==============================] - 15s 591ms/step - loss: 0.1415 - accuracy: 0.9609 - val_loss: 0.6881 - val_accuracy: 0.8466\n",
            "Epoch 60/200\n",
            "25/25 [==============================] - 15s 591ms/step - loss: 0.1235 - accuracy: 0.9634 - val_loss: 0.1629 - val_accuracy: 0.9545\n",
            "Epoch 61/200\n",
            "25/25 [==============================] - 15s 591ms/step - loss: 0.2030 - accuracy: 0.9445 - val_loss: 0.4229 - val_accuracy: 0.8722\n",
            "Epoch 62/200\n",
            "25/25 [==============================] - 15s 591ms/step - loss: 0.1952 - accuracy: 0.9546 - val_loss: 0.2865 - val_accuracy: 0.9261\n",
            "Epoch 63/200\n",
            "25/25 [==============================] - 15s 592ms/step - loss: 0.1140 - accuracy: 0.9575 - val_loss: 0.2554 - val_accuracy: 0.9347\n",
            "Epoch 64/200\n",
            "25/25 [==============================] - 15s 589ms/step - loss: 0.0087 - accuracy: 0.9987 - val_loss: 0.1266 - val_accuracy: 0.9545\n",
            "Epoch 65/200\n",
            "25/25 [==============================] - 15s 590ms/step - loss: 0.0366 - accuracy: 0.9861 - val_loss: 0.1335 - val_accuracy: 0.9545\n",
            "Epoch 66/200\n",
            "25/25 [==============================] - 15s 590ms/step - loss: 0.0490 - accuracy: 0.9849 - val_loss: 0.1036 - val_accuracy: 0.9631\n",
            "Epoch 67/200\n",
            "25/25 [==============================] - 15s 589ms/step - loss: 0.0076 - accuracy: 0.9987 - val_loss: 0.1435 - val_accuracy: 0.9489\n",
            "Epoch 68/200\n",
            "25/25 [==============================] - 15s 589ms/step - loss: 0.0443 - accuracy: 0.9861 - val_loss: 0.3269 - val_accuracy: 0.9006\n",
            "Epoch 69/200\n",
            "25/25 [==============================] - 15s 588ms/step - loss: 0.0442 - accuracy: 0.9849 - val_loss: 0.1237 - val_accuracy: 0.9631\n",
            "Epoch 70/200\n",
            "25/25 [==============================] - 15s 587ms/step - loss: 0.0150 - accuracy: 0.9962 - val_loss: 0.1145 - val_accuracy: 0.9688\n",
            "Epoch 71/200\n",
            "25/25 [==============================] - 15s 588ms/step - loss: 0.0016 - accuracy: 1.0000 - val_loss: 0.0942 - val_accuracy: 0.9716\n",
            "Epoch 72/200\n",
            "25/25 [==============================] - 15s 589ms/step - loss: 5.1363e-04 - accuracy: 1.0000 - val_loss: 0.0847 - val_accuracy: 0.9716\n",
            "Epoch 73/200\n",
            "25/25 [==============================] - 15s 589ms/step - loss: 3.7431e-04 - accuracy: 1.0000 - val_loss: 0.0841 - val_accuracy: 0.9716\n",
            "Epoch 74/200\n",
            "25/25 [==============================] - 15s 588ms/step - loss: 1.5024e-04 - accuracy: 1.0000 - val_loss: 0.0847 - val_accuracy: 0.9716\n",
            "Epoch 75/200\n",
            "25/25 [==============================] - 15s 589ms/step - loss: 2.4192e-04 - accuracy: 1.0000 - val_loss: 0.0807 - val_accuracy: 0.9744\n",
            "Epoch 76/200\n",
            "25/25 [==============================] - 15s 589ms/step - loss: 1.8258e-04 - accuracy: 1.0000 - val_loss: 0.0823 - val_accuracy: 0.9744\n",
            "Epoch 77/200\n",
            "25/25 [==============================] - 15s 591ms/step - loss: 1.5065e-04 - accuracy: 1.0000 - val_loss: 0.0891 - val_accuracy: 0.9716\n",
            "Epoch 78/200\n",
            "25/25 [==============================] - 15s 589ms/step - loss: 9.2491e-05 - accuracy: 1.0000 - val_loss: 0.0891 - val_accuracy: 0.9716\n",
            "Epoch 79/200\n",
            "25/25 [==============================] - 15s 589ms/step - loss: 7.1702e-05 - accuracy: 1.0000 - val_loss: 0.0880 - val_accuracy: 0.9716\n",
            "Epoch 80/200\n",
            "25/25 [==============================] - 15s 588ms/step - loss: 1.4850e-04 - accuracy: 1.0000 - val_loss: 0.0809 - val_accuracy: 0.9744\n",
            "Epoch 81/200\n",
            "25/25 [==============================] - 15s 588ms/step - loss: 5.3510e-05 - accuracy: 1.0000 - val_loss: 0.0857 - val_accuracy: 0.9716\n",
            "Epoch 82/200\n",
            "25/25 [==============================] - 15s 588ms/step - loss: 2.3030e-04 - accuracy: 1.0000 - val_loss: 0.0727 - val_accuracy: 0.9744\n",
            "Epoch 83/200\n",
            "25/25 [==============================] - 15s 590ms/step - loss: 4.0219e-05 - accuracy: 1.0000 - val_loss: 0.0787 - val_accuracy: 0.9716\n",
            "Epoch 84/200\n",
            "25/25 [==============================] - 15s 590ms/step - loss: 5.2846e-05 - accuracy: 1.0000 - val_loss: 0.0869 - val_accuracy: 0.9716\n",
            "Epoch 85/200\n",
            "25/25 [==============================] - 15s 591ms/step - loss: 3.4681e-05 - accuracy: 1.0000 - val_loss: 0.0716 - val_accuracy: 0.9716\n",
            "Epoch 86/200\n",
            "25/25 [==============================] - 15s 591ms/step - loss: 2.3238e-05 - accuracy: 1.0000 - val_loss: 0.0786 - val_accuracy: 0.9716\n",
            "Epoch 87/200\n",
            "25/25 [==============================] - 15s 591ms/step - loss: 2.0676e-05 - accuracy: 1.0000 - val_loss: 0.0772 - val_accuracy: 0.9773\n",
            "Epoch 88/200\n",
            "25/25 [==============================] - 15s 590ms/step - loss: 8.0446e-06 - accuracy: 1.0000 - val_loss: 0.0800 - val_accuracy: 0.9744\n",
            "Epoch 89/200\n",
            "25/25 [==============================] - 15s 590ms/step - loss: 7.7620e-06 - accuracy: 1.0000 - val_loss: 0.0863 - val_accuracy: 0.9744\n",
            "Epoch 90/200\n",
            "25/25 [==============================] - 15s 590ms/step - loss: 5.2097e-06 - accuracy: 1.0000 - val_loss: 0.0896 - val_accuracy: 0.9744\n",
            "Epoch 91/200\n",
            "25/25 [==============================] - 15s 589ms/step - loss: 4.1826e-05 - accuracy: 1.0000 - val_loss: 0.0715 - val_accuracy: 0.9744\n",
            "Epoch 92/200\n",
            "25/25 [==============================] - 15s 591ms/step - loss: 5.3678e-05 - accuracy: 1.0000 - val_loss: 0.0716 - val_accuracy: 0.9744\n",
            "Epoch 93/200\n",
            "25/25 [==============================] - 15s 590ms/step - loss: 1.0901e-05 - accuracy: 1.0000 - val_loss: 0.0723 - val_accuracy: 0.9744\n",
            "Epoch 94/200\n",
            "25/25 [==============================] - 15s 590ms/step - loss: 1.6280e-05 - accuracy: 1.0000 - val_loss: 0.0790 - val_accuracy: 0.9744\n",
            "Epoch 95/200\n",
            "25/25 [==============================] - 15s 592ms/step - loss: 1.3904e-05 - accuracy: 1.0000 - val_loss: 0.0769 - val_accuracy: 0.9716\n",
            "Epoch 96/200\n",
            "25/25 [==============================] - 15s 590ms/step - loss: 1.5063e-05 - accuracy: 1.0000 - val_loss: 0.0791 - val_accuracy: 0.9716\n",
            "Epoch 97/200\n",
            "25/25 [==============================] - 15s 590ms/step - loss: 2.0205e-05 - accuracy: 1.0000 - val_loss: 0.0779 - val_accuracy: 0.9716\n",
            "Epoch 98/200\n",
            "25/25 [==============================] - 15s 590ms/step - loss: 7.0177e-06 - accuracy: 1.0000 - val_loss: 0.0809 - val_accuracy: 0.9744\n",
            "Epoch 99/200\n",
            "25/25 [==============================] - 15s 588ms/step - loss: 1.7950e-05 - accuracy: 1.0000 - val_loss: 0.0677 - val_accuracy: 0.9773\n",
            "Epoch 100/200\n",
            "25/25 [==============================] - ETA: 0s - loss: 1.0316e-05 - accuracy: 1.0000\n",
            "Epoch 00100: saving model to training_VGG19/cp-0100.ckpt\n",
            "25/25 [==============================] - 16s 660ms/step - loss: 1.0316e-05 - accuracy: 1.0000 - val_loss: 0.0777 - val_accuracy: 0.9716\n",
            "Epoch 101/200\n",
            "25/25 [==============================] - 15s 588ms/step - loss: 2.1992e-06 - accuracy: 1.0000 - val_loss: 0.0775 - val_accuracy: 0.9744\n",
            "Epoch 102/200\n",
            "25/25 [==============================] - 15s 591ms/step - loss: 6.3958e-06 - accuracy: 1.0000 - val_loss: 0.0777 - val_accuracy: 0.9744\n",
            "Epoch 103/200\n",
            "25/25 [==============================] - 15s 593ms/step - loss: 8.2432e-06 - accuracy: 1.0000 - val_loss: 0.0743 - val_accuracy: 0.9744\n",
            "Epoch 104/200\n",
            "25/25 [==============================] - 15s 592ms/step - loss: 3.3151e-06 - accuracy: 1.0000 - val_loss: 0.0753 - val_accuracy: 0.9744\n",
            "Epoch 105/200\n",
            "25/25 [==============================] - 15s 592ms/step - loss: 4.5284e-06 - accuracy: 1.0000 - val_loss: 0.0689 - val_accuracy: 0.9773\n",
            "Epoch 106/200\n",
            "25/25 [==============================] - 15s 589ms/step - loss: 2.5680e-06 - accuracy: 1.0000 - val_loss: 0.0744 - val_accuracy: 0.9744\n",
            "Epoch 107/200\n",
            "25/25 [==============================] - 15s 589ms/step - loss: 8.5261e-06 - accuracy: 1.0000 - val_loss: 0.0745 - val_accuracy: 0.9744\n",
            "Epoch 108/200\n",
            "25/25 [==============================] - 15s 588ms/step - loss: 1.6717e-06 - accuracy: 1.0000 - val_loss: 0.0664 - val_accuracy: 0.9773\n",
            "Epoch 109/200\n",
            "25/25 [==============================] - 15s 587ms/step - loss: 2.1674e-06 - accuracy: 1.0000 - val_loss: 0.0747 - val_accuracy: 0.9744\n",
            "Epoch 110/200\n",
            "25/25 [==============================] - 15s 588ms/step - loss: 8.9007e-07 - accuracy: 1.0000 - val_loss: 0.0748 - val_accuracy: 0.9744\n",
            "Epoch 111/200\n",
            "25/25 [==============================] - 15s 590ms/step - loss: 2.3145e-06 - accuracy: 1.0000 - val_loss: 0.0755 - val_accuracy: 0.9744\n",
            "Epoch 112/200\n",
            "25/25 [==============================] - 15s 589ms/step - loss: 2.0910e-06 - accuracy: 1.0000 - val_loss: 0.0769 - val_accuracy: 0.9744\n",
            "Epoch 113/200\n",
            "25/25 [==============================] - 15s 590ms/step - loss: 5.5451e-06 - accuracy: 1.0000 - val_loss: 0.0765 - val_accuracy: 0.9744\n",
            "Epoch 114/200\n",
            "25/25 [==============================] - 15s 592ms/step - loss: 5.6980e-06 - accuracy: 1.0000 - val_loss: 0.0692 - val_accuracy: 0.9744\n",
            "Epoch 115/200\n",
            "25/25 [==============================] - 15s 592ms/step - loss: 1.2481e-06 - accuracy: 1.0000 - val_loss: 0.0808 - val_accuracy: 0.9688\n",
            "Epoch 116/200\n",
            "25/25 [==============================] - 15s 591ms/step - loss: 4.8652e-06 - accuracy: 1.0000 - val_loss: 0.0732 - val_accuracy: 0.9773\n",
            "Epoch 117/200\n",
            "25/25 [==============================] - 15s 590ms/step - loss: 3.8707e-06 - accuracy: 1.0000 - val_loss: 0.0800 - val_accuracy: 0.9744\n",
            "Epoch 118/200\n",
            "25/25 [==============================] - 15s 589ms/step - loss: 1.1841e-06 - accuracy: 1.0000 - val_loss: 0.0793 - val_accuracy: 0.9744\n",
            "Epoch 119/200\n",
            "25/25 [==============================] - 15s 588ms/step - loss: 1.7238e-06 - accuracy: 1.0000 - val_loss: 0.0780 - val_accuracy: 0.9744\n",
            "Epoch 120/200\n",
            "25/25 [==============================] - 15s 589ms/step - loss: 2.3780e-06 - accuracy: 1.0000 - val_loss: 0.0766 - val_accuracy: 0.9744\n",
            "Epoch 121/200\n",
            "25/25 [==============================] - 15s 589ms/step - loss: 2.4000e-05 - accuracy: 1.0000 - val_loss: 0.0688 - val_accuracy: 0.9744\n",
            "Epoch 122/200\n",
            "25/25 [==============================] - 15s 588ms/step - loss: 1.8736e-06 - accuracy: 1.0000 - val_loss: 0.0809 - val_accuracy: 0.9716\n",
            "Epoch 123/200\n",
            "25/25 [==============================] - 15s 588ms/step - loss: 3.4941e-06 - accuracy: 1.0000 - val_loss: 0.0801 - val_accuracy: 0.9688\n",
            "Epoch 124/200\n",
            "25/25 [==============================] - 15s 591ms/step - loss: 2.4669e-06 - accuracy: 1.0000 - val_loss: 0.0615 - val_accuracy: 0.9716\n",
            "Epoch 125/200\n",
            "25/25 [==============================] - 15s 592ms/step - loss: 4.0441e-06 - accuracy: 1.0000 - val_loss: 0.0797 - val_accuracy: 0.9716\n",
            "Epoch 126/200\n",
            "25/25 [==============================] - 15s 591ms/step - loss: 2.0985e-06 - accuracy: 1.0000 - val_loss: 0.0792 - val_accuracy: 0.9716\n",
            "Epoch 127/200\n",
            "25/25 [==============================] - 15s 591ms/step - loss: 4.3699e-06 - accuracy: 1.0000 - val_loss: 0.0795 - val_accuracy: 0.9716\n",
            "Epoch 128/200\n",
            "25/25 [==============================] - 15s 592ms/step - loss: 2.8459e-06 - accuracy: 1.0000 - val_loss: 0.0800 - val_accuracy: 0.9716\n",
            "Epoch 129/200\n",
            "25/25 [==============================] - 15s 592ms/step - loss: 2.5484e-06 - accuracy: 1.0000 - val_loss: 0.0802 - val_accuracy: 0.9716\n",
            "Epoch 130/200\n",
            "25/25 [==============================] - 15s 592ms/step - loss: 2.7939e-06 - accuracy: 1.0000 - val_loss: 0.0803 - val_accuracy: 0.9744\n",
            "Epoch 131/200\n",
            "25/25 [==============================] - 15s 595ms/step - loss: 2.2711e-06 - accuracy: 1.0000 - val_loss: 0.0809 - val_accuracy: 0.9744\n",
            "Epoch 132/200\n",
            "25/25 [==============================] - 15s 592ms/step - loss: 3.2887e-06 - accuracy: 1.0000 - val_loss: 0.0785 - val_accuracy: 0.9744\n",
            "Epoch 133/200\n",
            "25/25 [==============================] - 15s 590ms/step - loss: 5.7265e-06 - accuracy: 1.0000 - val_loss: 0.0886 - val_accuracy: 0.9744\n",
            "Epoch 134/200\n",
            "25/25 [==============================] - 15s 591ms/step - loss: 1.2978e-06 - accuracy: 1.0000 - val_loss: 0.0998 - val_accuracy: 0.9744\n",
            "Epoch 135/200\n",
            "25/25 [==============================] - 15s 589ms/step - loss: 1.2005e-06 - accuracy: 1.0000 - val_loss: 0.1011 - val_accuracy: 0.9744\n",
            "Epoch 136/200\n",
            "25/25 [==============================] - 15s 590ms/step - loss: 6.1377e-07 - accuracy: 1.0000 - val_loss: 0.0989 - val_accuracy: 0.9716\n",
            "Epoch 137/200\n",
            "25/25 [==============================] - 15s 590ms/step - loss: 1.2605e-06 - accuracy: 1.0000 - val_loss: 0.0944 - val_accuracy: 0.9744\n",
            "Epoch 138/200\n",
            "25/25 [==============================] - 15s 592ms/step - loss: 9.6430e-07 - accuracy: 1.0000 - val_loss: 0.0924 - val_accuracy: 0.9744\n",
            "Epoch 139/200\n",
            "25/25 [==============================] - 15s 591ms/step - loss: 9.9330e-07 - accuracy: 1.0000 - val_loss: 0.0880 - val_accuracy: 0.9744\n",
            "Epoch 140/200\n",
            "25/25 [==============================] - 15s 590ms/step - loss: 1.3682e-06 - accuracy: 1.0000 - val_loss: 0.0878 - val_accuracy: 0.9744\n",
            "Epoch 141/200\n",
            "25/25 [==============================] - 15s 590ms/step - loss: 2.0350e-06 - accuracy: 1.0000 - val_loss: 0.0890 - val_accuracy: 0.9744\n",
            "Epoch 142/200\n",
            "25/25 [==============================] - 15s 591ms/step - loss: 1.2349e-05 - accuracy: 1.0000 - val_loss: 0.0889 - val_accuracy: 0.9744\n",
            "Epoch 143/200\n",
            "25/25 [==============================] - 15s 590ms/step - loss: 5.4671e-06 - accuracy: 1.0000 - val_loss: 0.0911 - val_accuracy: 0.9744\n",
            "Epoch 144/200\n",
            "25/25 [==============================] - 15s 589ms/step - loss: 7.4621e-06 - accuracy: 1.0000 - val_loss: 0.0922 - val_accuracy: 0.9744\n",
            "Epoch 145/200\n",
            "25/25 [==============================] - 15s 593ms/step - loss: 1.5383e-06 - accuracy: 1.0000 - val_loss: 0.0924 - val_accuracy: 0.9744\n",
            "Epoch 146/200\n",
            "25/25 [==============================] - 15s 589ms/step - loss: 1.7276e-06 - accuracy: 1.0000 - val_loss: 0.0921 - val_accuracy: 0.9744\n",
            "Epoch 147/200\n",
            "25/25 [==============================] - 15s 590ms/step - loss: 2.5895e-06 - accuracy: 1.0000 - val_loss: 0.0917 - val_accuracy: 0.9744\n",
            "Epoch 148/200\n",
            "25/25 [==============================] - 15s 591ms/step - loss: 2.4842e-06 - accuracy: 1.0000 - val_loss: 0.0914 - val_accuracy: 0.9744\n",
            "Epoch 149/200\n",
            "25/25 [==============================] - 15s 593ms/step - loss: 1.0764e-06 - accuracy: 1.0000 - val_loss: 0.0913 - val_accuracy: 0.9744\n",
            "Epoch 150/200\n",
            "25/25 [==============================] - ETA: 0s - loss: 3.9701e-07 - accuracy: 1.0000\n",
            "Epoch 00150: saving model to training_VGG19/cp-0150.ckpt\n",
            "25/25 [==============================] - 17s 663ms/step - loss: 3.9701e-07 - accuracy: 1.0000 - val_loss: 0.0911 - val_accuracy: 0.9744\n",
            "Epoch 151/200\n",
            "25/25 [==============================] - 15s 590ms/step - loss: 6.6798e-06 - accuracy: 1.0000 - val_loss: 0.0912 - val_accuracy: 0.9716\n",
            "Epoch 152/200\n",
            "25/25 [==============================] - 15s 593ms/step - loss: 2.6718e-06 - accuracy: 1.0000 - val_loss: 0.0933 - val_accuracy: 0.9744\n",
            "Epoch 153/200\n",
            "25/25 [==============================] - 15s 593ms/step - loss: 8.3370e-07 - accuracy: 1.0000 - val_loss: 0.0932 - val_accuracy: 0.9744\n",
            "Epoch 154/200\n",
            "25/25 [==============================] - 15s 590ms/step - loss: 1.4032e-06 - accuracy: 1.0000 - val_loss: 0.0925 - val_accuracy: 0.9744\n",
            "Epoch 155/200\n",
            "25/25 [==============================] - 15s 593ms/step - loss: 1.0626e-06 - accuracy: 1.0000 - val_loss: 0.0928 - val_accuracy: 0.9744\n",
            "Epoch 156/200\n",
            "25/25 [==============================] - 15s 591ms/step - loss: 1.7439e-06 - accuracy: 1.0000 - val_loss: 0.0898 - val_accuracy: 0.9716\n",
            "Epoch 157/200\n",
            "25/25 [==============================] - 15s 590ms/step - loss: 1.0099e-06 - accuracy: 1.0000 - val_loss: 0.0873 - val_accuracy: 0.9744\n",
            "Epoch 158/200\n",
            "25/25 [==============================] - 15s 589ms/step - loss: 1.1930e-06 - accuracy: 1.0000 - val_loss: 0.0895 - val_accuracy: 0.9716\n",
            "Epoch 159/200\n",
            "25/25 [==============================] - 15s 589ms/step - loss: 9.0803e-06 - accuracy: 1.0000 - val_loss: 0.0899 - val_accuracy: 0.9716\n",
            "Epoch 160/200\n",
            "25/25 [==============================] - 15s 590ms/step - loss: 8.5414e-07 - accuracy: 1.0000 - val_loss: 0.0843 - val_accuracy: 0.9773\n",
            "Epoch 161/200\n",
            "25/25 [==============================] - 15s 593ms/step - loss: 2.4016e-06 - accuracy: 1.0000 - val_loss: 0.0882 - val_accuracy: 0.9744\n",
            "Epoch 162/200\n",
            "25/25 [==============================] - 15s 588ms/step - loss: 7.9518e-07 - accuracy: 1.0000 - val_loss: 0.0883 - val_accuracy: 0.9744\n",
            "Epoch 163/200\n",
            "25/25 [==============================] - 15s 586ms/step - loss: 1.1767e-06 - accuracy: 1.0000 - val_loss: 0.0887 - val_accuracy: 0.9744\n",
            "Epoch 164/200\n",
            "25/25 [==============================] - 15s 589ms/step - loss: 1.0294e-06 - accuracy: 1.0000 - val_loss: 0.0915 - val_accuracy: 0.9744\n",
            "Epoch 165/200\n",
            "25/25 [==============================] - 15s 587ms/step - loss: 7.3311e-07 - accuracy: 1.0000 - val_loss: 0.0820 - val_accuracy: 0.9773\n",
            "Epoch 166/200\n",
            "25/25 [==============================] - 15s 589ms/step - loss: 6.4413e-07 - accuracy: 1.0000 - val_loss: 0.0909 - val_accuracy: 0.9744\n",
            "Epoch 167/200\n",
            "25/25 [==============================] - 15s 591ms/step - loss: 2.8231e-07 - accuracy: 1.0000 - val_loss: 0.0898 - val_accuracy: 0.9744\n",
            "Epoch 168/200\n",
            "25/25 [==============================] - 15s 589ms/step - loss: 6.5179e-07 - accuracy: 1.0000 - val_loss: 0.0897 - val_accuracy: 0.9744\n",
            "Epoch 169/200\n",
            "25/25 [==============================] - 15s 591ms/step - loss: 1.5932e-05 - accuracy: 1.0000 - val_loss: 0.0919 - val_accuracy: 0.9744\n",
            "Epoch 170/200\n",
            "25/25 [==============================] - 15s 590ms/step - loss: 4.1568e-06 - accuracy: 1.0000 - val_loss: 0.1168 - val_accuracy: 0.9716\n",
            "Epoch 171/200\n",
            "25/25 [==============================] - 15s 591ms/step - loss: 2.4397e-06 - accuracy: 1.0000 - val_loss: 0.1101 - val_accuracy: 0.9716\n",
            "Epoch 172/200\n",
            "25/25 [==============================] - 15s 594ms/step - loss: 9.9242e-07 - accuracy: 1.0000 - val_loss: 0.1084 - val_accuracy: 0.9744\n",
            "Epoch 173/200\n",
            "25/25 [==============================] - 15s 591ms/step - loss: 1.4535e-06 - accuracy: 1.0000 - val_loss: 0.1072 - val_accuracy: 0.9744\n",
            "Epoch 174/200\n",
            "25/25 [==============================] - 15s 590ms/step - loss: 1.0996e-06 - accuracy: 1.0000 - val_loss: 0.1055 - val_accuracy: 0.9716\n",
            "Epoch 175/200\n",
            "25/25 [==============================] - 15s 591ms/step - loss: 1.1187e-06 - accuracy: 1.0000 - val_loss: 0.1030 - val_accuracy: 0.9716\n",
            "Epoch 176/200\n",
            "25/25 [==============================] - 15s 593ms/step - loss: 6.2069e-07 - accuracy: 1.0000 - val_loss: 0.0993 - val_accuracy: 0.9744\n",
            "Epoch 177/200\n",
            "25/25 [==============================] - 15s 593ms/step - loss: 5.0359e-07 - accuracy: 1.0000 - val_loss: 0.1013 - val_accuracy: 0.9716\n",
            "Epoch 178/200\n",
            "25/25 [==============================] - 15s 592ms/step - loss: 4.9156e-07 - accuracy: 1.0000 - val_loss: 0.0983 - val_accuracy: 0.9744\n",
            "Epoch 179/200\n",
            "25/25 [==============================] - 15s 592ms/step - loss: 5.1095e-07 - accuracy: 1.0000 - val_loss: 0.1001 - val_accuracy: 0.9716\n",
            "Epoch 180/200\n",
            "25/25 [==============================] - 15s 591ms/step - loss: 1.1202e-06 - accuracy: 1.0000 - val_loss: 0.0977 - val_accuracy: 0.9744\n",
            "Epoch 181/200\n",
            "25/25 [==============================] - 15s 592ms/step - loss: 3.8332e-07 - accuracy: 1.0000 - val_loss: 0.0991 - val_accuracy: 0.9744\n",
            "Epoch 182/200\n",
            "25/25 [==============================] - 15s 591ms/step - loss: 8.4461e-07 - accuracy: 1.0000 - val_loss: 0.0988 - val_accuracy: 0.9744\n",
            "Epoch 183/200\n",
            "25/25 [==============================] - 15s 589ms/step - loss: 1.0407e-06 - accuracy: 1.0000 - val_loss: 0.0952 - val_accuracy: 0.9744\n",
            "Epoch 184/200\n",
            "25/25 [==============================] - 15s 592ms/step - loss: 2.3261e-07 - accuracy: 1.0000 - val_loss: 0.0969 - val_accuracy: 0.9744\n",
            "Epoch 185/200\n",
            "25/25 [==============================] - 15s 590ms/step - loss: 7.4921e-07 - accuracy: 1.0000 - val_loss: 0.0971 - val_accuracy: 0.9744\n",
            "Epoch 186/200\n",
            "25/25 [==============================] - 15s 590ms/step - loss: 2.1782e-07 - accuracy: 1.0000 - val_loss: 0.0972 - val_accuracy: 0.9744\n",
            "Epoch 187/200\n",
            "25/25 [==============================] - 15s 589ms/step - loss: 5.7376e-07 - accuracy: 1.0000 - val_loss: 0.0975 - val_accuracy: 0.9744\n",
            "Epoch 188/200\n",
            "25/25 [==============================] - 15s 589ms/step - loss: 2.0985e-07 - accuracy: 1.0000 - val_loss: 0.0887 - val_accuracy: 0.9773\n",
            "Epoch 189/200\n",
            "25/25 [==============================] - 15s 589ms/step - loss: 7.1776e-07 - accuracy: 1.0000 - val_loss: 0.0961 - val_accuracy: 0.9744\n",
            "Epoch 190/200\n",
            "25/25 [==============================] - 15s 590ms/step - loss: 1.5869e-06 - accuracy: 1.0000 - val_loss: 0.0977 - val_accuracy: 0.9744\n",
            "Epoch 191/200\n",
            "25/25 [==============================] - 15s 589ms/step - loss: 1.3950e-06 - accuracy: 1.0000 - val_loss: 0.0992 - val_accuracy: 0.9716\n",
            "Epoch 192/200\n",
            "25/25 [==============================] - 15s 589ms/step - loss: 5.0734e-07 - accuracy: 1.0000 - val_loss: 0.0994 - val_accuracy: 0.9716\n",
            "Epoch 193/200\n",
            "25/25 [==============================] - 15s 590ms/step - loss: 1.3068e-06 - accuracy: 1.0000 - val_loss: 0.0984 - val_accuracy: 0.9744\n",
            "Epoch 194/200\n",
            "25/25 [==============================] - 15s 591ms/step - loss: 5.7709e-07 - accuracy: 1.0000 - val_loss: 0.0981 - val_accuracy: 0.9744\n",
            "Epoch 195/200\n",
            "25/25 [==============================] - 15s 591ms/step - loss: 2.5781e-07 - accuracy: 1.0000 - val_loss: 0.0979 - val_accuracy: 0.9744\n",
            "Epoch 196/200\n",
            "25/25 [==============================] - 15s 590ms/step - loss: 3.9729e-07 - accuracy: 1.0000 - val_loss: 0.0972 - val_accuracy: 0.9744\n",
            "Epoch 197/200\n",
            "25/25 [==============================] - 15s 591ms/step - loss: 2.2834e-07 - accuracy: 1.0000 - val_loss: 0.0970 - val_accuracy: 0.9744\n",
            "Epoch 198/200\n",
            "25/25 [==============================] - 15s 591ms/step - loss: 1.7874e-07 - accuracy: 1.0000 - val_loss: 0.0965 - val_accuracy: 0.9744\n",
            "Epoch 199/200\n",
            "25/25 [==============================] - 15s 591ms/step - loss: 2.9824e-07 - accuracy: 1.0000 - val_loss: 0.0959 - val_accuracy: 0.9744\n",
            "Epoch 200/200\n",
            "25/25 [==============================] - ETA: 0s - loss: 3.4815e-07 - accuracy: 1.0000\n",
            "Epoch 00200: saving model to training_VGG19/cp-0200.ckpt\n",
            "25/25 [==============================] - 17s 661ms/step - loss: 3.4815e-07 - accuracy: 1.0000 - val_loss: 0.0929 - val_accuracy: 0.9773\n",
            "\n",
            " model_VGG19 took 3018.64 seconds (50.3 minutes) to train for 200 epochs\n"
          ],
          "name": "stdout"
        }
      ]
    },
    {
      "cell_type": "markdown",
      "metadata": {
        "id": "UIrhE3LMcsBU"
      },
      "source": [
        "###**ขั้นตอนการ Save file Model เเละ Json**"
      ]
    },
    {
      "cell_type": "code",
      "metadata": {
        "id": "5jkhbODRb0RH"
      },
      "source": [
        "#เปลี่ยนชื่อไฟล์ทุกครั้งเวลา SAVE\n",
        "model_VGG19.save('/content/drive/My Drive/Final Project/Dataset-Lab/Original/saved_model/model-vgg19(lastest).h5') #ดูจำนวนรอบที่เทรนด้วยว่าทั้งหมดกี่รอบจริงๆเเล้ว\n",
        "model_VGG19.save_weights('/content/drive/My Drive/Final Project/Dataset-Lab/Original/saved_model/weightmodel-vgg19.h5')"
      ],
      "execution_count": 16,
      "outputs": []
    },
    {
      "cell_type": "code",
      "metadata": {
        "id": "RUbahazNckQo"
      },
      "source": [
        "#Import dependencies\n",
        "!mkdir jsonfile\n",
        "import json\n",
        "from keras.models import model_from_json, load_model\n",
        "with open('jsonfile/model_VGG19.json', 'w') as f:\n",
        "    f.write(model_VGG19.to_json())\n",
        "print(\"Saved model success\")"
      ],
      "execution_count": null,
      "outputs": []
    },
    {
      "cell_type": "markdown",
      "metadata": {
        "id": "ctXhsc5pc-5N"
      },
      "source": [
        "###**เเสดงกราฟข้อมูลค่าความเเม่นยำเเละค่าความสูญเสีย Training เเละ Validation**"
      ]
    },
    {
      "cell_type": "code",
      "metadata": {
        "id": "k8UxPxbZdNzR",
        "colab": {
          "base_uri": "https://localhost:8080/",
          "height": 299
        },
        "outputId": "08870873-a00d-4381-aba0-03f73eee8296"
      },
      "source": [
        "import matplotlib.pyplot as plt\n",
        "\n",
        "acc = model_VGG19.history.history['accuracy']\n",
        "val_acc = model_VGG19.history.history['val_accuracy']\n",
        "\n",
        "loss= model_VGG19.history.history['loss']\n",
        "val_loss= model_VGG19.history.history['val_loss']\n",
        "\n",
        "\n",
        "plt.style.use(\"ggplot\")\n",
        "#  \"Accuracy\"\n",
        "plt.figure(figsize=(15, 4))\n",
        "plt.subplot(1, 2, 1)\n",
        "plt.plot(acc, label='Training Accuracy')\n",
        "plt.plot(val_acc, label='Validation Accuracy')\n",
        "plt.legend(loc='upper right')\n",
        "plt.title('Training and Validation Accuracy')\n",
        "plt.ylabel('accuracy')\n",
        "plt.xlabel('epochs')\n",
        "#  \"Loss\"\n",
        "plt.subplot(1, 2, 2)\n",
        "plt.plot(loss, label='Training Loss')\n",
        "plt.plot(val_loss, label='Validation Loss')\n",
        "plt.legend(loc='lower right')\n",
        "plt.title('Training and Validation Loss')\n",
        "plt.ylabel('loss')\n",
        "plt.xlabel('epochs')\n",
        "plt.show()"
      ],
      "execution_count": 17,
      "outputs": [
        {
          "output_type": "display_data",
          "data": {
            "image/png": "[encoded data removed]",
            "text/plain": [
              "<Figure size 1080x288 with 2 Axes>"
            ]
          },
          "metadata": {
            "tags": []
          }
        }
      ]
    },
    {
      "cell_type": "markdown",
      "metadata": {
        "id": "m0m3J0nidxqf"
      },
      "source": [
        "###**จุด Checkpoint**"
      ]
    },
    {
      "cell_type": "code",
      "metadata": {
        "id": "CjjRM_w0eE5D",
        "colab": {
          "base_uri": "https://localhost:8080/",
          "height": 35
        },
        "outputId": "56399f52-61c4-4512-9e53-3f46a7ab72d6"
      },
      "source": [
        "latest = tf.train.latest_checkpoint(checkpoint_dir)\n",
        "latest"
      ],
      "execution_count": 18,
      "outputs": [
        {
          "output_type": "execute_result",
          "data": {
            "application/vnd.google.colaboratory.intrinsic+json": {
              "type": "string"
            },
            "text/plain": [
              "'training_VGG19/cp-0200.ckpt'"
            ]
          },
          "metadata": {
            "tags": []
          },
          "execution_count": 18
        }
      ]
    },
    {
      "cell_type": "code",
      "metadata": {
        "id": "IBO8Q9Q4eE7E",
        "colab": {
          "base_uri": "https://localhost:8080/"
        },
        "outputId": "27038b29-802e-4275-9da9-3990c38cbb63"
      },
      "source": [
        "# Load the previously saved weights\n",
        "model_VGG19.load_weights(latest)\n",
        "\n",
        "# Re-evaluate the model\n",
        "loss, acc = model_VGG19.evaluate(valid_generator, verbose=2)\n",
        "print(\"Restored model, accuracy: {:5.2f}%\".format(100*acc))"
      ],
      "execution_count": 22,
      "outputs": [
        {
          "output_type": "stream",
          "text": [
            "12/12 - 2s - loss: 0.0949 - accuracy: 0.9749\n",
            "Restored model, accuracy: 97.49%\n"
          ],
          "name": "stdout"
        }
      ]
    },
    {
      "cell_type": "markdown",
      "metadata": {
        "id": "hOnDw5WeeNXc"
      },
      "source": [
        "###**Save model อีกเเบบเพื่อนำไปเเปลงเป็น TensorflwLite**"
      ]
    },
    {
      "cell_type": "code",
      "metadata": {
        "id": "WCKmhkZ2eVSt"
      },
      "source": [
        "# Save the entire model as a SavedModel.\n",
        "model_VGG19.save('saved_model/my_model') "
      ],
      "execution_count": null,
      "outputs": []
    },
    {
      "cell_type": "code",
      "metadata": {
        "id": "UiTau3PReVU1"
      },
      "source": [
        "model= tf.keras.models.load_model('saved_model/my_model')\n",
        "tflite_converter = tf.lite.TFLiteConverter.from_keras_model(model)\n",
        "tflite_model = tflite_converter.convert()\n",
        "open(\"tf_lite_model(200epochsvgg19).tflite\", \"wb\").write(tflite_model) "
      ],
      "execution_count": null,
      "outputs": []
    },
    {
      "cell_type": "markdown",
      "metadata": {
        "id": "Y7P6p0lzeq7g"
      },
      "source": [
        "###**ขั้นตอนของ Prediction เเบบบ Confusion Matrix**"
      ]
    },
    {
      "cell_type": "code",
      "metadata": {
        "id": "tA579sRAeVXH",
        "colab": {
          "base_uri": "https://localhost:8080/",
          "height": 346
        },
        "outputId": "14423653-18b4-42e7-cdc5-11759b9906a9"
      },
      "source": [
        "import seaborn as sn\n",
        "import pandas as pd\n",
        "\n",
        "model = tf.keras.models.load_model('/content/drive/My Drive/Final Project/Dataset-Lab/Original/saved_model/model-vgg19(lastest).h5')\n",
        "filenames = valid_generator.filenames\n",
        "nb_samples = len(valid_generator)\n",
        "y_prob=[]\n",
        "y_act=[]\n",
        "valid_generator.reset()\n",
        "for _ in range(nb_samples):\n",
        "    x_test, y_test = valid_generator.next()\n",
        "    y_prob.append(model.predict(x_test))\n",
        "    y_act.append(y_test)\n",
        "\n",
        "\n",
        "predicted_class = [list(train_generator.class_indices.keys())[i.argmax()] for i in y_prob]\n",
        "actual_class = [list(valid_generator.class_indices.keys())[i.argmax()] for i in y_act]\n",
        "\n",
        "out_df = pd.DataFrame(np.vstack([predicted_class,actual_class]).T,columns=['predicted_class', 'actual_class'])\n",
        "confusion_matrix = pd.crosstab(out_df['actual_class'],out_df['predicted_class'], rownames=['Actual'], colnames=['Predicted'])\n",
        "\n",
        "sn.heatmap(confusion_matrix, cmap='Blues', annot= True, fmt='d')\n",
        "plt.show()\n",
        "print('test accuracy : {}'.format((np.diagonal(confusion_matrix).sum()/confusion_matrix.sum().sum()*100)))"
      ],
      "execution_count": 21,
      "outputs": [
        {
          "output_type": "error",
          "ename": "IndexError",
          "evalue": "ignored",
          "traceback": [
            "\u001b[0;31m---------------------------------------------------------------------------\u001b[0m",
            "\u001b[0;31mIndexError\u001b[0m                                Traceback (most recent call last)",
            "\u001b[0;32m<ipython-input-21-c7d377745b90>\u001b[0m in \u001b[0;36m<module>\u001b[0;34m()\u001b[0m\n\u001b[1;32m     14\u001b[0m \u001b[0;34m\u001b[0m\u001b[0m\n\u001b[1;32m     15\u001b[0m \u001b[0;34m\u001b[0m\u001b[0m\n\u001b[0;32m---> 16\u001b[0;31m \u001b[0mpredicted_class\u001b[0m \u001b[0;34m=\u001b[0m \u001b[0;34m[\u001b[0m\u001b[0mlist\u001b[0m\u001b[0;34m(\u001b[0m\u001b[0mtrain_generator\u001b[0m\u001b[0;34m.\u001b[0m\u001b[0mclass_indices\u001b[0m\u001b[0;34m.\u001b[0m\u001b[0mkeys\u001b[0m\u001b[0;34m(\u001b[0m\u001b[0;34m)\u001b[0m\u001b[0;34m)\u001b[0m\u001b[0;34m[\u001b[0m\u001b[0mi\u001b[0m\u001b[0;34m.\u001b[0m\u001b[0margmax\u001b[0m\u001b[0;34m(\u001b[0m\u001b[0;34m)\u001b[0m\u001b[0;34m]\u001b[0m \u001b[0;32mfor\u001b[0m \u001b[0mi\u001b[0m \u001b[0;32min\u001b[0m \u001b[0my_prob\u001b[0m\u001b[0;34m]\u001b[0m\u001b[0;34m\u001b[0m\u001b[0;34m\u001b[0m\u001b[0m\n\u001b[0m\u001b[1;32m     17\u001b[0m \u001b[0mactual_class\u001b[0m \u001b[0;34m=\u001b[0m \u001b[0;34m[\u001b[0m\u001b[0mlist\u001b[0m\u001b[0;34m(\u001b[0m\u001b[0mvalid_generator\u001b[0m\u001b[0;34m.\u001b[0m\u001b[0mclass_indices\u001b[0m\u001b[0;34m.\u001b[0m\u001b[0mkeys\u001b[0m\u001b[0;34m(\u001b[0m\u001b[0;34m)\u001b[0m\u001b[0;34m)\u001b[0m\u001b[0;34m[\u001b[0m\u001b[0mi\u001b[0m\u001b[0;34m.\u001b[0m\u001b[0margmax\u001b[0m\u001b[0;34m(\u001b[0m\u001b[0;34m)\u001b[0m\u001b[0;34m]\u001b[0m \u001b[0;32mfor\u001b[0m \u001b[0mi\u001b[0m \u001b[0;32min\u001b[0m \u001b[0my_act\u001b[0m\u001b[0;34m]\u001b[0m\u001b[0;34m\u001b[0m\u001b[0;34m\u001b[0m\u001b[0m\n\u001b[1;32m     18\u001b[0m \u001b[0;34m\u001b[0m\u001b[0m\n",
            "\u001b[0;32m<ipython-input-21-c7d377745b90>\u001b[0m in \u001b[0;36m<listcomp>\u001b[0;34m(.0)\u001b[0m\n\u001b[1;32m     14\u001b[0m \u001b[0;34m\u001b[0m\u001b[0m\n\u001b[1;32m     15\u001b[0m \u001b[0;34m\u001b[0m\u001b[0m\n\u001b[0;32m---> 16\u001b[0;31m \u001b[0mpredicted_class\u001b[0m \u001b[0;34m=\u001b[0m \u001b[0;34m[\u001b[0m\u001b[0mlist\u001b[0m\u001b[0;34m(\u001b[0m\u001b[0mtrain_generator\u001b[0m\u001b[0;34m.\u001b[0m\u001b[0mclass_indices\u001b[0m\u001b[0;34m.\u001b[0m\u001b[0mkeys\u001b[0m\u001b[0;34m(\u001b[0m\u001b[0;34m)\u001b[0m\u001b[0;34m)\u001b[0m\u001b[0;34m[\u001b[0m\u001b[0mi\u001b[0m\u001b[0;34m.\u001b[0m\u001b[0margmax\u001b[0m\u001b[0;34m(\u001b[0m\u001b[0;34m)\u001b[0m\u001b[0;34m]\u001b[0m \u001b[0;32mfor\u001b[0m \u001b[0mi\u001b[0m \u001b[0;32min\u001b[0m \u001b[0my_prob\u001b[0m\u001b[0;34m]\u001b[0m\u001b[0;34m\u001b[0m\u001b[0;34m\u001b[0m\u001b[0m\n\u001b[0m\u001b[1;32m     17\u001b[0m \u001b[0mactual_class\u001b[0m \u001b[0;34m=\u001b[0m \u001b[0;34m[\u001b[0m\u001b[0mlist\u001b[0m\u001b[0;34m(\u001b[0m\u001b[0mvalid_generator\u001b[0m\u001b[0;34m.\u001b[0m\u001b[0mclass_indices\u001b[0m\u001b[0;34m.\u001b[0m\u001b[0mkeys\u001b[0m\u001b[0;34m(\u001b[0m\u001b[0;34m)\u001b[0m\u001b[0;34m)\u001b[0m\u001b[0;34m[\u001b[0m\u001b[0mi\u001b[0m\u001b[0;34m.\u001b[0m\u001b[0margmax\u001b[0m\u001b[0;34m(\u001b[0m\u001b[0;34m)\u001b[0m\u001b[0;34m]\u001b[0m \u001b[0;32mfor\u001b[0m \u001b[0mi\u001b[0m \u001b[0;32min\u001b[0m \u001b[0my_act\u001b[0m\u001b[0;34m]\u001b[0m\u001b[0;34m\u001b[0m\u001b[0;34m\u001b[0m\u001b[0m\n\u001b[1;32m     18\u001b[0m \u001b[0;34m\u001b[0m\u001b[0m\n",
            "\u001b[0;31mIndexError\u001b[0m: list index out of range"
          ]
        }
      ]
    },
    {
      "cell_type": "code",
      "metadata": {
        "id": "lvgpWgtkMn4g"
      },
      "source": [
        ""
      ],
      "execution_count": null,
      "outputs": []
    }
  ]
}